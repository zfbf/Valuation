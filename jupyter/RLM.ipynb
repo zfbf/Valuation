{
 "cells": [
  {
   "cell_type": "code",
   "execution_count": 1,
   "id": "c280782f-0468-4314-8623-217e5ab3ec2f",
   "metadata": {
    "tags": []
   },
   "outputs": [],
   "source": [
    "import pandas as pd\n",
    "import numpy as np"
   ]
  },
  {
   "cell_type": "code",
   "execution_count": 2,
   "id": "cb77f960-dd3f-437a-a6fd-efb478029473",
   "metadata": {},
   "outputs": [],
   "source": [
    "from lib.importacao.economatica.iochpe_dados_anuais import IochpeDadosAnuais\n",
    "from lib.valuation.valuation import Valuation\n",
    "from lib.valuation.factories.valuation_factory import ValuationDefaultFactory"
   ]
  },
  {
   "cell_type": "code",
   "execution_count": 3,
   "id": "81c2a57a-29fd-47cf-befb-0647ae799f07",
   "metadata": {},
   "outputs": [],
   "source": [
    "ida = IochpeDadosAnuais(2009, 2020)"
   ]
  },
  {
   "cell_type": "code",
   "execution_count": 4,
   "id": "fef59767-3b97-408e-9554-c08af2b16420",
   "metadata": {},
   "outputs": [],
   "source": [
    "ida.prepare()"
   ]
  },
  {
   "cell_type": "code",
   "execution_count": 5,
   "id": "67e7dfc8-ab34-4330-999c-95e10b8c960f",
   "metadata": {},
   "outputs": [],
   "source": [
    "valuation_factory = ValuationDefaultFactory()"
   ]
  },
  {
   "cell_type": "code",
   "execution_count": 6,
   "id": "bb40b36e-1611-402a-b43a-e17d5b5d200b",
   "metadata": {},
   "outputs": [],
   "source": [
    "valuation = valuation_factory.build(ida)"
   ]
  },
  {
   "cell_type": "code",
   "execution_count": 7,
   "id": "6d825041-1fed-48f0-a3c9-5b4d9dba2f3c",
   "metadata": {},
   "outputs": [
    {
     "name": "stdout",
     "output_type": "stream",
     "text": [
      "12\n"
     ]
    }
   ],
   "source": [
    "print(len(valuation.periodos))"
   ]
  },
  {
   "cell_type": "code",
   "execution_count": 8,
   "id": "626c8c5a-50a5-4293-9c24-72a30c9bd2d1",
   "metadata": {},
   "outputs": [
    {
     "name": "stdout",
     "output_type": "stream",
     "text": [
      "{'identificador': '2020', 'bp': <lib.contabilidade.plano_de_contas.default.balanco_patrimonial.BalancoPatrimonialDefault object at 0x7f980c2cf100>, 'dre': <lib.contabilidade.plano_de_contas.dre.DRE object at 0x7f980c2cfb20>, 'dfc': <lib.contabilidade.plano_de_contas.dfc.DFC object at 0x7f980c2d61c0>}\n"
     ]
    }
   ],
   "source": [
    "print(valuation.periodos[-1])"
   ]
  },
  {
   "cell_type": "code",
   "execution_count": 9,
   "id": "d68a2530-bc73-40d0-b3b8-0a6bfef8408a",
   "metadata": {},
   "outputs": [
    {
     "name": "stdout",
     "output_type": "stream",
     "text": [
      "2020\n"
     ]
    }
   ],
   "source": [
    "print(valuation.periodos[-1]['identificador'])"
   ]
  },
  {
   "cell_type": "code",
   "execution_count": 10,
   "id": "31e25940-c8d2-4ca1-b55c-03fa7fa3f309",
   "metadata": {},
   "outputs": [
    {
     "name": "stdout",
     "output_type": "stream",
     "text": [
      "Plano de Contas:\n",
      "- Balanço Patrimonial:\n",
      "\n",
      "Ativo: 0.00\t(valor para verificação: None)\n",
      "\tCirculante: 0.00\t(valor para verificação: None)\n",
      "\t\tCaixa e equivalentes de caixa: 0.00\n",
      "\t\tAplicações financeiras: 0.00\n",
      "\t\tContas a receber: 0.00\n",
      "\t\tEstoques: 0.00\n",
      "\t\tAtivos Biológicos: 0.00\n",
      "\t\tImpostos a recuperar: 0.00\n",
      "\t\tDespesas antecipadas: 0.00\n",
      "\t\tOutros ativos: 0.00\n",
      "\tNão Circulante: 0.00\t(valor para verificação: None)\n",
      "\t\tRealizável a Longo Prazo: 0.00\t(valor para verificação: None)\n",
      "\t\t\tAplicação financeira a valor justo: 0.00\n",
      "\t\t\tAplicação financeira a custo amortizado: 0.00\n",
      "\t\t\tContas a receber: 0.00\n",
      "\t\t\tEstoques: 0.00\n",
      "\t\t\tAtivos biológicos: 0.00\n",
      "\t\t\tImpostos diferidos: 0.00\n",
      "\t\t\tDespesas antecipadas: 0.00\n",
      "\t\t\tPartes relacionadas: 0.00\n",
      "\t\t\toutros: 0.00\n",
      "\t\tInvestimentos: 0.00\n",
      "\t\tImobilizado: 0.00\n",
      "\t\tIntangíveis líquido: 0.00\t(valor para verificação: None)\n",
      "\t\t\tIntangíveis: 0.00\n",
      "\t\t\tGoodwill: 0.00\n",
      "Passivo: 0.00\t(valor para verificação: None)\n",
      "\tCirculante: 0.00\t(valor para verificação: None)\n",
      "\t\tObrigações Sociais: 0.00\n",
      "\t\tFornecedores: 0.00\n",
      "\t\tImpostos a Pagar: 0.00\n",
      "\t\tProvisões: 0.00\n",
      "\t\tEmpréstimos e Financiamentos: 0.00\t(valor para verificação: None)\n",
      "\t\t\tFinanciamentos: 0.00\n",
      "\t\t\tDebêntures: 0.00\n",
      "\t\t\tArrendamento Financeiro: 0.00\n",
      "\t\tOutras Obrigações: 0.00\t(valor para verificação: None)\n",
      "\t\t\tOutros: 0.00\t(valor para verificação: None)\n",
      "\t\t\t\tDividendos: 0.00\n",
      "\t\t\t\tOutros: 0.00\n",
      "\tNão Circulante: 0.00\t(valor para verificação: None)\n",
      "\t\tImpostos Diferidos: 0.00\n",
      "\t\tProvisões: 0.00\n",
      "\t\tLucros e Receitas a Apropriar: 0.00\n",
      "\t\tEmpréstimos e Financiamentos: 0.00\t(valor para verificação: None)\n",
      "\t\t\tFinanciamentos: 0.00\t(valor para verificação: None)\n",
      "\t\t\t\tNacional: 0.00\n",
      "\t\t\t\tEstrangeiro: 0.00\n",
      "\t\t\tDebêntures: 0.00\n",
      "\t\t\tArrendamento Financeiro: 0.00\n",
      "\t\tOutras Obrigações: 0.00\t(valor para verificação: None)\n",
      "\t\t\tPartes Relacionadas: 0.00\n",
      "\t\t\tOutros: 0.00\n",
      "Patrimônio Líquido: 0.00\t(valor para verificação: None)\n",
      "\tCapital social: 0.00\n",
      "\tReservas de capital: 0.00\n",
      "\tReservas de Reavaliação: 0.00\n",
      "\tReservas de Lucros: 0.00\n",
      "\tLucros acumulados: 0.00\n",
      "\tAjustes Avaliação Patrimonial: 0.00\n",
      "\tAjustes Acumulados Conversão: 0.00\n",
      "\tOutros Resultados Abrangentes: 0.00\n",
      "\tTotal Ativo: 0.00\n",
      "\tTotal Passivo + Patrimônio Líquido: 0.00\n"
     ]
    }
   ],
   "source": [
    "print(valuation.periodos[-1]['bp'])"
   ]
  },
  {
   "cell_type": "code",
   "execution_count": null,
   "id": "9e43947e-f359-4f98-8d28-3d19e316713c",
   "metadata": {},
   "outputs": [],
   "source": []
  },
  {
   "cell_type": "code",
   "execution_count": null,
   "id": "794d53db-11a1-44b6-a254-33679e7e9827",
   "metadata": {},
   "outputs": [],
   "source": []
  },
  {
   "cell_type": "code",
   "execution_count": null,
   "id": "eaac2956-aabd-42b5-bd3f-36457570fdd3",
   "metadata": {},
   "outputs": [],
   "source": []
  },
  {
   "cell_type": "code",
   "execution_count": null,
   "id": "c7fffc2c-f5ac-4951-b52a-44286640ea0f",
   "metadata": {},
   "outputs": [],
   "source": []
  },
  {
   "cell_type": "code",
   "execution_count": null,
   "id": "1260db34-c60a-4eba-9f6b-16cb00c58585",
   "metadata": {},
   "outputs": [],
   "source": []
  },
  {
   "cell_type": "code",
   "execution_count": null,
   "id": "e500af91-ea2a-4918-aa1a-ba85265149b3",
   "metadata": {},
   "outputs": [],
   "source": []
  },
  {
   "cell_type": "code",
   "execution_count": null,
   "id": "fb7cfe52-26b8-4c0d-a997-8a01ddb1eb78",
   "metadata": {},
   "outputs": [],
   "source": []
  },
  {
   "cell_type": "code",
   "execution_count": null,
   "id": "bcd04a9d-7bd5-4fb6-91e9-1ba1fb065ca7",
   "metadata": {},
   "outputs": [],
   "source": []
  },
  {
   "cell_type": "code",
   "execution_count": null,
   "id": "c69e3de0-7e56-43bd-ac9e-17d39e01e8c4",
   "metadata": {},
   "outputs": [],
   "source": []
  },
  {
   "cell_type": "code",
   "execution_count": null,
   "id": "a99c49f8-e1c6-4667-8afa-d8f805f9b694",
   "metadata": {},
   "outputs": [],
   "source": []
  },
  {
   "cell_type": "code",
   "execution_count": null,
   "id": "8264c6ca-ae9d-4c7b-8683-41f06a21f18d",
   "metadata": {},
   "outputs": [],
   "source": []
  },
  {
   "cell_type": "code",
   "execution_count": null,
   "id": "bb9e9416-082b-401e-9013-0f2031211377",
   "metadata": {},
   "outputs": [],
   "source": []
  },
  {
   "cell_type": "code",
   "execution_count": null,
   "id": "ae6d7f79-c253-4171-b4ab-f3651dd33516",
   "metadata": {},
   "outputs": [],
   "source": []
  },
  {
   "cell_type": "code",
   "execution_count": null,
   "id": "20b6fcc6-2a9b-432a-ac83-16cb02a70310",
   "metadata": {},
   "outputs": [],
   "source": []
  },
  {
   "cell_type": "code",
   "execution_count": null,
   "id": "b9f0dc3a-e4d2-4508-8acf-1cbe9c055182",
   "metadata": {},
   "outputs": [],
   "source": []
  }
 ],
 "metadata": {
  "kernelspec": {
   "display_name": "Python 3",
   "language": "python",
   "name": "python3"
  },
  "language_info": {
   "codemirror_mode": {
    "name": "ipython",
    "version": 3
   },
   "file_extension": ".py",
   "mimetype": "text/x-python",
   "name": "python",
   "nbconvert_exporter": "python",
   "pygments_lexer": "ipython3",
   "version": "3.8.10"
  }
 },
 "nbformat": 4,
 "nbformat_minor": 5
}
