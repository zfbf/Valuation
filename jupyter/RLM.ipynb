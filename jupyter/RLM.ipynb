{
 "cells": [
  {
   "cell_type": "code",
   "execution_count": 1,
   "id": "c280782f-0468-4314-8623-217e5ab3ec2f",
   "metadata": {
    "tags": []
   },
   "outputs": [],
   "source": [
    "import pandas as pd\n",
    "import numpy as np"
   ]
  },
  {
   "cell_type": "code",
   "execution_count": 2,
   "id": "cb77f960-dd3f-437a-a6fd-efb478029473",
   "metadata": {},
   "outputs": [],
   "source": [
    "from lib.importacao.economatica.iochpe_dados_anuais import IochpeDadosAnuais\n",
    "from lib.valuation.valuation import Valuation\n",
    "from lib.valuation.factories.valuation_factory import ValuationDefaultFactory\n",
    "from lib.valuation.reporters.reporter_default import ReporterDefault"
   ]
  },
  {
   "cell_type": "code",
   "execution_count": 3,
   "id": "81c2a57a-29fd-47cf-befb-0647ae799f07",
   "metadata": {},
   "outputs": [],
   "source": [
    "ida = IochpeDadosAnuais(2009, 2020)"
   ]
  },
  {
   "cell_type": "code",
   "execution_count": 4,
   "id": "fef59767-3b97-408e-9554-c08af2b16420",
   "metadata": {},
   "outputs": [],
   "source": [
    "ida.prepare()"
   ]
  },
  {
   "cell_type": "code",
   "execution_count": 5,
   "id": "67e7dfc8-ab34-4330-999c-95e10b8c960f",
   "metadata": {},
   "outputs": [],
   "source": [
    "valuation_factory = ValuationDefaultFactory()"
   ]
  },
  {
   "cell_type": "code",
   "execution_count": 6,
   "id": "bb40b36e-1611-402a-b43a-e17d5b5d200b",
   "metadata": {},
   "outputs": [],
   "source": [
    "valuation = valuation_factory.build(ida)"
   ]
  },
  {
   "cell_type": "code",
   "execution_count": 7,
   "id": "6d825041-1fed-48f0-a3c9-5b4d9dba2f3c",
   "metadata": {},
   "outputs": [
    {
     "name": "stdout",
     "output_type": "stream",
     "text": [
      "12\n"
     ]
    }
   ],
   "source": [
    "print(len(valuation.periodos))"
   ]
  },
  {
   "cell_type": "code",
   "execution_count": 9,
   "id": "626c8c5a-50a5-4293-9c24-72a30c9bd2d1",
   "metadata": {},
   "outputs": [],
   "source": [
    "valuation_factory.load(valuation, ida)"
   ]
  },
  {
   "cell_type": "code",
   "execution_count": 9,
   "id": "d68a2530-bc73-40d0-b3b8-0a6bfef8408a",
   "metadata": {},
   "outputs": [
    {
     "name": "stdout",
     "output_type": "stream",
     "text": [
      "2020\n"
     ]
    }
   ],
   "source": [
    "print(valuation.periodos[-1].identificador)"
   ]
  },
  {
   "cell_type": "code",
   "execution_count": 19,
   "id": "31e25940-c8d2-4ca1-b55c-03fa7fa3f309",
   "metadata": {},
   "outputs": [
    {
     "name": "stdout",
     "output_type": "stream",
     "text": [
      "\n",
      "PeriodoContabil - 2020\n",
      "\tbp_ifrs: Plano de Contas:\n",
      "- Balanço Patrimonial:\n",
      "\n",
      "Ativo: 24823606000.00\t(valor para verificação: None)\n",
      "\tCirculante: 10323852000.00\t(valor para verificação: 5161926000)\n",
      "\t\tCaixa e equivalentes de caixa: 3210878000.00\n",
      "\t\tAplicações financeiras: 0.00\n",
      "\t\tContas a receber: 2811908000.00\n",
      "\t\tEstoques: 3496994000.00\n",
      "\t\tAtivos Biológicos: 0.00\n",
      "\t\tImpostos a recuperar: 479768000.00\n",
      "\t\tDespesas antecipadas: 98290000.00\n",
      "\t\tOutros ativos: 226014000.00\n",
      "\tNão Circulante: 14499754000.00\t(valor para verificação: 7249877000)\n",
      "\t\tRealizável a Longo Prazo: 1259260000.00\t(valor para verificação: 629630000)\n",
      "\t\t\tAplicação financeira a valor justo: 0.00\n",
      "\t\t\tAplicação financeira a custo amortizado: 0.00\n",
      "\t\t\tContas a receber: 0.00\n",
      "\t\t\tEstoques: 0.00\n",
      "\t\t\tAtivos biológicos: 0.00\n",
      "\t\t\tImpostos diferidos: 838312000.00\n",
      "\t\t\tDespesas antecipadas: 0.00\n",
      "\t\t\tPartes relacionadas: 0.00\n",
      "\t\t\toutros: 420948000.00\n",
      "\t\tInvestimentos: 190566000.00\n",
      "\t\tImobilizado: 8610168000.00\n",
      "\t\tIntangíveis líquido: 4439760000.00\t(valor para verificação: 2219880000)\n",
      "\t\t\tIntangíveis: 4439760000.00\n",
      "\t\t\tGoodwill: 0.00\n",
      "Passivo: 17218084000.00\t(valor para verificação: None)\n",
      "\tCirculante: 8704902000.00\t(valor para verificação: 4352451000)\n",
      "\t\tObrigações Sociais: 637264000.00\n",
      "\t\tFornecedores: 2927188000.00\n",
      "\t\tImpostos a Pagar: 181736000.00\n",
      "\t\tProvisões: 0.00\n",
      "\t\tEmpréstimos e Financiamentos: 3815128000.00\t(valor para verificação: 1907564000)\n",
      "\t\t\tFinanciamentos: 3815226000.00\n",
      "\t\t\tDebêntures: -98000.00\n",
      "\t\t\tArrendamento Financeiro: 0.00\n",
      "\t\tOutras Obrigações: 1143586000.00\t(valor para verificação: 571793000)\n",
      "\t\t\tOutros: 1143586000.00\t(valor para verificação: 571793000)\n",
      "\t\t\t\tDividendos: 179462000.00\n",
      "\t\t\t\tOutros: 964124000.00\n",
      "\tNão Circulante: 8513182000.00\t(valor para verificação: 4256591000)\n",
      "\t\tImpostos Diferidos: 350360000.00\n",
      "\t\tProvisões: 1562704000.00\n",
      "\t\tLucros e Receitas a Apropriar: 0.00\n",
      "\t\tEmpréstimos e Financiamentos: 6425650000.00\t(valor para verificação: 3212825000)\n",
      "\t\t\tFinanciamentos: 3966196000.00\t(valor para verificação: 1983098000)\n",
      "\t\t\t\tNacional: 2842000.00\n",
      "\t\t\t\tEstrangeiro: 3963354000.00\n",
      "\t\t\tDebêntures: 2459454000.00\n",
      "\t\t\tArrendamento Financeiro: 0.00\n",
      "\t\tOutras Obrigações: 174468000.00\t(valor para verificação: 87234000)\n",
      "\t\t\tPartes Relacionadas: 0.00\n",
      "\t\t\tOutros: 174468000.00\n",
      "Patrimônio Líquido: 6924570000.00\t(valor para verificação: 3462285000)\n",
      "\tCapital social: 3153908000.00\n",
      "\tReservas de capital: -26732000.00\n",
      "\tReservas de Reavaliação: 0.00\n",
      "\tReservas de Lucros: 241842000.00\n",
      "\tLucros acumulados: 0.00\n",
      "\tAjustes Avaliação Patrimonial: 126218000.00\n",
      "\tAjustes Acumulados Conversão: 3729450000.00\n",
      "\tOutros Resultados Abrangentes: -300116000.00\n",
      "\tTotal Ativo: 24823606000.00\n",
      "\tTotal Passivo + Patrimônio Líquido: 24142654000.00\n",
      "\tdre: Plano de Contas:\n",
      "- DRE:\n",
      "Receita Líquida Operacional: 17521136000.00\n",
      "\tRazonete:\n",
      "\tTotal de débitos: 0.00\n",
      "\tTotal de créditos: 17521136000.00\n",
      "Custo Produtos Vendidos: 16390510000.00\n",
      "\tRazonete:\n",
      "\tTotal de débitos: 16390510000.00\n",
      "\tTotal de créditos: 0.00\n",
      "Lucro Bruto: 1130626000.00\t(valor para verificação: 565313000)\n",
      "\tReceita Líquida Operacional: 17521136000.00\n",
      "\tCusto Produtos Vendidos: 16390510000.00\n",
      "Despesas Operacionais: 1500068000.00\t(valor para verificação: 750034000)\n",
      "\tDespesas com Vendas: 123624000.00\n",
      "\tDespesas Administrativas: 1003662000.00\n",
      "\tPerdas Recuperação de Ativos: 0.00\n",
      "\tOutras Despesas Operacionais: 0.00\n",
      "\tOutras Receitas Operacionais: -376868000.00\n",
      "\tEquivalência Patrimonial: 4086000.00\n",
      "LAJIR: -369442000.00\t(valor para verificação: -184721000)\n",
      "\tLucro Bruto: 1130626000.00\t(valor para verificação: 565313000)\n",
      "\t\tReceita Líquida Operacional: 17521136000.00\n",
      "\t\tCusto Produtos Vendidos: 16390510000.00\n",
      "\tDespesas Operacionais: 1500068000.00\t(valor para verificação: 750034000)\n",
      "\t\tDespesas com Vendas: 123624000.00\n",
      "\t\tDespesas Administrativas: 1003662000.00\n",
      "\t\tPerdas Recuperação de Ativos: 0.00\n",
      "\t\tOutras Despesas Operacionais: 0.00\n",
      "\t\tOutras Receitas Operacionais: -376868000.00\n",
      "\t\tEquivalência Patrimonial: 4086000.00\n",
      "Resultado Financeiro: -465972000.00\t(valor para verificação: -232986000)\n",
      "\tReceitas Financeiras: 66732000.00\n",
      "\tDespesas Financeiras: 532704000.00\n",
      "LAIR: -835414000.00\t(valor para verificação: -417707000)\n",
      "\tLAJIR: -369442000.00\t(valor para verificação: -184721000)\n",
      "\t\tLucro Bruto: 1130626000.00\t(valor para verificação: 565313000)\n",
      "\t\t\tReceita Líquida Operacional: 17521136000.00\n",
      "\t\t\tCusto Produtos Vendidos: 16390510000.00\n",
      "\t\tDespesas Operacionais: 1500068000.00\t(valor para verificação: 750034000)\n",
      "\t\t\tDespesas com Vendas: 123624000.00\n",
      "\t\t\tDespesas Administrativas: 1003662000.00\n",
      "\t\t\tPerdas Recuperação de Ativos: 0.00\n",
      "\t\t\tOutras Despesas Operacionais: 0.00\n",
      "\t\t\tOutras Receitas Operacionais: -376868000.00\n",
      "\t\t\tEquivalência Patrimonial: 4086000.00\n",
      "\tResultado Financeiro: -465972000.00\t(valor para verificação: -232986000)\n",
      "\t\tReceitas Financeiras: 66732000.00\n",
      "\t\tDespesas Financeiras: 532704000.00\n",
      "Imposto de Renda e Contribuição Social: 4414000.00\t(valor para verificação: 2207000)\n",
      "\tProvisão de Imposto de Renda: 177146000.00\n",
      "\tImposto de Renda Diferido: -172732000.00\n",
      "Lucro Operações Continuadas: -839828000.00\t(valor para verificação: -419914000)\n",
      "\tLAIR: -835414000.00\t(valor para verificação: -417707000)\n",
      "\t\tLAJIR: -369442000.00\t(valor para verificação: -184721000)\n",
      "\t\t\tLucro Bruto: 1130626000.00\t(valor para verificação: 565313000)\n",
      "\t\t\t\tReceita Líquida Operacional: 17521136000.00\n",
      "\t\t\t\tCusto Produtos Vendidos: 16390510000.00\n",
      "\t\t\tDespesas Operacionais: 1500068000.00\t(valor para verificação: 750034000)\n",
      "\t\t\t\tDespesas com Vendas: 123624000.00\n",
      "\t\t\t\tDespesas Administrativas: 1003662000.00\n",
      "\t\t\t\tPerdas Recuperação de Ativos: 0.00\n",
      "\t\t\t\tOutras Despesas Operacionais: 0.00\n",
      "\t\t\t\tOutras Receitas Operacionais: -376868000.00\n",
      "\t\t\t\tEquivalência Patrimonial: 4086000.00\n",
      "\t\tResultado Financeiro: -465972000.00\t(valor para verificação: -232986000)\n",
      "\t\t\tReceitas Financeiras: 66732000.00\n",
      "\t\t\tDespesas Financeiras: 532704000.00\n",
      "\tImposto de Renda e Contribuição Social: 4414000.00\t(valor para verificação: 2207000)\n",
      "\t\tProvisão de Imposto de Renda: 177146000.00\n",
      "\t\tImposto de Renda Diferido: -172732000.00\n",
      "Operações Descontinuadas: 0.00\n",
      "\tRazonete:\n",
      "\tTotal de débitos: 0.00\n",
      "\tTotal de créditos: 0.00\n",
      "Lucro Consolidado: -839828000.00\t(valor para verificação: -419914000)\n",
      "\tLucro Operações Continuadas: -839828000.00\t(valor para verificação: -419914000)\n",
      "\t\tLAIR: -835414000.00\t(valor para verificação: -417707000)\n",
      "\t\t\tLAJIR: -369442000.00\t(valor para verificação: -184721000)\n",
      "\t\t\t\tLucro Bruto: 1130626000.00\t(valor para verificação: 565313000)\n",
      "\t\t\t\t\tReceita Líquida Operacional: 17521136000.00\n",
      "\t\t\t\t\tCusto Produtos Vendidos: 16390510000.00\n",
      "\t\t\t\tDespesas Operacionais: 1500068000.00\t(valor para verificação: 750034000)\n",
      "\t\t\t\t\tDespesas com Vendas: 123624000.00\n",
      "\t\t\t\t\tDespesas Administrativas: 1003662000.00\n",
      "\t\t\t\t\tPerdas Recuperação de Ativos: 0.00\n",
      "\t\t\t\t\tOutras Despesas Operacionais: 0.00\n",
      "\t\t\t\t\tOutras Receitas Operacionais: -376868000.00\n",
      "\t\t\t\t\tEquivalência Patrimonial: 4086000.00\n",
      "\t\t\tResultado Financeiro: -465972000.00\t(valor para verificação: -232986000)\n",
      "\t\t\t\tReceitas Financeiras: 66732000.00\n",
      "\t\t\t\tDespesas Financeiras: 532704000.00\n",
      "\t\tImposto de Renda e Contribuição Social: 4414000.00\t(valor para verificação: 2207000)\n",
      "\t\t\tProvisão de Imposto de Renda: 177146000.00\n",
      "\t\t\tImposto de Renda Diferido: -172732000.00\n",
      "\tOperações Descontinuadas: 0.00\n",
      "Participação Minoritária: 143732000.00\n",
      "\tRazonete:\n",
      "\tTotal de débitos: 143732000.00\n",
      "\tTotal de créditos: 0.00\n",
      "Lucro Líquido: -983560000.00\t(valor para verificação: -491780000)\n",
      "\tLucro Consolidado: -839828000.00\t(valor para verificação: -419914000)\n",
      "\t\tLucro Operações Continuadas: -839828000.00\t(valor para verificação: -419914000)\n",
      "\t\t\tLAIR: -835414000.00\t(valor para verificação: -417707000)\n",
      "\t\t\t\tLAJIR: -369442000.00\t(valor para verificação: -184721000)\n",
      "\t\t\t\t\tLucro Bruto: 1130626000.00\t(valor para verificação: 565313000)\n",
      "\t\t\t\t\t\tReceita Líquida Operacional: 17521136000.00\n",
      "\t\t\t\t\t\tCusto Produtos Vendidos: 16390510000.00\n",
      "\t\t\t\t\tDespesas Operacionais: 1500068000.00\t(valor para verificação: 750034000)\n",
      "\t\t\t\t\t\tDespesas com Vendas: 123624000.00\n",
      "\t\t\t\t\t\tDespesas Administrativas: 1003662000.00\n",
      "\t\t\t\t\t\tPerdas Recuperação de Ativos: 0.00\n",
      "\t\t\t\t\t\tOutras Despesas Operacionais: 0.00\n",
      "\t\t\t\t\t\tOutras Receitas Operacionais: -376868000.00\n",
      "\t\t\t\t\t\tEquivalência Patrimonial: 4086000.00\n",
      "\t\t\t\tResultado Financeiro: -465972000.00\t(valor para verificação: -232986000)\n",
      "\t\t\t\t\tReceitas Financeiras: 66732000.00\n",
      "\t\t\t\t\tDespesas Financeiras: 532704000.00\n",
      "\t\t\tImposto de Renda e Contribuição Social: 4414000.00\t(valor para verificação: 2207000)\n",
      "\t\t\t\tProvisão de Imposto de Renda: 177146000.00\n",
      "\t\t\t\tImposto de Renda Diferido: -172732000.00\n",
      "\t\tOperações Descontinuadas: 0.00\n",
      "\tParticipação Minoritária: 143732000.00\n",
      "\tfc: Plano de Contas:\n",
      "- DFC:\n",
      "\n",
      "Operacional: 226338000.00\t(valor para verificação: 113169000)\n",
      "\tOperação: 1011326000.00\t(valor para verificação: 505663000)\n",
      "\t\tLucro Líquido: -839828000.00\n",
      "\t\tDepreciação, Amortização e Exaustão: 1113722000.00\n",
      "\t\tVariação Cambial: 395526000.00\n",
      "\t\tVenda Ativos Permanentes: 0.00\n",
      "\t\tValor Contábil: 202240000.00\n",
      "\t\tEquivalência Patrimonial: -4086000.00\n",
      "\t\tImpostos Diferidos: 4414000.00\n",
      "\t\tVariação Participação Minoritários: 0.00\n",
      "\t\tOutros: 139338000.00\n",
      "\tVariação Ativos Passivos: -784988000.00\t(valor para verificação: -392494000)\n",
      "\t\tVariação Duplicatas a Receber: -235858000.00\n",
      "\t\tVariação Estoques: -195372000.00\n",
      "\t\tVariação Outros Ativos: -59256000.00\n",
      "\t\tVariação Fornecedores: 397082000.00\n",
      "\t\tVariação Importação: -277772000.00\n",
      "\t\tVariação Outros Passivos: -413812000.00\n",
      "\tOutros: 0.00\n",
      "Investimentos: -671588000.00\t(valor para verificação: -335794000)\n",
      "\tCompra Líquida Ativos Permanentes: -671588000.00\t(valor para verificação: -335794000)\n",
      "\t\tCompra Investimentos Permanentes: 0.00\n",
      "\t\tCompra Ativos Fixos: -671588000.00\n",
      "\t\tVenda Ativos Permanentes: 0.00\n",
      "\tDividendos Recebidos: 0.00\n",
      "\tResgate Aplicação Financeira Líquida: 0.00\n",
      "\tOutros Investimentos: 0.00\n",
      "Financiamentos: 1938590000.00\t(valor para verificação: 969295000)\n",
      "\tFinanciamentos Líquido: 2221188000.00\t(valor para verificação: 1110594000)\n",
      "\t\tFinanciamentos Obtidos: 4925846000.00\n",
      "\t\tFinanciamentos Pagos: -2704658000.00\n",
      "\tAumento Líquido de Capital: 0.00\t(valor para verificação: 0)\n",
      "\t\tAumento de Capital: 0.00\n",
      "\t\tRedução de Capital: 0.00\n",
      "\tDividendos Pagos: -292392000.00\n",
      "\tOutros: 9794000.00\n",
      "Efeito Cambial: 425264000.00\n",
      "\tRazonete:\n",
      "\tTotal de débitos: 0.00\n",
      "\tTotal de créditos: 425264000.00\n",
      "Outras Variações: 0.00\n",
      "\tRazonete:\n",
      "\tTotal de débitos: 0.00\n",
      "\tTotal de créditos: 0.00\n",
      "Variação Líquida de Caixa: 1918604000.00\t(valor para verificação: 959302000)\n",
      "\tOperacional: 226338000.00\t(valor para verificação: 113169000)\n",
      "\t\tOperação: 1011326000.00\t(valor para verificação: 505663000)\n",
      "\t\t\tLucro Líquido: -839828000.00\n",
      "\t\t\tDepreciação, Amortização e Exaustão: 1113722000.00\n",
      "\t\t\tVariação Cambial: 395526000.00\n",
      "\t\t\tVenda Ativos Permanentes: 0.00\n",
      "\t\t\tValor Contábil: 202240000.00\n",
      "\t\t\tEquivalência Patrimonial: -4086000.00\n",
      "\t\t\tImpostos Diferidos: 4414000.00\n",
      "\t\t\tVariação Participação Minoritários: 0.00\n",
      "\t\t\tOutros: 139338000.00\n",
      "\t\tVariação Ativos Passivos: -784988000.00\t(valor para verificação: -392494000)\n",
      "\t\t\tVariação Duplicatas a Receber: -235858000.00\n",
      "\t\t\tVariação Estoques: -195372000.00\n",
      "\t\t\tVariação Outros Ativos: -59256000.00\n",
      "\t\t\tVariação Fornecedores: 397082000.00\n",
      "\t\t\tVariação Importação: -277772000.00\n",
      "\t\t\tVariação Outros Passivos: -413812000.00\n",
      "\t\tOutros: 0.00\n",
      "\tInvestimentos: -671588000.00\t(valor para verificação: -335794000)\n",
      "\t\tCompra Líquida Ativos Permanentes: -671588000.00\t(valor para verificação: -335794000)\n",
      "\t\t\tCompra Investimentos Permanentes: 0.00\n",
      "\t\t\tCompra Ativos Fixos: -671588000.00\n",
      "\t\t\tVenda Ativos Permanentes: 0.00\n",
      "\t\tDividendos Recebidos: 0.00\n",
      "\t\tResgate Aplicação Financeira Líquida: 0.00\n",
      "\t\tOutros Investimentos: 0.00\n",
      "\tFinanciamentos: 1938590000.00\t(valor para verificação: 969295000)\n",
      "\t\tFinanciamentos Líquido: 2221188000.00\t(valor para verificação: 1110594000)\n",
      "\t\t\tFinanciamentos Obtidos: 4925846000.00\n",
      "\t\t\tFinanciamentos Pagos: -2704658000.00\n",
      "\t\tAumento Líquido de Capital: 0.00\t(valor para verificação: 0)\n",
      "\t\t\tAumento de Capital: 0.00\n",
      "\t\t\tRedução de Capital: 0.00\n",
      "\t\tDividendos Pagos: -292392000.00\n",
      "\t\tOutros: 9794000.00\n",
      "\tEfeito Cambial: 425264000.00\n",
      "\tOutras Variações: 0.00\n"
     ]
    }
   ],
   "source": [
    "#print(valuation.periodos[-1])"
   ]
  },
  {
   "cell_type": "code",
   "execution_count": 15,
   "id": "9e43947e-f359-4f98-8d28-3d19e316713c",
   "metadata": {},
   "outputs": [],
   "source": [
    "reporter = ReporterDefault()"
   ]
  },
  {
   "cell_type": "code",
   "execution_count": 16,
   "id": "794d53db-11a1-44b6-a254-33679e7e9827",
   "metadata": {},
   "outputs": [
    {
     "name": "stdout",
     "output_type": "stream",
     "text": [
      "type(report): <class 'list'>\n",
      "len(report): 4\n",
      "report: [['2009', '2010', '2011', '2012', '2013', '2014', '2015', '2016', '2017', '2018', '2019', '2020'], [1620380000, 4168796000, 4985228000, 11571164000, 12071410000, 12578048000, 15980758000, 14114230000, 15844496000, 18038380000, 18750822000, 24823606000], [399766000, 1882848000, 2400562000, 4309746000, 4437888000, 4515858000, 5455710000, 4729422000, 6097526000, 7047604000, 6715242000, 10323852000], [1220614000, 2285948000, 2584666000, 7261418000, 7633522000, 8062190000, 10525048000, 9384808000, 9746970000, 10990776000, 12035580000, 14499754000]]\n"
     ]
    }
   ],
   "source": [
    "report = valuation.report(reporter)"
   ]
  },
  {
   "cell_type": "code",
   "execution_count": 17,
   "id": "eaac2956-aabd-42b5-bd3f-36457570fdd3",
   "metadata": {},
   "outputs": [
    {
     "data": {
      "text/plain": [
       "list"
      ]
     },
     "execution_count": 17,
     "metadata": {},
     "output_type": "execute_result"
    }
   ],
   "source": [
    "type(report)"
   ]
  },
  {
   "cell_type": "code",
   "execution_count": 18,
   "id": "c7fffc2c-f5ac-4951-b52a-44286640ea0f",
   "metadata": {},
   "outputs": [
    {
     "name": "stdout",
     "output_type": "stream",
     "text": [
      "[['2009', '2010', '2011', '2012', '2013', '2014', '2015', '2016', '2017', '2018', '2019', '2020'], [1620380000, 4168796000, 4985228000, 11571164000, 12071410000, 12578048000, 15980758000, 14114230000, 15844496000, 18038380000, 18750822000, 24823606000], [399766000, 1882848000, 2400562000, 4309746000, 4437888000, 4515858000, 5455710000, 4729422000, 6097526000, 7047604000, 6715242000, 10323852000], [1220614000, 2285948000, 2584666000, 7261418000, 7633522000, 8062190000, 10525048000, 9384808000, 9746970000, 10990776000, 12035580000, 14499754000]]\n"
     ]
    }
   ],
   "source": [
    "print(report)"
   ]
  },
  {
   "cell_type": "code",
   "execution_count": null,
   "id": "1260db34-c60a-4eba-9f6b-16cb00c58585",
   "metadata": {},
   "outputs": [],
   "source": []
  },
  {
   "cell_type": "code",
   "execution_count": null,
   "id": "e500af91-ea2a-4918-aa1a-ba85265149b3",
   "metadata": {},
   "outputs": [],
   "source": []
  },
  {
   "cell_type": "code",
   "execution_count": null,
   "id": "fb7cfe52-26b8-4c0d-a997-8a01ddb1eb78",
   "metadata": {},
   "outputs": [],
   "source": []
  },
  {
   "cell_type": "code",
   "execution_count": null,
   "id": "bcd04a9d-7bd5-4fb6-91e9-1ba1fb065ca7",
   "metadata": {},
   "outputs": [],
   "source": []
  },
  {
   "cell_type": "code",
   "execution_count": null,
   "id": "c69e3de0-7e56-43bd-ac9e-17d39e01e8c4",
   "metadata": {},
   "outputs": [],
   "source": []
  },
  {
   "cell_type": "code",
   "execution_count": null,
   "id": "a99c49f8-e1c6-4667-8afa-d8f805f9b694",
   "metadata": {},
   "outputs": [],
   "source": []
  },
  {
   "cell_type": "code",
   "execution_count": null,
   "id": "8264c6ca-ae9d-4c7b-8683-41f06a21f18d",
   "metadata": {},
   "outputs": [],
   "source": []
  },
  {
   "cell_type": "code",
   "execution_count": null,
   "id": "bb9e9416-082b-401e-9013-0f2031211377",
   "metadata": {},
   "outputs": [],
   "source": []
  },
  {
   "cell_type": "code",
   "execution_count": null,
   "id": "ae6d7f79-c253-4171-b4ab-f3651dd33516",
   "metadata": {},
   "outputs": [],
   "source": []
  },
  {
   "cell_type": "code",
   "execution_count": null,
   "id": "20b6fcc6-2a9b-432a-ac83-16cb02a70310",
   "metadata": {},
   "outputs": [],
   "source": []
  },
  {
   "cell_type": "code",
   "execution_count": null,
   "id": "b9f0dc3a-e4d2-4508-8acf-1cbe9c055182",
   "metadata": {},
   "outputs": [],
   "source": []
  }
 ],
 "metadata": {
  "kernelspec": {
   "display_name": "Python 3",
   "language": "python",
   "name": "python3"
  },
  "language_info": {
   "codemirror_mode": {
    "name": "ipython",
    "version": 3
   },
   "file_extension": ".py",
   "mimetype": "text/x-python",
   "name": "python",
   "nbconvert_exporter": "python",
   "pygments_lexer": "ipython3",
   "version": "3.8.10"
  }
 },
 "nbformat": 4,
 "nbformat_minor": 5
}
