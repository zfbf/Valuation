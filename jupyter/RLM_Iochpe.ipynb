{
 "cells": [
  {
   "cell_type": "code",
   "execution_count": 1,
   "id": "c280782f-0468-4314-8623-217e5ab3ec2f",
   "metadata": {
    "tags": []
   },
   "outputs": [],
   "source": [
    "import pandas as pd\n",
    "import numpy as np"
   ]
  },
  {
   "cell_type": "code",
   "execution_count": 2,
   "id": "cb77f960-dd3f-437a-a6fd-efb478029473",
   "metadata": {},
   "outputs": [],
   "source": [
    "from lib.importacao.economatica.iochpe_dados_trimestrais_anualizados import Iochpe2009T12021T4\n",
    "from lib.valuation.valuation import Valuation\n",
    "from lib.valuation.factories.valuation_factory import ValuationDefaultFactory\n",
    "from lib.valuation.reporters.reporter_default import ReporterDefault"
   ]
  },
  {
   "cell_type": "code",
   "execution_count": 3,
   "id": "81c2a57a-29fd-47cf-befb-0647ae799f07",
   "metadata": {},
   "outputs": [],
   "source": [
    "importacao_iochpe = Iochpe2009T12021T4()"
   ]
  },
  {
   "cell_type": "code",
   "execution_count": 4,
   "id": "fef59767-3b97-408e-9554-c08af2b16420",
   "metadata": {},
   "outputs": [],
   "source": [
    "importacao_iochpe.prepare()"
   ]
  },
  {
   "cell_type": "code",
   "execution_count": 5,
   "id": "67e7dfc8-ab34-4330-999c-95e10b8c960f",
   "metadata": {},
   "outputs": [],
   "source": [
    "valuation_factory = ValuationDefaultFactory()"
   ]
  },
  {
   "cell_type": "code",
   "execution_count": 7,
   "id": "bb40b36e-1611-402a-b43a-e17d5b5d200b",
   "metadata": {},
   "outputs": [],
   "source": [
    "valuation = valuation_factory.build(importacao_iochpe)"
   ]
  },
  {
   "cell_type": "code",
   "execution_count": 7,
   "id": "6d825041-1fed-48f0-a3c9-5b4d9dba2f3c",
   "metadata": {},
   "outputs": [
    {
     "name": "stdout",
     "output_type": "stream",
     "text": [
      "52\n"
     ]
    }
   ],
   "source": [
    "print(len(valuation.periodos))"
   ]
  },
  {
   "cell_type": "code",
   "execution_count": 8,
   "id": "626c8c5a-50a5-4293-9c24-72a30c9bd2d1",
   "metadata": {},
   "outputs": [
    {
     "name": "stderr",
     "output_type": "stream",
     "text": [
      "/home/zenon/dev/python/venv/lib/python3.8/site-packages/pandas/core/indexing.py:889: PerformanceWarning: indexing past lexsort depth may impact performance.\n",
      "  return self._getitem_tuple(key)\n"
     ]
    }
   ],
   "source": [
    "valuation_factory.load(valuation, importacao_iochpe)"
   ]
  },
  {
   "cell_type": "code",
   "execution_count": 9,
   "id": "d68a2530-bc73-40d0-b3b8-0a6bfef8408a",
   "metadata": {},
   "outputs": [
    {
     "name": "stdout",
     "output_type": "stream",
     "text": [
      "2021T4\n"
     ]
    }
   ],
   "source": [
    "print(valuation.periodos[-1].identificador)"
   ]
  },
  {
   "cell_type": "code",
   "execution_count": 10,
   "id": "31e25940-c8d2-4ca1-b55c-03fa7fa3f309",
   "metadata": {},
   "outputs": [],
   "source": [
    "#print(valuation.periodos[-1])"
   ]
  },
  {
   "cell_type": "code",
   "execution_count": 11,
   "id": "9e43947e-f359-4f98-8d28-3d19e316713c",
   "metadata": {},
   "outputs": [],
   "source": [
    "reporter = ReporterDefault()"
   ]
  },
  {
   "cell_type": "code",
   "execution_count": 12,
   "id": "794d53db-11a1-44b6-a254-33679e7e9827",
   "metadata": {},
   "outputs": [
    {
     "name": "stdout",
     "output_type": "stream",
     "text": [
      "type(report): <class 'list'>\n",
      "len(report): 5\n",
      "report: [['2009T1', '2009T2', '2009T3', '2009T4', '2010T1', '2010T2', '2010T3', '2010T4', '2011T1', '2011T2', '2011T3', '2011T4', '2012T1', '2012T2', '2012T3', '2012T4', '2013T1', '2013T2', '2013T3', '2013T4', '2014T1', '2014T2', '2014T3', '2014T4', '2015T1', '2015T2', '2015T3', '2015T4', '2016T1', '2016T2', '2016T3', '2016T4', '2017T1', '2017T2', '2017T3', '2017T4', '2018T1', '2018T2', '2018T3', '2018T4', '2019T1', '2019T2', '2019T3', '2019T4', '2020T1', '2020T2', '2020T3', '2020T4', '2021T1', '2021T2', '2021T3', '2021T4'], [584779000, 547897000, 794470000, 810190000, 1128284000, 1178075000, 1206187000, 2084398000, 2151655000, 2338857000, 2464428000, 2492614000, 5429102000, 5622655000, 5684722000, 5785582000, 5386818000, 5738041000, 4791343000, 6035705000, 5816427000, 5749224000, 5908840000, 6289024000, 7057368000, 6952245000, 8288471000, 7990379000, 7558245000, 7050217000, 7018400000, 7057115000, 7424542000, 7892553000, 7671825000, 7922248000, 8510350000, 8905486000, 9239909000, 9019190000, 9440143000, 9236750000, 10022525000, 9375411000, 11717177000, 11892587000, 13010400000, 12411803000, 13652232000, 13203278000, 14431473000, 14519530000], [205174000, 179620000, 204626000, 199883000, 211622000, 260134000, 278149000, 941424000, 978787000, 1113598000, 1207161000, 1200281000, 2142589000, 2154465000, 2180545000, 2154873000, 1986308000, 2128986000, 2104292000, 2218944000, 2153319000, 2204325000, 2119777000, 2257929000, 2558834000, 2471978000, 2927867000, 2727855000, 2577662000, 2433892000, 2350119000, 2364711000, 2829063000, 3119217000, 3014839000, 3048763000, 3640349000, 3562287000, 3742941000, 3523802000, 3799311000, 3616236000, 3976211000, 3357621000, 4526247000, 4372292000, 5278408000, 5161926000, 6054354000, 6208374000, 6953970000, 6847514000], [379605000, 368277000, 589844000, 610307000, 916662000, 917941000, 928038000, 1142974000, 1172868000, 1225259000, 1257267000, 1292333000, 3286513000, 3468190000, 3504177000, 3630709000, 3400510000, 3609055000, 2687051000, 3816761000, 3663108000, 3544899000, 3789063000, 4031095000, 4498534000, 4480267000, 5360604000, 5262524000, 4980583000, 4616325000, 4668281000, 4692404000, 4595479000, 4773336000, 4656986000, 4873485000, 4870001000, 5343199000, 5496968000, 5495388000, 5640832000, 5620514000, 6046314000, 6017790000, 7190930000, 7520295000, 7731992000, 7249877000, 7597878000, 6994904000, 7477503000, 7672016000], [False, False, False, False, False, False, False, True, True, True, True, True, True, True, True, True, True, True, False, True, True, True, True, True, True, True, True, True, True, True, True, True, True, True, True, True, True, True, True, True, True, True, True, True, True, True, True, True, True, True, True, True]]\n"
     ]
    }
   ],
   "source": [
    "report = valuation.report(reporter)"
   ]
  },
  {
   "cell_type": "code",
   "execution_count": 11,
   "id": "eaac2956-aabd-42b5-bd3f-36457570fdd3",
   "metadata": {},
   "outputs": [
    {
     "data": {
      "text/plain": [
       "list"
      ]
     },
     "execution_count": 11,
     "metadata": {},
     "output_type": "execute_result"
    }
   ],
   "source": [
    "type(report)"
   ]
  },
  {
   "cell_type": "code",
   "execution_count": 12,
   "id": "c7fffc2c-f5ac-4951-b52a-44286640ea0f",
   "metadata": {},
   "outputs": [
    {
     "name": "stdout",
     "output_type": "stream",
     "text": [
      "[['2009T1', '2009T2', '2009T3', '2009T4', '2010T1', '2010T2', '2010T3', '2010T4', '2011T1', '2011T2', '2011T3', '2011T4', '2012T1', '2012T2', '2012T3', '2012T4', '2013T1', '2013T2', '2013T3', '2013T4', '2014T1', '2014T2', '2014T3', '2014T4', '2015T1', '2015T2', '2015T3', '2015T4', '2016T1', '2016T2', '2016T3', '2016T4', '2017T1', '2017T2', '2017T3', '2017T4', '2018T1', '2018T2', '2018T3', '2018T4', '2019T1', '2019T2', '2019T3', '2019T4', '2020T1', '2020T2', '2020T3', '2020T4', '2021T1', '2021T2', '2021T3', '2021T4'], [584779000, 547897000, 794470000, 810190000, 1128284000, 1178075000, 1206187000, 2084398000, 2151655000, 2338857000, 2464428000, 2492614000, 5429102000, 5622655000, 5684722000, 5785582000, 5386818000, 5738041000, 4791343000, 6035705000, 5816427000, 5749224000, 5908840000, 6289024000, 7057368000, 6952245000, 8288471000, 7990379000, 7558245000, 7050217000, 7018400000, 7057115000, 7424542000, 7892553000, 7671825000, 7922248000, 8510350000, 8905486000, 9239909000, 9019190000, 9440143000, 9236750000, 10022525000, 9375411000, 11717177000, 11892587000, 13010400000, 12411803000, 13652232000, 13203278000, 14431473000, 14519530000], [205174000, 179620000, 204626000, 199883000, 211622000, 260134000, 278149000, 941424000, 978787000, 1113598000, 1207161000, 1200281000, 2142589000, 2154465000, 2180545000, 2154873000, 1986308000, 2128986000, 2104292000, 2218944000, 2153319000, 2204325000, 2119777000, 2257929000, 2558834000, 2471978000, 2927867000, 2727855000, 2577662000, 2433892000, 2350119000, 2364711000, 2829063000, 3119217000, 3014839000, 3048763000, 3640349000, 3562287000, 3742941000, 3523802000, 3799311000, 3616236000, 3976211000, 3357621000, 4526247000, 4372292000, 5278408000, 5161926000, 6054354000, 6208374000, 6953970000, 6847514000], [379605000, 368277000, 589844000, 610307000, 916662000, 917941000, 928038000, 1142974000, 1172868000, 1225259000, 1257267000, 1292333000, 3286513000, 3468190000, 3504177000, 3630709000, 3400510000, 3609055000, 2687051000, 3816761000, 3663108000, 3544899000, 3789063000, 4031095000, 4498534000, 4480267000, 5360604000, 5262524000, 4980583000, 4616325000, 4668281000, 4692404000, 4595479000, 4773336000, 4656986000, 4873485000, 4870001000, 5343199000, 5496968000, 5495388000, 5640832000, 5620514000, 6046314000, 6017790000, 7190930000, 7520295000, 7731992000, 7249877000, 7597878000, 6994904000, 7477503000, 7672016000], [False, False, False, False, False, False, False, True, True, True, True, True, True, True, True, True, True, True, False, True, True, True, True, True, True, True, True, True, True, True, True, True, True, True, True, True, True, True, True, True, True, True, True, True, True, True, True, True, True, True, True, True]]\n"
     ]
    }
   ],
   "source": [
    "print(report)"
   ]
  },
  {
   "cell_type": "code",
   "execution_count": null,
   "id": "1260db34-c60a-4eba-9f6b-16cb00c58585",
   "metadata": {},
   "outputs": [],
   "source": []
  },
  {
   "cell_type": "code",
   "execution_count": null,
   "id": "e500af91-ea2a-4918-aa1a-ba85265149b3",
   "metadata": {},
   "outputs": [],
   "source": []
  },
  {
   "cell_type": "code",
   "execution_count": null,
   "id": "fb7cfe52-26b8-4c0d-a997-8a01ddb1eb78",
   "metadata": {},
   "outputs": [],
   "source": []
  },
  {
   "cell_type": "code",
   "execution_count": null,
   "id": "bcd04a9d-7bd5-4fb6-91e9-1ba1fb065ca7",
   "metadata": {},
   "outputs": [],
   "source": []
  },
  {
   "cell_type": "code",
   "execution_count": null,
   "id": "c69e3de0-7e56-43bd-ac9e-17d39e01e8c4",
   "metadata": {},
   "outputs": [],
   "source": []
  },
  {
   "cell_type": "code",
   "execution_count": null,
   "id": "a99c49f8-e1c6-4667-8afa-d8f805f9b694",
   "metadata": {},
   "outputs": [],
   "source": []
  },
  {
   "cell_type": "code",
   "execution_count": null,
   "id": "8264c6ca-ae9d-4c7b-8683-41f06a21f18d",
   "metadata": {},
   "outputs": [],
   "source": []
  },
  {
   "cell_type": "code",
   "execution_count": null,
   "id": "bb9e9416-082b-401e-9013-0f2031211377",
   "metadata": {},
   "outputs": [],
   "source": []
  },
  {
   "cell_type": "code",
   "execution_count": null,
   "id": "ae6d7f79-c253-4171-b4ab-f3651dd33516",
   "metadata": {},
   "outputs": [],
   "source": []
  },
  {
   "cell_type": "code",
   "execution_count": null,
   "id": "20b6fcc6-2a9b-432a-ac83-16cb02a70310",
   "metadata": {},
   "outputs": [],
   "source": []
  },
  {
   "cell_type": "code",
   "execution_count": null,
   "id": "b9f0dc3a-e4d2-4508-8acf-1cbe9c055182",
   "metadata": {},
   "outputs": [],
   "source": []
  }
 ],
 "metadata": {
  "kernelspec": {
   "display_name": "Python 3",
   "language": "python",
   "name": "python3"
  },
  "language_info": {
   "codemirror_mode": {
    "name": "ipython",
    "version": 3
   },
   "file_extension": ".py",
   "mimetype": "text/x-python",
   "name": "python",
   "nbconvert_exporter": "python",
   "pygments_lexer": "ipython3",
   "version": "3.8.10"
  }
 },
 "nbformat": 4,
 "nbformat_minor": 5
}
