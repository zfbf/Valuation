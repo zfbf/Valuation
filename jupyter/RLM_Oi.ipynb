{
 "cells": [
  {
   "cell_type": "code",
   "execution_count": 1,
   "id": "c280782f-0468-4314-8623-217e5ab3ec2f",
   "metadata": {
    "tags": []
   },
   "outputs": [],
   "source": [
    "import pandas as pd\n",
    "import numpy as np"
   ]
  },
  {
   "cell_type": "code",
   "execution_count": 3,
   "id": "cb77f960-dd3f-437a-a6fd-efb478029473",
   "metadata": {},
   "outputs": [],
   "source": [
    "from lib.importacao.economatica.oi_dados_trimestrais_anualizados import Oi2009T12021T3\n",
    "from lib.valuation.valuation import Valuation\n",
    "from lib.valuation.factories.valuation_factory import ValuationDefaultFactory\n",
    "from lib.valuation.reporters.reporter_default import ReporterDefault"
   ]
  },
  {
   "cell_type": "code",
   "execution_count": 9,
   "id": "81c2a57a-29fd-47cf-befb-0647ae799f07",
   "metadata": {},
   "outputs": [],
   "source": [
    "importacao_oi = Oi2009T12021T3()"
   ]
  },
  {
   "cell_type": "code",
   "execution_count": 10,
   "id": "fef59767-3b97-408e-9554-c08af2b16420",
   "metadata": {},
   "outputs": [],
   "source": [
    "importacao_oi.prepare()"
   ]
  },
  {
   "cell_type": "code",
   "execution_count": 11,
   "id": "67e7dfc8-ab34-4330-999c-95e10b8c960f",
   "metadata": {},
   "outputs": [],
   "source": [
    "valuation_factory = ValuationDefaultFactory()"
   ]
  },
  {
   "cell_type": "code",
   "execution_count": 12,
   "id": "bb40b36e-1611-402a-b43a-e17d5b5d200b",
   "metadata": {},
   "outputs": [],
   "source": [
    "valuation = valuation_factory.build(importacao_oi)"
   ]
  },
  {
   "cell_type": "code",
   "execution_count": 13,
   "id": "6d825041-1fed-48f0-a3c9-5b4d9dba2f3c",
   "metadata": {},
   "outputs": [
    {
     "name": "stdout",
     "output_type": "stream",
     "text": [
      "51\n"
     ]
    }
   ],
   "source": [
    "print(len(valuation.periodos))"
   ]
  },
  {
   "cell_type": "code",
   "execution_count": 14,
   "id": "626c8c5a-50a5-4293-9c24-72a30c9bd2d1",
   "metadata": {},
   "outputs": [
    {
     "name": "stderr",
     "output_type": "stream",
     "text": [
      "/home/zenon/dev/python/venv/lib/python3.8/site-packages/pandas/core/indexing.py:889: PerformanceWarning: indexing past lexsort depth may impact performance.\n",
      "  return self._getitem_tuple(key)\n"
     ]
    }
   ],
   "source": [
    "valuation_factory.load(valuation, importacao_oi)"
   ]
  },
  {
   "cell_type": "code",
   "execution_count": 15,
   "id": "d68a2530-bc73-40d0-b3b8-0a6bfef8408a",
   "metadata": {},
   "outputs": [
    {
     "name": "stdout",
     "output_type": "stream",
     "text": [
      "2021T3\n"
     ]
    }
   ],
   "source": [
    "print(valuation.periodos[-1].identificador)"
   ]
  },
  {
   "cell_type": "code",
   "execution_count": 10,
   "id": "31e25940-c8d2-4ca1-b55c-03fa7fa3f309",
   "metadata": {},
   "outputs": [],
   "source": [
    "#print(valuation.periodos[-1])"
   ]
  },
  {
   "cell_type": "code",
   "execution_count": 16,
   "id": "9e43947e-f359-4f98-8d28-3d19e316713c",
   "metadata": {},
   "outputs": [],
   "source": [
    "reporter = ReporterDefault()"
   ]
  },
  {
   "cell_type": "code",
   "execution_count": 17,
   "id": "794d53db-11a1-44b6-a254-33679e7e9827",
   "metadata": {},
   "outputs": [
    {
     "name": "stdout",
     "output_type": "stream",
     "text": [
      "type(report): <class 'list'>\n",
      "len(report): 5\n",
      "report: [['2009T1', '2009T2', '2009T3', '2009T4', '2010T1', '2010T2', '2010T3', '2010T4', '2011T1', '2011T2', '2011T3', '2011T4', '2012T1', '2012T2', '2012T3', '2012T4', '2013T1', '2013T2', '2013T3', '2013T4', '2014T1', '2014T2', '2014T3', '2014T4', '2015T1', '2015T2', '2015T3', '2015T4', '2016T1', '2016T2', '2016T3', '2016T4', '2017T1', '2017T2', '2017T3', '2017T4', '2018T1', '2018T2', '2018T3', '2018T4', '2019T1', '2019T2', '2019T3', '2019T4', '2020T1', '2020T2', '2020T3', '2020T4', '2021T1', '2021T2', '2021T3'], [5561048000, 5277123000, 6996281000, 7035468000, 5233046000, 5125794000, 5072095000, 26886114000, 26810855000, 25999657000, 28603970000, 31664031000, 70957595000, 65305448000, 66838975000, 69076894000, 68617009000, 68014996000, 68711498000, 70096071000, 69568360000, 107831964000, 107802315000, 102789122000, 106983720000, 93310158000, 101188514000, 97014806000, 93327760000, 77175661000, 80311224000, 82171198000, 81546725000, 82937581000, 82455611000, 68639036000, 68683226000, 67431739000, 67230550000, 65437797000, 77790180000, 76366741000, 72866528000, 71891822000, 73946557000, 73152082000, 72664343000, 73839787000, 72951556000, 74894122000, 75529348000], [51916000, 48996000, 43596000, 42063000, 31848000, 24231000, 19733000, 8486797000, 8245326000, 7162456000, 9304895000, 12245573000, 27598747000, 19526501000, 19940434000, 21144786000, 19039536000, 17257072000, 16758419000, 17687138000, 17053479000, 25374900000, 28335570000, 49286795000, 51075136000, 38040861000, 41009788000, 38067009000, 29202301000, 25074110000, 28037963000, 26706577000, 25846489000, 26374940000, 25885015000, 23747748000, 24207041000, 23256189000, 22835476000, 21313484000, 24059282000, 21937103000, 20154514000, 17993281000, 19359261000, 19175662000, 18179103000, 33795738000, 34874659000, 43849483000, 46291077000], [5509132000, 5228127000, 6952685000, 6993405000, 5201198000, 5101563000, 5052362000, 18399317000, 18565529000, 18837201000, 19299075000, 19418458000, 43358848000, 45778947000, 46898541000, 47932108000, 49577473000, 50757924000, 51953079000, 52408933000, 52514881000, 82457064000, 79466745000, 53502327000, 55908584000, 55269297000, 60178726000, 58947797000, 64125459000, 52101551000, 52273261000, 55464621000, 55700236000, 56562641000, 56570596000, 44891288000, 44476185000, 44175550000, 44395074000, 44124313000, 53730898000, 54429638000, 52712014000, 53898541000, 54587296000, 53976420000, 54485240000, 40044049000, 38076897000, 31044639000, 29238271000], [False, False, False, False, False, False, False, True, True, True, True, True, True, True, True, True, True, True, True, True, True, True, True, True, True, True, True, True, True, True, True, True, True, True, True, True, True, True, True, True, True, True, True, True, True, True, True, True, True, True, True]]\n"
     ]
    }
   ],
   "source": [
    "report = valuation.report(reporter)"
   ]
  },
  {
   "cell_type": "code",
   "execution_count": 18,
   "id": "eaac2956-aabd-42b5-bd3f-36457570fdd3",
   "metadata": {},
   "outputs": [
    {
     "data": {
      "text/plain": [
       "list"
      ]
     },
     "execution_count": 18,
     "metadata": {},
     "output_type": "execute_result"
    }
   ],
   "source": [
    "type(report)"
   ]
  },
  {
   "cell_type": "code",
   "execution_count": 19,
   "id": "c7fffc2c-f5ac-4951-b52a-44286640ea0f",
   "metadata": {},
   "outputs": [
    {
     "name": "stdout",
     "output_type": "stream",
     "text": [
      "[['2009T1', '2009T2', '2009T3', '2009T4', '2010T1', '2010T2', '2010T3', '2010T4', '2011T1', '2011T2', '2011T3', '2011T4', '2012T1', '2012T2', '2012T3', '2012T4', '2013T1', '2013T2', '2013T3', '2013T4', '2014T1', '2014T2', '2014T3', '2014T4', '2015T1', '2015T2', '2015T3', '2015T4', '2016T1', '2016T2', '2016T3', '2016T4', '2017T1', '2017T2', '2017T3', '2017T4', '2018T1', '2018T2', '2018T3', '2018T4', '2019T1', '2019T2', '2019T3', '2019T4', '2020T1', '2020T2', '2020T3', '2020T4', '2021T1', '2021T2', '2021T3'], [5561048000, 5277123000, 6996281000, 7035468000, 5233046000, 5125794000, 5072095000, 26886114000, 26810855000, 25999657000, 28603970000, 31664031000, 70957595000, 65305448000, 66838975000, 69076894000, 68617009000, 68014996000, 68711498000, 70096071000, 69568360000, 107831964000, 107802315000, 102789122000, 106983720000, 93310158000, 101188514000, 97014806000, 93327760000, 77175661000, 80311224000, 82171198000, 81546725000, 82937581000, 82455611000, 68639036000, 68683226000, 67431739000, 67230550000, 65437797000, 77790180000, 76366741000, 72866528000, 71891822000, 73946557000, 73152082000, 72664343000, 73839787000, 72951556000, 74894122000, 75529348000], [51916000, 48996000, 43596000, 42063000, 31848000, 24231000, 19733000, 8486797000, 8245326000, 7162456000, 9304895000, 12245573000, 27598747000, 19526501000, 19940434000, 21144786000, 19039536000, 17257072000, 16758419000, 17687138000, 17053479000, 25374900000, 28335570000, 49286795000, 51075136000, 38040861000, 41009788000, 38067009000, 29202301000, 25074110000, 28037963000, 26706577000, 25846489000, 26374940000, 25885015000, 23747748000, 24207041000, 23256189000, 22835476000, 21313484000, 24059282000, 21937103000, 20154514000, 17993281000, 19359261000, 19175662000, 18179103000, 33795738000, 34874659000, 43849483000, 46291077000], [5509132000, 5228127000, 6952685000, 6993405000, 5201198000, 5101563000, 5052362000, 18399317000, 18565529000, 18837201000, 19299075000, 19418458000, 43358848000, 45778947000, 46898541000, 47932108000, 49577473000, 50757924000, 51953079000, 52408933000, 52514881000, 82457064000, 79466745000, 53502327000, 55908584000, 55269297000, 60178726000, 58947797000, 64125459000, 52101551000, 52273261000, 55464621000, 55700236000, 56562641000, 56570596000, 44891288000, 44476185000, 44175550000, 44395074000, 44124313000, 53730898000, 54429638000, 52712014000, 53898541000, 54587296000, 53976420000, 54485240000, 40044049000, 38076897000, 31044639000, 29238271000], [False, False, False, False, False, False, False, True, True, True, True, True, True, True, True, True, True, True, True, True, True, True, True, True, True, True, True, True, True, True, True, True, True, True, True, True, True, True, True, True, True, True, True, True, True, True, True, True, True, True, True]]\n"
     ]
    }
   ],
   "source": [
    "print(report)"
   ]
  },
  {
   "cell_type": "code",
   "execution_count": null,
   "id": "1260db34-c60a-4eba-9f6b-16cb00c58585",
   "metadata": {},
   "outputs": [],
   "source": []
  },
  {
   "cell_type": "code",
   "execution_count": null,
   "id": "e500af91-ea2a-4918-aa1a-ba85265149b3",
   "metadata": {},
   "outputs": [],
   "source": []
  },
  {
   "cell_type": "code",
   "execution_count": null,
   "id": "fb7cfe52-26b8-4c0d-a997-8a01ddb1eb78",
   "metadata": {},
   "outputs": [],
   "source": []
  },
  {
   "cell_type": "code",
   "execution_count": null,
   "id": "bcd04a9d-7bd5-4fb6-91e9-1ba1fb065ca7",
   "metadata": {},
   "outputs": [],
   "source": []
  },
  {
   "cell_type": "code",
   "execution_count": null,
   "id": "c69e3de0-7e56-43bd-ac9e-17d39e01e8c4",
   "metadata": {},
   "outputs": [],
   "source": []
  },
  {
   "cell_type": "code",
   "execution_count": null,
   "id": "a99c49f8-e1c6-4667-8afa-d8f805f9b694",
   "metadata": {},
   "outputs": [],
   "source": []
  },
  {
   "cell_type": "code",
   "execution_count": null,
   "id": "8264c6ca-ae9d-4c7b-8683-41f06a21f18d",
   "metadata": {},
   "outputs": [],
   "source": []
  },
  {
   "cell_type": "code",
   "execution_count": null,
   "id": "bb9e9416-082b-401e-9013-0f2031211377",
   "metadata": {},
   "outputs": [],
   "source": []
  },
  {
   "cell_type": "code",
   "execution_count": null,
   "id": "ae6d7f79-c253-4171-b4ab-f3651dd33516",
   "metadata": {},
   "outputs": [],
   "source": []
  },
  {
   "cell_type": "code",
   "execution_count": null,
   "id": "20b6fcc6-2a9b-432a-ac83-16cb02a70310",
   "metadata": {},
   "outputs": [],
   "source": []
  },
  {
   "cell_type": "code",
   "execution_count": null,
   "id": "b9f0dc3a-e4d2-4508-8acf-1cbe9c055182",
   "metadata": {},
   "outputs": [],
   "source": []
  }
 ],
 "metadata": {
  "kernelspec": {
   "display_name": "Python 3",
   "language": "python",
   "name": "python3"
  },
  "language_info": {
   "codemirror_mode": {
    "name": "ipython",
    "version": 3
   },
   "file_extension": ".py",
   "mimetype": "text/x-python",
   "name": "python",
   "nbconvert_exporter": "python",
   "pygments_lexer": "ipython3",
   "version": "3.8.10"
  }
 },
 "nbformat": 4,
 "nbformat_minor": 5
}
