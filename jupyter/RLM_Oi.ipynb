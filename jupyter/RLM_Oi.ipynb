{
 "cells": [
  {
   "cell_type": "code",
   "execution_count": 1,
   "id": "c280782f-0468-4314-8623-217e5ab3ec2f",
   "metadata": {
    "tags": []
   },
   "outputs": [],
   "source": [
    "import pandas as pd\n",
    "import numpy as np"
   ]
  },
  {
   "cell_type": "code",
   "execution_count": 2,
   "id": "cb77f960-dd3f-437a-a6fd-efb478029473",
   "metadata": {},
   "outputs": [],
   "source": [
    "from lib.importacao.economatica.oi_dados_trimestrais_anualizados import Oi2009T12021T3\n",
    "from lib.valuation.valuation import Valuation\n",
    "from lib.valuation.factories.valuation_periodo_trimestral_factory import ValuationPeriodoTrimestralFactory\n",
    "from lib.valuation.reporters.reporter_default import ReporterDefault"
   ]
  },
  {
   "cell_type": "code",
   "execution_count": 3,
   "id": "81c2a57a-29fd-47cf-befb-0647ae799f07",
   "metadata": {
    "tags": []
   },
   "outputs": [],
   "source": [
    "importacao_oi = Oi2009T12021T3()"
   ]
  },
  {
   "cell_type": "code",
   "execution_count": 4,
   "id": "fef59767-3b97-408e-9554-c08af2b16420",
   "metadata": {},
   "outputs": [],
   "source": [
    "importacao_oi.prepare()"
   ]
  },
  {
   "cell_type": "code",
   "execution_count": 5,
   "id": "67e7dfc8-ab34-4330-999c-95e10b8c960f",
   "metadata": {},
   "outputs": [],
   "source": [
    "valuation_factory = ValuationPeriodoTrimestralFactory()"
   ]
  },
  {
   "cell_type": "code",
   "execution_count": 6,
   "id": "bb40b36e-1611-402a-b43a-e17d5b5d200b",
   "metadata": {},
   "outputs": [],
   "source": [
    "valuation = valuation_factory.build(importacao_oi)"
   ]
  },
  {
   "cell_type": "code",
   "execution_count": 7,
   "id": "6d825041-1fed-48f0-a3c9-5b4d9dba2f3c",
   "metadata": {},
   "outputs": [
    {
     "name": "stdout",
     "output_type": "stream",
     "text": [
      "51\n"
     ]
    }
   ],
   "source": [
    "print(len(valuation.periodos))"
   ]
  },
  {
   "cell_type": "code",
   "execution_count": 8,
   "id": "626c8c5a-50a5-4293-9c24-72a30c9bd2d1",
   "metadata": {},
   "outputs": [
    {
     "name": "stderr",
     "output_type": "stream",
     "text": [
      "C:\\home\\zfbf\\dev\\projects\\Valuation\\jupyter\\lib\\importacao\\economatica\\dados.py:56: PerformanceWarning: indexing past lexsort depth may impact performance.\n",
      "  valor = self.df.loc[index, codigo_periodo].values[-1]\n"
     ]
    },
    {
     "name": "stdout",
     "output_type": "stream",
     "text": [
      "Not a number: codigo_periodo: 2009T1,\tconta_index: ('bp', 'passivo', 'circulante', 'outras_obrigacoes', 'outros_cp', 'outros'),\tsaldo: -\n",
      "Not a number: codigo_periodo: 2009T2,\tconta_index: ('bp', 'passivo', 'circulante', 'outras_obrigacoes', 'outros_cp', 'outros'),\tsaldo: -\n",
      "Not a number: codigo_periodo: 2009T3,\tconta_index: ('bp', 'passivo', 'circulante', 'outras_obrigacoes', 'outros_cp', 'outros'),\tsaldo: -\n",
      "Not a number: codigo_periodo: 2009T4,\tconta_index: ('bp', 'passivo', 'circulante', 'outras_obrigacoes', 'outros_cp', 'outros'),\tsaldo: -\n",
      "Not a number: codigo_periodo: 2010T1,\tconta_index: ('bp', 'passivo', 'circulante', 'outras_obrigacoes', 'outros_cp', 'outros'),\tsaldo: -\n",
      "Not a number: codigo_periodo: 2010T2,\tconta_index: ('bp', 'passivo', 'circulante', 'outras_obrigacoes', 'outros_cp', 'outros'),\tsaldo: -\n",
      "Not a number: codigo_periodo: 2010T3,\tconta_index: ('bp', 'passivo', 'circulante', 'outras_obrigacoes', 'outros_cp', 'outros'),\tsaldo: -\n"
     ]
    }
   ],
   "source": [
    "valuation_factory.load(valuation, importacao_oi)"
   ]
  },
  {
   "cell_type": "code",
   "execution_count": 9,
   "id": "d68a2530-bc73-40d0-b3b8-0a6bfef8408a",
   "metadata": {},
   "outputs": [
    {
     "name": "stdout",
     "output_type": "stream",
     "text": [
      "2021T3\n"
     ]
    }
   ],
   "source": [
    "print(valuation.periodos[-1].identificador)"
   ]
  },
  {
   "cell_type": "code",
   "execution_count": 10,
   "id": "31e25940-c8d2-4ca1-b55c-03fa7fa3f309",
   "metadata": {},
   "outputs": [],
   "source": [
    "#print(valuation.periodos[-1])"
   ]
  },
  {
   "cell_type": "code",
   "execution_count": 11,
   "id": "9e43947e-f359-4f98-8d28-3d19e316713c",
   "metadata": {},
   "outputs": [],
   "source": [
    "#reporter = ReporterDefault()"
   ]
  },
  {
   "cell_type": "code",
   "execution_count": 12,
   "id": "794d53db-11a1-44b6-a254-33679e7e9827",
   "metadata": {},
   "outputs": [],
   "source": [
    "#report = valuation.report(reporter)"
   ]
  },
  {
   "cell_type": "code",
   "execution_count": 13,
   "id": "eaac2956-aabd-42b5-bd3f-36457570fdd3",
   "metadata": {},
   "outputs": [],
   "source": [
    "#type(report)"
   ]
  },
  {
   "cell_type": "code",
   "execution_count": 14,
   "id": "c7fffc2c-f5ac-4951-b52a-44286640ea0f",
   "metadata": {},
   "outputs": [],
   "source": [
    "#print(report)"
   ]
  },
  {
   "cell_type": "code",
   "execution_count": 15,
   "id": "1260db34-c60a-4eba-9f6b-16cb00c58585",
   "metadata": {},
   "outputs": [
    {
     "name": "stdout",
     "output_type": "stream",
     "text": [
      "Dentro de get_indices_liquidez\n",
      "ano: 2021\n"
     ]
    }
   ],
   "source": [
    "indices_liquidez = valuation.get_indices_liquidez(2011, 1, 2021, 3)"
   ]
  },
  {
   "cell_type": "code",
   "execution_count": 16,
   "id": "e500af91-ea2a-4918-aa1a-ba85265149b3",
   "metadata": {},
   "outputs": [],
   "source": [
    "df = pd.DataFrame(data=indices_liquidez)"
   ]
  },
  {
   "cell_type": "code",
   "execution_count": 17,
   "id": "fb7cfe52-26b8-4c0d-a997-8a01ddb1eb78",
   "metadata": {},
   "outputs": [],
   "source": [
    "df.to_excel('indices_liquidez_Oi.xlsx')"
   ]
  },
  {
   "cell_type": "code",
   "execution_count": null,
   "id": "bcd04a9d-7bd5-4fb6-91e9-1ba1fb065ca7",
   "metadata": {},
   "outputs": [],
   "source": []
  },
  {
   "cell_type": "code",
   "execution_count": null,
   "id": "c69e3de0-7e56-43bd-ac9e-17d39e01e8c4",
   "metadata": {},
   "outputs": [],
   "source": []
  },
  {
   "cell_type": "code",
   "execution_count": null,
   "id": "a99c49f8-e1c6-4667-8afa-d8f805f9b694",
   "metadata": {},
   "outputs": [],
   "source": []
  },
  {
   "cell_type": "code",
   "execution_count": null,
   "id": "8264c6ca-ae9d-4c7b-8683-41f06a21f18d",
   "metadata": {},
   "outputs": [],
   "source": []
  },
  {
   "cell_type": "code",
   "execution_count": null,
   "id": "bb9e9416-082b-401e-9013-0f2031211377",
   "metadata": {},
   "outputs": [],
   "source": []
  },
  {
   "cell_type": "code",
   "execution_count": null,
   "id": "ae6d7f79-c253-4171-b4ab-f3651dd33516",
   "metadata": {},
   "outputs": [],
   "source": []
  },
  {
   "cell_type": "code",
   "execution_count": null,
   "id": "20b6fcc6-2a9b-432a-ac83-16cb02a70310",
   "metadata": {},
   "outputs": [],
   "source": []
  },
  {
   "cell_type": "code",
   "execution_count": null,
   "id": "b9f0dc3a-e4d2-4508-8acf-1cbe9c055182",
   "metadata": {},
   "outputs": [],
   "source": []
  },
  {
   "cell_type": "code",
   "execution_count": null,
   "id": "7158fb03-9d7f-4999-bb56-600daaa31129",
   "metadata": {},
   "outputs": [],
   "source": []
  },
  {
   "cell_type": "code",
   "execution_count": null,
   "id": "651c92b2-751d-4b8a-b01d-f4276889f5a4",
   "metadata": {},
   "outputs": [],
   "source": []
  },
  {
   "cell_type": "code",
   "execution_count": null,
   "id": "415b0f87-7557-4ef7-90f7-99c1e4f22388",
   "metadata": {},
   "outputs": [],
   "source": []
  },
  {
   "cell_type": "code",
   "execution_count": null,
   "id": "93a7afe4-b608-4d91-ba78-8f1591dc6c56",
   "metadata": {},
   "outputs": [],
   "source": []
  },
  {
   "cell_type": "code",
   "execution_count": null,
   "id": "796aff5a-83a3-4e95-8f70-62c7c81d8feb",
   "metadata": {},
   "outputs": [],
   "source": []
  }
 ],
 "metadata": {
  "kernelspec": {
   "display_name": "Python 3 (ipykernel)",
   "language": "python",
   "name": "python3"
  },
  "language_info": {
   "codemirror_mode": {
    "name": "ipython",
    "version": 3
   },
   "file_extension": ".py",
   "mimetype": "text/x-python",
   "name": "python",
   "nbconvert_exporter": "python",
   "pygments_lexer": "ipython3",
   "version": "3.9.6"
  }
 },
 "nbformat": 4,
 "nbformat_minor": 5
}
