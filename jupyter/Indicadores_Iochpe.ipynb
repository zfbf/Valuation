{
 "cells": [
  {
   "cell_type": "code",
   "execution_count": 1,
   "id": "c280782f-0468-4314-8623-217e5ab3ec2f",
   "metadata": {
    "tags": []
   },
   "outputs": [],
   "source": [
    "import pandas as pd\n",
    "import numpy as np"
   ]
  },
  {
   "cell_type": "code",
   "execution_count": 2,
   "id": "cb77f960-dd3f-437a-a6fd-efb478029473",
   "metadata": {},
   "outputs": [],
   "source": [
    "from lib.valuation.valuation import Valuation\n",
    "from lib.valuation.factories.valuation_periodo_trimestral_factory import ValuationPeriodoTrimestralFactory\n",
    "from lib.valuation.reporters.reporter_default import ReporterDefault"
   ]
  },
  {
   "cell_type": "code",
   "execution_count": 3,
   "id": "d8615794-805e-46de-914c-2933486a0dfc",
   "metadata": {
    "tags": []
   },
   "outputs": [],
   "source": [
    "from lib.importacao.economatica.empresas.iochpe.dados_2009T1_2021T4 import Iochpe2009T12021T4\n",
    "from lib.importacao.economatica.empresas.embraer.dados_2009T1_2021T4 import Embraer2009T12021T4"
   ]
  },
  {
   "cell_type": "code",
   "execution_count": 4,
   "id": "c8dc127f-c708-413d-8889-57b1f46caee7",
   "metadata": {},
   "outputs": [],
   "source": [
    "from lib.valuation.reporters.indices.liquidez.geral import IndiceLiquidezGeralReporter"
   ]
  },
  {
   "cell_type": "code",
   "execution_count": 5,
   "id": "81c2a57a-29fd-47cf-befb-0647ae799f07",
   "metadata": {},
   "outputs": [],
   "source": [
    "iochpe_importacao = Iochpe2009T12021T4()\n",
    "embraer_importacao = Embraer2009T12021T4()"
   ]
  },
  {
   "cell_type": "code",
   "execution_count": 6,
   "id": "fef59767-3b97-408e-9554-c08af2b16420",
   "metadata": {
    "tags": []
   },
   "outputs": [],
   "source": [
    "iochpe_importacao.prepare()\n",
    "embraer_importacao.prepare()"
   ]
  },
  {
   "cell_type": "code",
   "execution_count": 7,
   "id": "67e7dfc8-ab34-4330-999c-95e10b8c960f",
   "metadata": {
    "tags": []
   },
   "outputs": [],
   "source": [
    "valuation_factory = ValuationPeriodoTrimestralFactory()"
   ]
  },
  {
   "cell_type": "code",
   "execution_count": 8,
   "id": "bb40b36e-1611-402a-b43a-e17d5b5d200b",
   "metadata": {},
   "outputs": [],
   "source": [
    "iochpe_valuation = valuation_factory.build(iochpe_importacao)\n",
    "embraer_valuation = valuation_factory.build(embraer_importacao)"
   ]
  },
  {
   "cell_type": "code",
   "execution_count": 9,
   "id": "6d825041-1fed-48f0-a3c9-5b4d9dba2f3c",
   "metadata": {},
   "outputs": [
    {
     "name": "stdout",
     "output_type": "stream",
     "text": [
      "Iochpe períodos: 52\n",
      "Embraer períodos: 52\n"
     ]
    }
   ],
   "source": [
    "print('Iochpe períodos: {}'.format(len(iochpe_valuation.periodos)))\n",
    "print('Embraer períodos: {}'.format(len(embraer_valuation.periodos)))"
   ]
  },
  {
   "cell_type": "code",
   "execution_count": 10,
   "id": "626c8c5a-50a5-4293-9c24-72a30c9bd2d1",
   "metadata": {},
   "outputs": [],
   "source": [
    "valuation_factory.load(iochpe_valuation, iochpe_importacao)\n",
    "valuation_factory.load(embraer_valuation, embraer_importacao)"
   ]
  },
  {
   "cell_type": "code",
   "execution_count": 11,
   "id": "d68a2530-bc73-40d0-b3b8-0a6bfef8408a",
   "metadata": {},
   "outputs": [
    {
     "name": "stdout",
     "output_type": "stream",
     "text": [
      "Último período Iochpe: 2021T4\n",
      "Último período Embraer: 2021T4\n"
     ]
    }
   ],
   "source": [
    "print('Último período Iochpe: {}'.format(iochpe_valuation.periodos[-1].identificador))\n",
    "print('Último período Embraer: {}'.format(embraer_valuation.periodos[-1].identificador))"
   ]
  },
  {
   "cell_type": "code",
   "execution_count": 12,
   "id": "31e25940-c8d2-4ca1-b55c-03fa7fa3f309",
   "metadata": {},
   "outputs": [],
   "source": [
    "#print(valuation.periodos[-1])"
   ]
  },
  {
   "cell_type": "code",
   "execution_count": 13,
   "id": "9e43947e-f359-4f98-8d28-3d19e316713c",
   "metadata": {},
   "outputs": [],
   "source": [
    "#reporter = ReporterDefault()"
   ]
  },
  {
   "cell_type": "code",
   "execution_count": 14,
   "id": "794d53db-11a1-44b6-a254-33679e7e9827",
   "metadata": {},
   "outputs": [],
   "source": [
    "#report = valuation.report(reporter)"
   ]
  },
  {
   "cell_type": "code",
   "execution_count": 15,
   "id": "eaac2956-aabd-42b5-bd3f-36457570fdd3",
   "metadata": {},
   "outputs": [],
   "source": [
    "#type(report)"
   ]
  },
  {
   "cell_type": "code",
   "execution_count": null,
   "id": "c7fffc2c-f5ac-4951-b52a-44286640ea0f",
   "metadata": {},
   "outputs": [],
   "source": []
  },
  {
   "cell_type": "code",
   "execution_count": 16,
   "id": "1260db34-c60a-4eba-9f6b-16cb00c58585",
   "metadata": {},
   "outputs": [],
   "source": [
    "iochpe_ind_liquidez_geral_reporter = IndiceLiquidezGeralReporter(iochpe_valuation)"
   ]
  },
  {
   "cell_type": "code",
   "execution_count": 17,
   "id": "3fe4b21f-3771-4e26-b437-374fa9811a00",
   "metadata": {},
   "outputs": [],
   "source": [
    "outros_valuations = [embraer_valuation]"
   ]
  },
  {
   "cell_type": "code",
   "execution_count": 18,
   "id": "57ca8cf2-6cf0-4cf1-a089-476c5ce01389",
   "metadata": {},
   "outputs": [],
   "source": [
    "iochpe_ind_liquidez_geral_dict = iochpe_ind_liquidez_geral_reporter.execute(outros=outros_valuations)\n",
    "#iochpe_ind_liquidez_geral_dict = iochpe_ind_liquidez_geral_reporter.execute()"
   ]
  },
  {
   "cell_type": "code",
   "execution_count": 23,
   "id": "e500af91-ea2a-4918-aa1a-ba85265149b3",
   "metadata": {},
   "outputs": [
    {
     "data": {
      "text/plain": [
       "{'ano_inicial': 2010,\n",
       " 'trimestre_inicial': 1,\n",
       " 'ano_final': 2021,\n",
       " 'trimestre_final': 4,\n",
       " 'modo': 'COMPARACAO_SIMPLES',\n",
       " 'empresa_base': {'nome': 'Iochpe',\n",
       "  'liquidez_geral': [0.584103869147838,\n",
       "   0.831553340642971,\n",
       "   0.9834250822912136,\n",
       "   0.850111493398518,\n",
       "   0.8671196723797967,\n",
       "   0.8813189852879552,\n",
       "   0.9076730540068945,\n",
       "   0.8630865174835483,\n",
       "   0.5229147673508622,\n",
       "   0.49627397756377334,\n",
       "   0.5050097161828908,\n",
       "   0.5007474430588548,\n",
       "   0.4939150572113871,\n",
       "   0.49940160289740737,\n",
       "   0.503037174729586,\n",
       "   0.5196824808064583,\n",
       "   0.5085464750511063,\n",
       "   0.5131403914679369,\n",
       "   0.5002163610557334,\n",
       "   0.50889279821779,\n",
       "   0.5208808760033026,\n",
       "   0.5157187564851875,\n",
       "   0.5350319156858596,\n",
       "   0.5189957731353123,\n",
       "   0.5155347190049783,\n",
       "   0.5257071325787549,\n",
       "   0.520438283917726,\n",
       "   0.5265365062723734,\n",
       "   0.6320050374760575,\n",
       "   0.6510035636522936,\n",
       "   0.6540122408630397,\n",
       "   0.6484430555300966,\n",
       "   0.6962906148626884,\n",
       "   0.6680613668061367,\n",
       "   0.6799104875907158,\n",
       "   0.6712262847033061,\n",
       "   0.6809397631735382,\n",
       "   0.6892206560497713,\n",
       "   0.7062832279705542,\n",
       "   0.6627478231876341,\n",
       "   0.677317186722775,\n",
       "   0.6407257572809485,\n",
       "   0.672490386407142,\n",
       "   0.6727294395822438,\n",
       "   0.7025141162467142,\n",
       "   0.7491031499712408,\n",
       "   0.77965398303858,\n",
       "   0.7633450513964901]},\n",
       " 'outras_empresas': [{'nome': 'Embraer',\n",
       "   'liquidez_geral': [1.5742434819558686,\n",
       "    1.6911333776334978,\n",
       "    2.0771137294036266,\n",
       "    1.6607853181537326,\n",
       "    1.2175200165039506,\n",
       "    1.1817100672044518,\n",
       "    1.5187489678157,\n",
       "    1.1491846817154103,\n",
       "    1.1377255268054032,\n",
       "    1.1300981153088843,\n",
       "    1.1425771094598773,\n",
       "    1.1063476787821331,\n",
       "    1.0820646082266328,\n",
       "    1.0714430536583823,\n",
       "    1.0663464960155498,\n",
       "    1.0813854503297784,\n",
       "    1.096897126550065,\n",
       "    1.1129115375651732,\n",
       "    1.0972166883102215,\n",
       "    1.0882400471954579,\n",
       "    1.0780675410430698,\n",
       "    1.0767685891408607,\n",
       "    1.052728318553675,\n",
       "    1.0523467974595395,\n",
       "    1.061248650108764,\n",
       "    1.0291433240231396,\n",
       "    1.007113137314391,\n",
       "    1.015336003012576,\n",
       "    1.0160341805611999,\n",
       "    1.0151828781597543,\n",
       "    1.0236305142951516,\n",
       "    1.024409617962179,\n",
       "    1.0287574410378921,\n",
       "    1.016106536809574,\n",
       "    1.010723034384863,\n",
       "    1.0095659540188688,\n",
       "    4.976828582570825,\n",
       "    4.69341778402724,\n",
       "    4.5500714696266655,\n",
       "    4.389193203180108,\n",
       "    3.3390129287788564,\n",
       "    0.8629891989136261,\n",
       "    0.8531478727183591,\n",
       "    0.8475323424581558,\n",
       "    0.8291043945259711,\n",
       "    0.8408053477125953,\n",
       "    0.8313901894717568,\n",
       "    0.8438011534970441]}]}"
      ]
     },
     "execution_count": 23,
     "metadata": {},
     "output_type": "execute_result"
    }
   ],
   "source": [
    "iochpe_ind_liquidez_geral_dict"
   ]
  },
  {
   "cell_type": "code",
   "execution_count": 24,
   "id": "7253120d-5706-44b9-a64a-a61827b4ad9b",
   "metadata": {},
   "outputs": [
    {
     "data": {
      "text/plain": [
       "[{'nome': 'Embraer',\n",
       "  'liquidez_geral': [1.5742434819558686,\n",
       "   1.6911333776334978,\n",
       "   2.0771137294036266,\n",
       "   1.6607853181537326,\n",
       "   1.2175200165039506,\n",
       "   1.1817100672044518,\n",
       "   1.5187489678157,\n",
       "   1.1491846817154103,\n",
       "   1.1377255268054032,\n",
       "   1.1300981153088843,\n",
       "   1.1425771094598773,\n",
       "   1.1063476787821331,\n",
       "   1.0820646082266328,\n",
       "   1.0714430536583823,\n",
       "   1.0663464960155498,\n",
       "   1.0813854503297784,\n",
       "   1.096897126550065,\n",
       "   1.1129115375651732,\n",
       "   1.0972166883102215,\n",
       "   1.0882400471954579,\n",
       "   1.0780675410430698,\n",
       "   1.0767685891408607,\n",
       "   1.052728318553675,\n",
       "   1.0523467974595395,\n",
       "   1.061248650108764,\n",
       "   1.0291433240231396,\n",
       "   1.007113137314391,\n",
       "   1.015336003012576,\n",
       "   1.0160341805611999,\n",
       "   1.0151828781597543,\n",
       "   1.0236305142951516,\n",
       "   1.024409617962179,\n",
       "   1.0287574410378921,\n",
       "   1.016106536809574,\n",
       "   1.010723034384863,\n",
       "   1.0095659540188688,\n",
       "   4.976828582570825,\n",
       "   4.69341778402724,\n",
       "   4.5500714696266655,\n",
       "   4.389193203180108,\n",
       "   3.3390129287788564,\n",
       "   0.8629891989136261,\n",
       "   0.8531478727183591,\n",
       "   0.8475323424581558,\n",
       "   0.8291043945259711,\n",
       "   0.8408053477125953,\n",
       "   0.8313901894717568,\n",
       "   0.8438011534970441]}]"
      ]
     },
     "execution_count": 24,
     "metadata": {},
     "output_type": "execute_result"
    }
   ],
   "source": [
    "iochpe_ind_liquidez_geral_dict['outras_empresas']"
   ]
  },
  {
   "cell_type": "code",
   "execution_count": 37,
   "id": "6c9f2c53-cd27-4cef-9e46-03b63f0772b5",
   "metadata": {},
   "outputs": [
    {
     "data": {
      "text/plain": [
       "['Iochpe', 'Embraer']"
      ]
     },
     "execution_count": 37,
     "metadata": {},
     "output_type": "execute_result"
    }
   ],
   "source": [
    "aux_dict = iochpe_ind_liquidez_geral_dict\n",
    "nome_empresa_base = aux_dict['empresa_base']['nome']\n",
    "nomes_outras_empresas = [d['nome'] for d in aux_dict['outras_empresas']]\n",
    "keys = [nome_empresa_base] + nomes_outras_empresas\n",
    "keys"
   ]
  },
  {
   "cell_type": "code",
   "execution_count": 45,
   "id": "0cc5d9a8-b219-472c-80ac-c2ef35946763",
   "metadata": {},
   "outputs": [],
   "source": [
    "ind_liquidez_geral_empresa_base = aux_dict['empresa_base']['liquidez_geral']\n",
    "ind_liquidez_geral_outras_empresas = [d['liquidez_geral'] for d in aux_dict['outras_empresas']]\n",
    "values = [ind_liquidez_geral_empresa_base] + ind_liquidez_geral_outras_empresas"
   ]
  },
  {
   "cell_type": "code",
   "execution_count": 48,
   "id": "8c339b13-f527-4373-a1c9-260df6d944d5",
   "metadata": {},
   "outputs": [],
   "source": [
    "df = pd.DataFrame.from_dict(zip(keys, values))"
   ]
  },
  {
   "cell_type": "code",
   "execution_count": 49,
   "id": "ea01a0c7-fdf3-4074-8ed7-5adeb65526c2",
   "metadata": {},
   "outputs": [
    {
     "data": {
      "text/html": [
       "<div>\n",
       "<style scoped>\n",
       "    .dataframe tbody tr th:only-of-type {\n",
       "        vertical-align: middle;\n",
       "    }\n",
       "\n",
       "    .dataframe tbody tr th {\n",
       "        vertical-align: top;\n",
       "    }\n",
       "\n",
       "    .dataframe thead th {\n",
       "        text-align: right;\n",
       "    }\n",
       "</style>\n",
       "<table border=\"1\" class=\"dataframe\">\n",
       "  <thead>\n",
       "    <tr style=\"text-align: right;\">\n",
       "      <th></th>\n",
       "      <th>0</th>\n",
       "      <th>1</th>\n",
       "    </tr>\n",
       "  </thead>\n",
       "  <tbody>\n",
       "    <tr>\n",
       "      <th>0</th>\n",
       "      <td>Iochpe</td>\n",
       "      <td>[0.584103869147838, 0.831553340642971, 0.98342...</td>\n",
       "    </tr>\n",
       "    <tr>\n",
       "      <th>1</th>\n",
       "      <td>Embraer</td>\n",
       "      <td>[1.5742434819558686, 1.6911333776334978, 2.077...</td>\n",
       "    </tr>\n",
       "  </tbody>\n",
       "</table>\n",
       "</div>"
      ],
      "text/plain": [
       "         0                                                  1\n",
       "0   Iochpe  [0.584103869147838, 0.831553340642971, 0.98342...\n",
       "1  Embraer  [1.5742434819558686, 1.6911333776334978, 2.077..."
      ]
     },
     "execution_count": 49,
     "metadata": {},
     "output_type": "execute_result"
    }
   ],
   "source": [
    "df"
   ]
  },
  {
   "cell_type": "code",
   "execution_count": null,
   "id": "123b58e0-133d-49f7-846b-c93bf79187bb",
   "metadata": {},
   "outputs": [],
   "source": []
  },
  {
   "cell_type": "code",
   "execution_count": null,
   "id": "6136ea1b-06b7-4c0a-bfb2-c1fdd9452f48",
   "metadata": {},
   "outputs": [],
   "source": []
  },
  {
   "cell_type": "code",
   "execution_count": null,
   "id": "c232f77f-56fc-4d55-a80b-c0236fa6d1db",
   "metadata": {},
   "outputs": [],
   "source": []
  },
  {
   "cell_type": "code",
   "execution_count": null,
   "id": "228cc1f9-92c6-4932-aabe-7d2f2561aad1",
   "metadata": {},
   "outputs": [],
   "source": []
  },
  {
   "cell_type": "code",
   "execution_count": null,
   "id": "5d9c42d6-12e0-4f80-b0b9-eb16b45d62d0",
   "metadata": {},
   "outputs": [],
   "source": []
  },
  {
   "cell_type": "code",
   "execution_count": null,
   "id": "36f0374a-2ecf-484c-a6a0-fb15ffda8fb5",
   "metadata": {},
   "outputs": [],
   "source": []
  },
  {
   "cell_type": "code",
   "execution_count": null,
   "id": "fb7cfe52-26b8-4c0d-a997-8a01ddb1eb78",
   "metadata": {
    "tags": []
   },
   "outputs": [],
   "source": [
    "iochpe_indices_atividade = iochpe_valuation.get_indices_atividade(2011, 4, 2021, 4)\n",
    "embraer_indices_atividade = embraer_valuation.get_indices_atividade(2011, 4, 2021, 4)"
   ]
  },
  {
   "cell_type": "code",
   "execution_count": null,
   "id": "bcd04a9d-7bd5-4fb6-91e9-1ba1fb065ca7",
   "metadata": {},
   "outputs": [],
   "source": [
    "indices_atividade = dict.fromkeys(iochpe_indices_atividade)\n",
    "\n",
    "for key in indices_atividade.keys():\n",
    "    indices_atividade[key] = iochpe_indices_atividade[key] + embraer_indices_atividade[key]"
   ]
  },
  {
   "cell_type": "code",
   "execution_count": null,
   "id": "8f755892-e60e-4760-98d7-314724663ac2",
   "metadata": {},
   "outputs": [],
   "source": [
    "iochpe_ind_atividade_df = pd.DataFrame.from_dict(indices_atividade)"
   ]
  },
  {
   "cell_type": "code",
   "execution_count": null,
   "id": "3c63a890-f2f4-4685-b963-eabe181d9931",
   "metadata": {},
   "outputs": [],
   "source": [
    "iochpe_ind_atividade_df = iochpe_ind_atividade_df.set_index(index_str_array)"
   ]
  },
  {
   "cell_type": "code",
   "execution_count": null,
   "id": "c69e3de0-7e56-43bd-ac9e-17d39e01e8c4",
   "metadata": {},
   "outputs": [],
   "source": [
    "iochpe_ind_atividade_df.rename({'prazo_medio_estoques': 'pme_iochpe'}, axis='columns')"
   ]
  },
  {
   "cell_type": "code",
   "execution_count": null,
   "id": "a99c49f8-e1c6-4667-8afa-d8f805f9b694",
   "metadata": {},
   "outputs": [],
   "source": []
  },
  {
   "cell_type": "code",
   "execution_count": null,
   "id": "c121a8fe-3025-437e-9176-0aa9deb2d612",
   "metadata": {},
   "outputs": [],
   "source": [
    "iochpe_indices_rentabilidade = iochpe_valuation.get_indices_rentabilidade(2011, 4, 2021, 4)\n",
    "embraer_indices_rentabilidade = embraer_valuation.get_indices_rentabilidade(2011, 4, 2021, 4)"
   ]
  },
  {
   "cell_type": "code",
   "execution_count": null,
   "id": "8264c6ca-ae9d-4c7b-8683-41f06a21f18d",
   "metadata": {},
   "outputs": [],
   "source": [
    "indices_rentabilidade = dict.fromkeys(iochpe_indices_rentabilidade)\n",
    "\n",
    "for key in indices_rentabilidade.keys():\n",
    "    indices_rentabilidade[key] = iochpe_indices_rentabilidade[key] + embraer_indices_rentabilidade[key]"
   ]
  },
  {
   "cell_type": "code",
   "execution_count": null,
   "id": "bb9e9416-082b-401e-9013-0f2031211377",
   "metadata": {},
   "outputs": [],
   "source": [
    "iochpe_ind_rentabilidade_df = pd.DataFrame.from_dict(indices_rentabilidade)"
   ]
  },
  {
   "cell_type": "code",
   "execution_count": null,
   "id": "c6a8860a-a55a-4af7-a1b9-578906602a21",
   "metadata": {},
   "outputs": [],
   "source": [
    "iochpe_ind_rentabilidade_df = iochpe_ind_rentabilidade_df.set_index(index_str_array)"
   ]
  },
  {
   "cell_type": "code",
   "execution_count": null,
   "id": "f3188a28-632c-4e01-8dca-da1413e41281",
   "metadata": {},
   "outputs": [],
   "source": []
  },
  {
   "cell_type": "code",
   "execution_count": null,
   "id": "f32724e4-ecad-475b-839f-04920b1c82f6",
   "metadata": {},
   "outputs": [],
   "source": []
  },
  {
   "cell_type": "code",
   "execution_count": null,
   "id": "d0b9844c-e17d-4230-a0bc-dcdf44abb0f9",
   "metadata": {},
   "outputs": [],
   "source": []
  },
  {
   "cell_type": "code",
   "execution_count": null,
   "id": "f3e46deb-5d09-4f11-8edb-83d0787c3b20",
   "metadata": {},
   "outputs": [],
   "source": []
  },
  {
   "cell_type": "code",
   "execution_count": null,
   "id": "2312411e-d128-4e93-80f2-df0e309b0d60",
   "metadata": {},
   "outputs": [],
   "source": []
  },
  {
   "cell_type": "code",
   "execution_count": null,
   "id": "ae6d7f79-c253-4171-b4ab-f3651dd33516",
   "metadata": {},
   "outputs": [],
   "source": [
    "iochpe_indices_margens = iochpe_valuation.get_indices_margens(2011, 4, 2021, 4)\n",
    "embraer_indices_margens = embraer_valuation.get_indices_margens(2011, 4, 2021, 4)"
   ]
  },
  {
   "cell_type": "code",
   "execution_count": null,
   "id": "20b6fcc6-2a9b-432a-ac83-16cb02a70310",
   "metadata": {},
   "outputs": [],
   "source": [
    "indices_margens = dict.fromkeys(iochpe_indices_margens)\n",
    "\n",
    "for key in indices_margens.keys():\n",
    "    indices_margens[key] = iochpe_indices_margens[key] + embraer_indices_margens[key]"
   ]
  },
  {
   "cell_type": "code",
   "execution_count": null,
   "id": "804ce23e-754a-4708-9658-29f499274209",
   "metadata": {},
   "outputs": [],
   "source": [
    "iochpe_ind_margens_df = pd.DataFrame.from_dict(indices_margens)"
   ]
  },
  {
   "cell_type": "code",
   "execution_count": null,
   "id": "50afc339-0b23-453d-8bf1-4ebf6420cafc",
   "metadata": {},
   "outputs": [],
   "source": [
    "iochpe_ind_margens_df = iochpe_ind_margens_df.set_index(index_str_array)"
   ]
  },
  {
   "cell_type": "code",
   "execution_count": null,
   "id": "ea83b1b1-868c-4689-9d95-8c1b4e5686f0",
   "metadata": {},
   "outputs": [],
   "source": []
  },
  {
   "cell_type": "code",
   "execution_count": null,
   "id": "b9f0dc3a-e4d2-4508-8acf-1cbe9c055182",
   "metadata": {},
   "outputs": [],
   "source": [
    "iochpe_ind_liquidez_flat_df = iochpe_ind_liquidez_df.reset_index()"
   ]
  },
  {
   "cell_type": "code",
   "execution_count": null,
   "id": "b93b370a-294d-4b98-afdb-5a21c281a501",
   "metadata": {},
   "outputs": [],
   "source": [
    "iochpe_ind_liquidez_flat_df"
   ]
  },
  {
   "cell_type": "code",
   "execution_count": null,
   "id": "e6549bd1-cdeb-4f30-854f-746b86f7b206",
   "metadata": {},
   "outputs": [],
   "source": [
    "iochpe_excel_file_name = 'out/indicadores_Iochpe.xlsx'"
   ]
  },
  {
   "cell_type": "code",
   "execution_count": null,
   "id": "d3e25416-a6c0-4839-8974-602aee5429d4",
   "metadata": {},
   "outputs": [],
   "source": [
    "with pd.ExcelWriter(iochpe_excel_file_name) as writer:\n",
    "    iochpe_ind_liquidez_flat_df.to_excel(writer, sheet_name='Iochpe_ind_liquidez')\n",
    "    iochpe_ind_atividade_df.reset_index().to_excel(writer, sheet_name='Iochpe_ind_atividade')\n",
    "    iochpe_ind_rentabilidade_df.reset_index().to_excel(writer, sheet_name='Iochpe_ind_rentabilidade')\n",
    "    iochpe_ind_margens_df.reset_index().to_excel(writer, sheet_name='Iochpe_ind_margens')"
   ]
  },
  {
   "cell_type": "code",
   "execution_count": null,
   "id": "84e4330c-a6d8-4d00-a5de-f5fd25012a92",
   "metadata": {},
   "outputs": [],
   "source": []
  },
  {
   "cell_type": "code",
   "execution_count": null,
   "id": "1a83e97d-a386-4180-ad41-6c527d0891a3",
   "metadata": {},
   "outputs": [],
   "source": []
  },
  {
   "cell_type": "code",
   "execution_count": null,
   "id": "0d983e70-8077-4b81-be00-8111f7691de6",
   "metadata": {},
   "outputs": [],
   "source": []
  },
  {
   "cell_type": "code",
   "execution_count": null,
   "id": "4c9a56ab-b55e-4241-b890-fb11fc671ed1",
   "metadata": {},
   "outputs": [],
   "source": []
  },
  {
   "cell_type": "code",
   "execution_count": null,
   "id": "0a4a7f11-52b0-485a-9291-02965445d3aa",
   "metadata": {},
   "outputs": [],
   "source": []
  },
  {
   "cell_type": "code",
   "execution_count": null,
   "id": "66ceb84f-5e4d-44f5-9b78-577919eee1e2",
   "metadata": {},
   "outputs": [],
   "source": []
  },
  {
   "cell_type": "code",
   "execution_count": null,
   "id": "106cf5d6-0d1a-470d-b6af-ad144c2a2fc6",
   "metadata": {},
   "outputs": [],
   "source": []
  },
  {
   "cell_type": "code",
   "execution_count": null,
   "id": "46a3f491-fc1c-4b0b-af43-2a14b29f39c7",
   "metadata": {},
   "outputs": [],
   "source": []
  },
  {
   "cell_type": "code",
   "execution_count": null,
   "id": "6e43abda-c952-4797-89d6-b484f0d02359",
   "metadata": {},
   "outputs": [],
   "source": []
  },
  {
   "cell_type": "code",
   "execution_count": null,
   "id": "944b5c4c-a585-4bb9-b0ac-eb41129bc98d",
   "metadata": {},
   "outputs": [],
   "source": []
  },
  {
   "cell_type": "code",
   "execution_count": null,
   "id": "caf9938a-b777-4245-bf32-e7115fbc5af5",
   "metadata": {},
   "outputs": [],
   "source": []
  },
  {
   "cell_type": "code",
   "execution_count": null,
   "id": "ed464a9e-37ad-4802-a8f2-c55c168ba4c7",
   "metadata": {},
   "outputs": [],
   "source": []
  },
  {
   "cell_type": "code",
   "execution_count": null,
   "id": "36e0de08-8d41-4e45-8332-b4a885a7b9fa",
   "metadata": {},
   "outputs": [],
   "source": []
  },
  {
   "cell_type": "code",
   "execution_count": null,
   "id": "ef0f9654-f03a-4cb6-ab52-99b932560765",
   "metadata": {},
   "outputs": [],
   "source": []
  },
  {
   "cell_type": "code",
   "execution_count": null,
   "id": "a9d8bb17-891e-4ee0-b5e7-82d4a6334377",
   "metadata": {},
   "outputs": [],
   "source": []
  },
  {
   "cell_type": "code",
   "execution_count": null,
   "id": "691bb88e-e2e8-4dab-abfc-3a26ba729ae7",
   "metadata": {},
   "outputs": [],
   "source": []
  },
  {
   "cell_type": "code",
   "execution_count": null,
   "id": "24aaabf4-f496-4c93-a087-e87db8def1e7",
   "metadata": {},
   "outputs": [],
   "source": []
  },
  {
   "cell_type": "code",
   "execution_count": null,
   "id": "bde6ebc6-27fc-4a75-856b-f7c1b3bd4d55",
   "metadata": {},
   "outputs": [],
   "source": []
  },
  {
   "cell_type": "code",
   "execution_count": null,
   "id": "35b17c6f-690a-4d5b-bb03-53a93d5e3110",
   "metadata": {},
   "outputs": [],
   "source": []
  },
  {
   "cell_type": "code",
   "execution_count": null,
   "id": "a441d674-3d14-442b-b45d-1c789f927833",
   "metadata": {},
   "outputs": [],
   "source": []
  },
  {
   "cell_type": "code",
   "execution_count": null,
   "id": "7a997480-d9a7-4533-9f7a-b58c9877456e",
   "metadata": {},
   "outputs": [],
   "source": []
  },
  {
   "cell_type": "code",
   "execution_count": null,
   "id": "e159ee25-984a-47af-8b65-b31a2fceb059",
   "metadata": {},
   "outputs": [],
   "source": []
  },
  {
   "cell_type": "code",
   "execution_count": null,
   "id": "7142be15-62a5-477b-b1aa-b4e2ff748367",
   "metadata": {},
   "outputs": [],
   "source": []
  },
  {
   "cell_type": "code",
   "execution_count": null,
   "id": "d0fa906d-9425-4cb6-abe2-495e2f898416",
   "metadata": {},
   "outputs": [],
   "source": []
  },
  {
   "cell_type": "code",
   "execution_count": null,
   "id": "cb5dcb23-0be5-4803-928c-3e40e0eb96cb",
   "metadata": {},
   "outputs": [],
   "source": []
  },
  {
   "cell_type": "code",
   "execution_count": null,
   "id": "d42fa4b7-b10d-466b-819e-c6168e810467",
   "metadata": {},
   "outputs": [],
   "source": []
  },
  {
   "cell_type": "code",
   "execution_count": null,
   "id": "879a0a2b-a2a1-44c3-88f9-892e70480e19",
   "metadata": {},
   "outputs": [],
   "source": []
  },
  {
   "cell_type": "code",
   "execution_count": null,
   "id": "ab14a36d-56ff-4557-b7f2-3b4ba022067b",
   "metadata": {},
   "outputs": [],
   "source": []
  },
  {
   "cell_type": "code",
   "execution_count": null,
   "id": "c8b45b0d-497a-40e4-9d03-90ad5d93f5bb",
   "metadata": {},
   "outputs": [],
   "source": []
  },
  {
   "cell_type": "code",
   "execution_count": null,
   "id": "ecd25a49-d41f-4aa0-878f-0fd7d902bce5",
   "metadata": {},
   "outputs": [],
   "source": []
  },
  {
   "cell_type": "code",
   "execution_count": null,
   "id": "19480236-1dfd-44bf-b6be-420e960a1c97",
   "metadata": {},
   "outputs": [],
   "source": []
  },
  {
   "cell_type": "code",
   "execution_count": null,
   "id": "6f16b70e-f478-4708-9a2f-9780e5570a23",
   "metadata": {},
   "outputs": [],
   "source": []
  }
 ],
 "metadata": {
  "kernelspec": {
   "display_name": "Python 3 (ipykernel)",
   "language": "python",
   "name": "python3"
  },
  "language_info": {
   "codemirror_mode": {
    "name": "ipython",
    "version": 3
   },
   "file_extension": ".py",
   "mimetype": "text/x-python",
   "name": "python",
   "nbconvert_exporter": "python",
   "pygments_lexer": "ipython3",
   "version": "3.9.6"
  }
 },
 "nbformat": 4,
 "nbformat_minor": 5
}
