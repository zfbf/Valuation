{
 "cells": [
  {
   "cell_type": "code",
   "execution_count": 1,
   "id": "c280782f-0468-4314-8623-217e5ab3ec2f",
   "metadata": {
    "tags": []
   },
   "outputs": [],
   "source": [
    "import pandas as pd\n",
    "import numpy as np"
   ]
  },
  {
   "cell_type": "code",
   "execution_count": 2,
   "id": "cb77f960-dd3f-437a-a6fd-efb478029473",
   "metadata": {},
   "outputs": [],
   "source": [
    "from lib.importacao.economatica.iochpe_dados_trimestrais_anualizados import Iochpe2009T12021T4\n",
    "from lib.valuation.valuation import Valuation\n",
    "from lib.valuation.factories.valuation_periodo_trimestral_factory import ValuationPeriodoTrimestralFactory\n",
    "from lib.valuation.reporters.reporter_default import ReporterDefault"
   ]
  },
  {
   "cell_type": "code",
   "execution_count": 3,
   "id": "81c2a57a-29fd-47cf-befb-0647ae799f07",
   "metadata": {},
   "outputs": [],
   "source": [
    "importacao_iochpe = Iochpe2009T12021T4()"
   ]
  },
  {
   "cell_type": "code",
   "execution_count": 4,
   "id": "fef59767-3b97-408e-9554-c08af2b16420",
   "metadata": {
    "tags": []
   },
   "outputs": [],
   "source": [
    "importacao_iochpe.prepare()"
   ]
  },
  {
   "cell_type": "code",
   "execution_count": 5,
   "id": "67e7dfc8-ab34-4330-999c-95e10b8c960f",
   "metadata": {
    "tags": []
   },
   "outputs": [],
   "source": [
    "valuation_factory = ValuationPeriodoTrimestralFactory()"
   ]
  },
  {
   "cell_type": "code",
   "execution_count": 6,
   "id": "bb40b36e-1611-402a-b43a-e17d5b5d200b",
   "metadata": {},
   "outputs": [],
   "source": [
    "valuation = valuation_factory.build(importacao_iochpe)"
   ]
  },
  {
   "cell_type": "code",
   "execution_count": 7,
   "id": "6d825041-1fed-48f0-a3c9-5b4d9dba2f3c",
   "metadata": {},
   "outputs": [
    {
     "name": "stdout",
     "output_type": "stream",
     "text": [
      "52\n"
     ]
    }
   ],
   "source": [
    "print(len(valuation.periodos))"
   ]
  },
  {
   "cell_type": "code",
   "execution_count": 8,
   "id": "626c8c5a-50a5-4293-9c24-72a30c9bd2d1",
   "metadata": {},
   "outputs": [
    {
     "name": "stderr",
     "output_type": "stream",
     "text": [
      "/home/zenon/dev/python/venv/lib/python3.8/site-packages/pandas/core/indexing.py:889: PerformanceWarning: indexing past lexsort depth may impact performance.\n",
      "  return self._getitem_tuple(key)\n"
     ]
    }
   ],
   "source": [
    "valuation_factory.load(valuation, importacao_iochpe)"
   ]
  },
  {
   "cell_type": "code",
   "execution_count": 9,
   "id": "d68a2530-bc73-40d0-b3b8-0a6bfef8408a",
   "metadata": {},
   "outputs": [
    {
     "name": "stdout",
     "output_type": "stream",
     "text": [
      "2021T4\n"
     ]
    }
   ],
   "source": [
    "print(valuation.periodos[-1].identificador)"
   ]
  },
  {
   "cell_type": "code",
   "execution_count": 10,
   "id": "31e25940-c8d2-4ca1-b55c-03fa7fa3f309",
   "metadata": {},
   "outputs": [],
   "source": [
    "#print(valuation.periodos[-1])"
   ]
  },
  {
   "cell_type": "code",
   "execution_count": 11,
   "id": "9e43947e-f359-4f98-8d28-3d19e316713c",
   "metadata": {},
   "outputs": [],
   "source": [
    "#reporter = ReporterDefault()"
   ]
  },
  {
   "cell_type": "code",
   "execution_count": 12,
   "id": "794d53db-11a1-44b6-a254-33679e7e9827",
   "metadata": {},
   "outputs": [],
   "source": [
    "#report = valuation.report(reporter)"
   ]
  },
  {
   "cell_type": "code",
   "execution_count": 13,
   "id": "eaac2956-aabd-42b5-bd3f-36457570fdd3",
   "metadata": {},
   "outputs": [],
   "source": [
    "#type(report)"
   ]
  },
  {
   "cell_type": "code",
   "execution_count": null,
   "id": "c7fffc2c-f5ac-4951-b52a-44286640ea0f",
   "metadata": {},
   "outputs": [],
   "source": []
  },
  {
   "cell_type": "code",
   "execution_count": 14,
   "id": "1260db34-c60a-4eba-9f6b-16cb00c58585",
   "metadata": {},
   "outputs": [],
   "source": [
    "indices_liquidez = valuation.get_indices_liquidez(2011, 4, 2021, 4)"
   ]
  },
  {
   "cell_type": "code",
   "execution_count": 15,
   "id": "e500af91-ea2a-4918-aa1a-ba85265149b3",
   "metadata": {},
   "outputs": [],
   "source": [
    "iochpe_ind_liquidez_df = pd.DataFrame(data=indices_liquidez)"
   ]
  },
  {
   "cell_type": "code",
   "execution_count": null,
   "id": "fb7cfe52-26b8-4c0d-a997-8a01ddb1eb78",
   "metadata": {
    "tags": []
   },
   "outputs": [],
   "source": []
  },
  {
   "cell_type": "code",
   "execution_count": 16,
   "id": "bcd04a9d-7bd5-4fb6-91e9-1ba1fb065ca7",
   "metadata": {},
   "outputs": [],
   "source": [
    "indices_atividade = valuation.get_indices_atividade(2011, 4, 2021, 4)"
   ]
  },
  {
   "cell_type": "code",
   "execution_count": 17,
   "id": "c69e3de0-7e56-43bd-ac9e-17d39e01e8c4",
   "metadata": {},
   "outputs": [],
   "source": [
    "iochpe_ind_atividade_df = pd.DataFrame(data=indices_atividade)"
   ]
  },
  {
   "cell_type": "code",
   "execution_count": null,
   "id": "a99c49f8-e1c6-4667-8afa-d8f805f9b694",
   "metadata": {},
   "outputs": [],
   "source": []
  },
  {
   "cell_type": "code",
   "execution_count": 18,
   "id": "c121a8fe-3025-437e-9176-0aa9deb2d612",
   "metadata": {},
   "outputs": [],
   "source": [
    "indices_rentabilidade = valuation.get_indices_rentabilidade(2011, 4, 2021, 4)"
   ]
  },
  {
   "cell_type": "code",
   "execution_count": 19,
   "id": "8264c6ca-ae9d-4c7b-8683-41f06a21f18d",
   "metadata": {},
   "outputs": [],
   "source": [
    "iochpe_ind_rentabilidade_df = pd.DataFrame(data=indices_rentabilidade)"
   ]
  },
  {
   "cell_type": "code",
   "execution_count": null,
   "id": "bb9e9416-082b-401e-9013-0f2031211377",
   "metadata": {},
   "outputs": [],
   "source": []
  },
  {
   "cell_type": "code",
   "execution_count": 20,
   "id": "ae6d7f79-c253-4171-b4ab-f3651dd33516",
   "metadata": {},
   "outputs": [],
   "source": [
    "indices_margens = valuation.get_indices_margens(2011, 4, 2021, 4)"
   ]
  },
  {
   "cell_type": "code",
   "execution_count": 21,
   "id": "20b6fcc6-2a9b-432a-ac83-16cb02a70310",
   "metadata": {},
   "outputs": [],
   "source": [
    "iochpe_ind_margens_df = pd.DataFrame(data=indices_margens)"
   ]
  },
  {
   "cell_type": "code",
   "execution_count": null,
   "id": "b9f0dc3a-e4d2-4508-8acf-1cbe9c055182",
   "metadata": {},
   "outputs": [],
   "source": []
  },
  {
   "cell_type": "code",
   "execution_count": null,
   "id": "dc8e6c89-6e67-4d36-9637-5bad9c802387",
   "metadata": {},
   "outputs": [],
   "source": []
  },
  {
   "cell_type": "code",
   "execution_count": null,
   "id": "b93b370a-294d-4b98-afdb-5a21c281a501",
   "metadata": {},
   "outputs": [],
   "source": []
  },
  {
   "cell_type": "code",
   "execution_count": 22,
   "id": "e6549bd1-cdeb-4f30-854f-746b86f7b206",
   "metadata": {},
   "outputs": [],
   "source": [
    "iochpe_excel_file_name = 'out/indicadores_Iochpe.xlsx'"
   ]
  },
  {
   "cell_type": "code",
   "execution_count": 23,
   "id": "d3e25416-a6c0-4839-8974-602aee5429d4",
   "metadata": {},
   "outputs": [],
   "source": [
    "with pd.ExcelWriter(iochpe_excel_file_name) as writer:\n",
    "    iochpe_ind_liquidez_df.to_excel(writer, sheet_name='Iochpe_ind_liquidez')\n",
    "    iochpe_ind_atividade_df.to_excel(writer, sheet_name='Iochpe_ind_atividade')\n",
    "    iochpe_ind_rentabilidade_df.to_excel(writer, sheet_name='Iochpe_ind_rentabilidade')\n",
    "    iochpe_ind_margens_df.to_excel(writer, sheet_name='Iochpe_ind_margens')"
   ]
  },
  {
   "cell_type": "code",
   "execution_count": null,
   "id": "84e4330c-a6d8-4d00-a5de-f5fd25012a92",
   "metadata": {},
   "outputs": [],
   "source": []
  },
  {
   "cell_type": "code",
   "execution_count": null,
   "id": "1a83e97d-a386-4180-ad41-6c527d0891a3",
   "metadata": {},
   "outputs": [],
   "source": []
  },
  {
   "cell_type": "code",
   "execution_count": null,
   "id": "0d983e70-8077-4b81-be00-8111f7691de6",
   "metadata": {},
   "outputs": [],
   "source": []
  },
  {
   "cell_type": "code",
   "execution_count": null,
   "id": "4c9a56ab-b55e-4241-b890-fb11fc671ed1",
   "metadata": {},
   "outputs": [],
   "source": []
  },
  {
   "cell_type": "code",
   "execution_count": null,
   "id": "0a4a7f11-52b0-485a-9291-02965445d3aa",
   "metadata": {},
   "outputs": [],
   "source": []
  },
  {
   "cell_type": "code",
   "execution_count": null,
   "id": "66ceb84f-5e4d-44f5-9b78-577919eee1e2",
   "metadata": {},
   "outputs": [],
   "source": []
  },
  {
   "cell_type": "code",
   "execution_count": null,
   "id": "106cf5d6-0d1a-470d-b6af-ad144c2a2fc6",
   "metadata": {},
   "outputs": [],
   "source": []
  },
  {
   "cell_type": "code",
   "execution_count": null,
   "id": "46a3f491-fc1c-4b0b-af43-2a14b29f39c7",
   "metadata": {},
   "outputs": [],
   "source": []
  },
  {
   "cell_type": "code",
   "execution_count": null,
   "id": "6e43abda-c952-4797-89d6-b484f0d02359",
   "metadata": {},
   "outputs": [],
   "source": []
  }
 ],
 "metadata": {
  "kernelspec": {
   "display_name": "Python 3",
   "language": "python",
   "name": "python3"
  },
  "language_info": {
   "codemirror_mode": {
    "name": "ipython",
    "version": 3
   },
   "file_extension": ".py",
   "mimetype": "text/x-python",
   "name": "python",
   "nbconvert_exporter": "python",
   "pygments_lexer": "ipython3",
   "version": "3.8.10"
  }
 },
 "nbformat": 4,
 "nbformat_minor": 5
}
