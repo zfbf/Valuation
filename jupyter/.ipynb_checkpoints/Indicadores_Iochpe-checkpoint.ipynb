{
 "cells": [
  {
   "cell_type": "code",
   "execution_count": 1,
   "id": "c280782f-0468-4314-8623-217e5ab3ec2f",
   "metadata": {
    "tags": []
   },
   "outputs": [],
   "source": [
    "import pandas as pd\n",
    "import numpy as np"
   ]
  },
  {
   "cell_type": "code",
   "execution_count": 2,
   "id": "cb77f960-dd3f-437a-a6fd-efb478029473",
   "metadata": {},
   "outputs": [],
   "source": [
    "from lib.valuation.valuation import Valuation\n",
    "from lib.valuation.factories.valuation_periodo_trimestral_factory import ValuationPeriodoTrimestralFactory\n",
    "from lib.valuation.reporters.reporter_default import ReporterDefault"
   ]
  },
  {
   "cell_type": "code",
   "execution_count": 3,
   "id": "d8615794-805e-46de-914c-2933486a0dfc",
   "metadata": {
    "tags": []
   },
   "outputs": [],
   "source": [
    "from lib.importacao.economatica.empresas.iochpe.dados_2009T1_2021T4 import Iochpe2009T12021T4\n",
    "from lib.importacao.economatica.empresas.embraer.dados_2009T1_2021T4 import Embraer2009T12021T4"
   ]
  },
  {
   "cell_type": "code",
   "execution_count": 4,
   "id": "81c2a57a-29fd-47cf-befb-0647ae799f07",
   "metadata": {},
   "outputs": [],
   "source": [
    "iochpe_importacao = Iochpe2009T12021T4()\n",
    "embraer_importacao = Embraer2009T12021T4()"
   ]
  },
  {
   "cell_type": "code",
   "execution_count": 5,
   "id": "fef59767-3b97-408e-9554-c08af2b16420",
   "metadata": {
    "tags": []
   },
   "outputs": [],
   "source": [
    "iochpe_importacao.prepare()\n",
    "embraer_importacao.prepare()"
   ]
  },
  {
   "cell_type": "code",
   "execution_count": 6,
   "id": "67e7dfc8-ab34-4330-999c-95e10b8c960f",
   "metadata": {
    "tags": []
   },
   "outputs": [],
   "source": [
    "valuation_factory = ValuationPeriodoTrimestralFactory()"
   ]
  },
  {
   "cell_type": "code",
   "execution_count": 7,
   "id": "bb40b36e-1611-402a-b43a-e17d5b5d200b",
   "metadata": {},
   "outputs": [],
   "source": [
    "iochpe_valuation = valuation_factory.build(iochpe_importacao)\n",
    "embraer_valuation = valuation_factory.build(embraer_importacao)"
   ]
  },
  {
   "cell_type": "code",
   "execution_count": 8,
   "id": "6d825041-1fed-48f0-a3c9-5b4d9dba2f3c",
   "metadata": {},
   "outputs": [
    {
     "name": "stdout",
     "output_type": "stream",
     "text": [
      "Iochpe períodos: 52\n",
      "Embraer períodos: 52\n"
     ]
    }
   ],
   "source": [
    "print('Iochpe períodos: {}'.format(len(iochpe_valuation.periodos)))\n",
    "print('Embraer períodos: {}'.format(len(embraer_valuation.periodos)))"
   ]
  },
  {
   "cell_type": "code",
   "execution_count": 9,
   "id": "626c8c5a-50a5-4293-9c24-72a30c9bd2d1",
   "metadata": {},
   "outputs": [
    {
     "name": "stderr",
     "output_type": "stream",
     "text": [
      "/home/zenon/dev/python/venv/lib/python3.8/site-packages/pandas/core/indexing.py:889: PerformanceWarning: indexing past lexsort depth may impact performance.\n",
      "  return self._getitem_tuple(key)\n"
     ]
    }
   ],
   "source": [
    "valuation_factory.load(iochpe_valuation, iochpe_importacao)\n",
    "valuation_factory.load(embraer_valuation, embraer_importacao)"
   ]
  },
  {
   "cell_type": "code",
   "execution_count": 10,
   "id": "d68a2530-bc73-40d0-b3b8-0a6bfef8408a",
   "metadata": {},
   "outputs": [
    {
     "name": "stdout",
     "output_type": "stream",
     "text": [
      "Último período Iochpe: 2021T4\n",
      "Último período Embraer: 2021T4\n"
     ]
    }
   ],
   "source": [
    "print('Último período Iochpe: {}'.format(iochpe_valuation.periodos[-1].identificador))\n",
    "print('Último período Embraer: {}'.format(embraer_valuation.periodos[-1].identificador))"
   ]
  },
  {
   "cell_type": "code",
   "execution_count": 11,
   "id": "31e25940-c8d2-4ca1-b55c-03fa7fa3f309",
   "metadata": {},
   "outputs": [],
   "source": [
    "#print(valuation.periodos[-1])"
   ]
  },
  {
   "cell_type": "code",
   "execution_count": 12,
   "id": "9e43947e-f359-4f98-8d28-3d19e316713c",
   "metadata": {},
   "outputs": [],
   "source": [
    "#reporter = ReporterDefault()"
   ]
  },
  {
   "cell_type": "code",
   "execution_count": 13,
   "id": "794d53db-11a1-44b6-a254-33679e7e9827",
   "metadata": {},
   "outputs": [],
   "source": [
    "#report = valuation.report(reporter)"
   ]
  },
  {
   "cell_type": "code",
   "execution_count": 14,
   "id": "eaac2956-aabd-42b5-bd3f-36457570fdd3",
   "metadata": {},
   "outputs": [],
   "source": [
    "#type(report)"
   ]
  },
  {
   "cell_type": "code",
   "execution_count": null,
   "id": "c7fffc2c-f5ac-4951-b52a-44286640ea0f",
   "metadata": {},
   "outputs": [],
   "source": []
  },
  {
   "cell_type": "code",
   "execution_count": 15,
   "id": "1260db34-c60a-4eba-9f6b-16cb00c58585",
   "metadata": {},
   "outputs": [],
   "source": [
    "iochpe_indices_liquidez = iochpe_valuation.get_indices_liquidez(2011, 4, 2021, 4)\n",
    "embraer_indices_liquidez = embraer_valuation.get_indices_liquidez(2011, 4, 2021, 4)"
   ]
  },
  {
   "cell_type": "code",
   "execution_count": 40,
   "id": "3fe4b21f-3771-4e26-b437-374fa9811a00",
   "metadata": {},
   "outputs": [
    {
     "name": "stdout",
     "output_type": "stream",
     "text": [
      "Key: ticker\n",
      "Key: ano\n",
      "Key: trimestre\n"
     ]
    }
   ],
   "source": [
    "indices_liquidez = dict.fromkeys(iochpe_indices_liquidez)\n",
    "index_str_array = ['ano', 'trimestre', 'ticker']\n",
    "\n",
    "for key in indices_liquidez.keys():\n",
    "    if key in index_str_array:\n",
    "        indices_liquidez[key] = iochpe_indices_liquidez[key] + embraer_indices_liquidez[key]\n",
    "    else:\n",
    "        indices_liquidez[key] = iochpe_indices_liquidez[key] + embraer_indices_liquidez[key]"
   ]
  },
  {
   "cell_type": "code",
   "execution_count": 17,
   "id": "e500af91-ea2a-4918-aa1a-ba85265149b3",
   "metadata": {},
   "outputs": [],
   "source": [
    "iochpe_ind_liquidez_df = pd.DataFrame.from_dict(indices_liquidez)"
   ]
  },
  {
   "cell_type": "code",
   "execution_count": 18,
   "id": "7253120d-5706-44b9-a64a-a61827b4ad9b",
   "metadata": {},
   "outputs": [],
   "source": [
    "index_str_array = ['ano', 'trimestre', 'ticker']\n",
    "iochpe_ind_liquidez_df = iochpe_ind_liquidez_df.set_index(index_str_array)"
   ]
  },
  {
   "cell_type": "code",
   "execution_count": null,
   "id": "6c9f2c53-cd27-4cef-9e46-03b63f0772b5",
   "metadata": {},
   "outputs": [],
   "source": []
  },
  {
   "cell_type": "code",
   "execution_count": null,
   "id": "0cc5d9a8-b219-472c-80ac-c2ef35946763",
   "metadata": {},
   "outputs": [],
   "source": []
  },
  {
   "cell_type": "code",
   "execution_count": null,
   "id": "8c339b13-f527-4373-a1c9-260df6d944d5",
   "metadata": {},
   "outputs": [],
   "source": []
  },
  {
   "cell_type": "code",
   "execution_count": null,
   "id": "ea01a0c7-fdf3-4074-8ed7-5adeb65526c2",
   "metadata": {},
   "outputs": [],
   "source": []
  },
  {
   "cell_type": "code",
   "execution_count": null,
   "id": "123b58e0-133d-49f7-846b-c93bf79187bb",
   "metadata": {},
   "outputs": [],
   "source": []
  },
  {
   "cell_type": "code",
   "execution_count": null,
   "id": "6136ea1b-06b7-4c0a-bfb2-c1fdd9452f48",
   "metadata": {},
   "outputs": [],
   "source": []
  },
  {
   "cell_type": "code",
   "execution_count": null,
   "id": "c232f77f-56fc-4d55-a80b-c0236fa6d1db",
   "metadata": {},
   "outputs": [],
   "source": []
  },
  {
   "cell_type": "code",
   "execution_count": null,
   "id": "228cc1f9-92c6-4932-aabe-7d2f2561aad1",
   "metadata": {},
   "outputs": [],
   "source": []
  },
  {
   "cell_type": "code",
   "execution_count": null,
   "id": "5d9c42d6-12e0-4f80-b0b9-eb16b45d62d0",
   "metadata": {},
   "outputs": [],
   "source": []
  },
  {
   "cell_type": "code",
   "execution_count": null,
   "id": "36f0374a-2ecf-484c-a6a0-fb15ffda8fb5",
   "metadata": {},
   "outputs": [],
   "source": []
  },
  {
   "cell_type": "code",
   "execution_count": 19,
   "id": "fb7cfe52-26b8-4c0d-a997-8a01ddb1eb78",
   "metadata": {
    "tags": []
   },
   "outputs": [],
   "source": [
    "iochpe_indices_atividade = iochpe_valuation.get_indices_atividade(2011, 4, 2021, 4)\n",
    "embraer_indices_atividade = embraer_valuation.get_indices_atividade(2011, 4, 2021, 4)"
   ]
  },
  {
   "cell_type": "code",
   "execution_count": 20,
   "id": "bcd04a9d-7bd5-4fb6-91e9-1ba1fb065ca7",
   "metadata": {},
   "outputs": [],
   "source": [
    "indices_atividade = dict.fromkeys(iochpe_indices_atividade)\n",
    "\n",
    "for key in indices_atividade.keys():\n",
    "    indices_atividade[key] = iochpe_indices_atividade[key] + embraer_indices_atividade[key]"
   ]
  },
  {
   "cell_type": "code",
   "execution_count": 21,
   "id": "8f755892-e60e-4760-98d7-314724663ac2",
   "metadata": {},
   "outputs": [],
   "source": [
    "iochpe_ind_atividade_df = pd.DataFrame.from_dict(indices_atividade)"
   ]
  },
  {
   "cell_type": "code",
   "execution_count": 22,
   "id": "3c63a890-f2f4-4685-b963-eabe181d9931",
   "metadata": {},
   "outputs": [],
   "source": [
    "iochpe_ind_atividade_df = iochpe_ind_atividade_df.set_index(index_str_array)"
   ]
  },
  {
   "cell_type": "code",
   "execution_count": 39,
   "id": "c69e3de0-7e56-43bd-ac9e-17d39e01e8c4",
   "metadata": {},
   "outputs": [
    {
     "data": {
      "text/html": [
       "<div>\n",
       "<style scoped>\n",
       "    .dataframe tbody tr th:only-of-type {\n",
       "        vertical-align: middle;\n",
       "    }\n",
       "\n",
       "    .dataframe tbody tr th {\n",
       "        vertical-align: top;\n",
       "    }\n",
       "\n",
       "    .dataframe thead th {\n",
       "        text-align: right;\n",
       "    }\n",
       "</style>\n",
       "<table border=\"1\" class=\"dataframe\">\n",
       "  <thead>\n",
       "    <tr style=\"text-align: right;\">\n",
       "      <th></th>\n",
       "      <th></th>\n",
       "      <th></th>\n",
       "      <th>empresa</th>\n",
       "      <th>ano_frac</th>\n",
       "      <th>pme_iochpe</th>\n",
       "      <th>prazo_medio_recebimento</th>\n",
       "      <th>prazo_medio_pagamento</th>\n",
       "      <th>ciclo_de_caixa</th>\n",
       "    </tr>\n",
       "    <tr>\n",
       "      <th>ano</th>\n",
       "      <th>trimestre</th>\n",
       "      <th>ticker</th>\n",
       "      <th></th>\n",
       "      <th></th>\n",
       "      <th></th>\n",
       "      <th></th>\n",
       "      <th></th>\n",
       "      <th></th>\n",
       "    </tr>\n",
       "  </thead>\n",
       "  <tbody>\n",
       "    <tr>\n",
       "      <th>2011</th>\n",
       "      <th>4</th>\n",
       "      <th>MYPK3</th>\n",
       "      <td>Iochpe</td>\n",
       "      <td>2011.875</td>\n",
       "      <td>54.557922</td>\n",
       "      <td>49.750700</td>\n",
       "      <td>35.961000</td>\n",
       "      <td>68.347622</td>\n",
       "    </tr>\n",
       "    <tr>\n",
       "      <th rowspan=\"4\" valign=\"top\">2012</th>\n",
       "      <th>1</th>\n",
       "      <th>MYPK3</th>\n",
       "      <td>Iochpe</td>\n",
       "      <td>2012.125</td>\n",
       "      <td>66.617444</td>\n",
       "      <td>94.473792</td>\n",
       "      <td>92.675488</td>\n",
       "      <td>68.415748</td>\n",
       "    </tr>\n",
       "    <tr>\n",
       "      <th>2</th>\n",
       "      <th>MYPK3</th>\n",
       "      <td>Iochpe</td>\n",
       "      <td>2012.375</td>\n",
       "      <td>56.626508</td>\n",
       "      <td>75.075723</td>\n",
       "      <td>72.107231</td>\n",
       "      <td>59.595000</td>\n",
       "    </tr>\n",
       "    <tr>\n",
       "      <th>3</th>\n",
       "      <th>MYPK3</th>\n",
       "      <td>Iochpe</td>\n",
       "      <td>2012.625</td>\n",
       "      <td>45.352135</td>\n",
       "      <td>66.633988</td>\n",
       "      <td>59.045207</td>\n",
       "      <td>52.940917</td>\n",
       "    </tr>\n",
       "    <tr>\n",
       "      <th>4</th>\n",
       "      <th>MYPK3</th>\n",
       "      <td>Iochpe</td>\n",
       "      <td>2012.875</td>\n",
       "      <td>38.707725</td>\n",
       "      <td>48.661688</td>\n",
       "      <td>45.467753</td>\n",
       "      <td>41.901659</td>\n",
       "    </tr>\n",
       "    <tr>\n",
       "      <th>...</th>\n",
       "      <th>...</th>\n",
       "      <th>...</th>\n",
       "      <td>...</td>\n",
       "      <td>...</td>\n",
       "      <td>...</td>\n",
       "      <td>...</td>\n",
       "      <td>...</td>\n",
       "      <td>...</td>\n",
       "    </tr>\n",
       "    <tr>\n",
       "      <th>2020</th>\n",
       "      <th>4</th>\n",
       "      <th>EMBR4</th>\n",
       "      <td>Embraer</td>\n",
       "      <td>2020.875</td>\n",
       "      <td>191.567779</td>\n",
       "      <td>20.858248</td>\n",
       "      <td>98.628581</td>\n",
       "      <td>113.797446</td>\n",
       "    </tr>\n",
       "    <tr>\n",
       "      <th rowspan=\"4\" valign=\"top\">2021</th>\n",
       "      <th>1</th>\n",
       "      <th>EMBR4</th>\n",
       "      <td>Embraer</td>\n",
       "      <td>2021.125</td>\n",
       "      <td>204.595789</td>\n",
       "      <td>19.697076</td>\n",
       "      <td>90.009909</td>\n",
       "      <td>134.282956</td>\n",
       "    </tr>\n",
       "    <tr>\n",
       "      <th>2</th>\n",
       "      <th>EMBR4</th>\n",
       "      <td>Embraer</td>\n",
       "      <td>2021.375</td>\n",
       "      <td>246.048880</td>\n",
       "      <td>15.823157</td>\n",
       "      <td>35.183274</td>\n",
       "      <td>226.688763</td>\n",
       "    </tr>\n",
       "    <tr>\n",
       "      <th>3</th>\n",
       "      <th>EMBR4</th>\n",
       "      <td>Embraer</td>\n",
       "      <td>2021.625</td>\n",
       "      <td>260.666985</td>\n",
       "      <td>16.627431</td>\n",
       "      <td>40.390445</td>\n",
       "      <td>236.903970</td>\n",
       "    </tr>\n",
       "    <tr>\n",
       "      <th>4</th>\n",
       "      <th>EMBR4</th>\n",
       "      <td>Embraer</td>\n",
       "      <td>2021.875</td>\n",
       "      <td>228.152138</td>\n",
       "      <td>17.844884</td>\n",
       "      <td>49.752997</td>\n",
       "      <td>196.244026</td>\n",
       "    </tr>\n",
       "  </tbody>\n",
       "</table>\n",
       "<p>82 rows × 6 columns</p>\n",
       "</div>"
      ],
      "text/plain": [
       "                       empresa  ano_frac  pme_iochpe  prazo_medio_recebimento  \\\n",
       "ano  trimestre ticker                                                           \n",
       "2011 4         MYPK3    Iochpe  2011.875   54.557922                49.750700   \n",
       "2012 1         MYPK3    Iochpe  2012.125   66.617444                94.473792   \n",
       "     2         MYPK3    Iochpe  2012.375   56.626508                75.075723   \n",
       "     3         MYPK3    Iochpe  2012.625   45.352135                66.633988   \n",
       "     4         MYPK3    Iochpe  2012.875   38.707725                48.661688   \n",
       "...                        ...       ...         ...                      ...   \n",
       "2020 4         EMBR4   Embraer  2020.875  191.567779                20.858248   \n",
       "2021 1         EMBR4   Embraer  2021.125  204.595789                19.697076   \n",
       "     2         EMBR4   Embraer  2021.375  246.048880                15.823157   \n",
       "     3         EMBR4   Embraer  2021.625  260.666985                16.627431   \n",
       "     4         EMBR4   Embraer  2021.875  228.152138                17.844884   \n",
       "\n",
       "                       prazo_medio_pagamento  ciclo_de_caixa  \n",
       "ano  trimestre ticker                                         \n",
       "2011 4         MYPK3               35.961000       68.347622  \n",
       "2012 1         MYPK3               92.675488       68.415748  \n",
       "     2         MYPK3               72.107231       59.595000  \n",
       "     3         MYPK3               59.045207       52.940917  \n",
       "     4         MYPK3               45.467753       41.901659  \n",
       "...                                      ...             ...  \n",
       "2020 4         EMBR4               98.628581      113.797446  \n",
       "2021 1         EMBR4               90.009909      134.282956  \n",
       "     2         EMBR4               35.183274      226.688763  \n",
       "     3         EMBR4               40.390445      236.903970  \n",
       "     4         EMBR4               49.752997      196.244026  \n",
       "\n",
       "[82 rows x 6 columns]"
      ]
     },
     "execution_count": 39,
     "metadata": {},
     "output_type": "execute_result"
    }
   ],
   "source": [
    "iochpe_ind_atividade_df.rename({'prazo_medio_estoques': 'pme_iochpe'}, axis='columns')"
   ]
  },
  {
   "cell_type": "code",
   "execution_count": null,
   "id": "a99c49f8-e1c6-4667-8afa-d8f805f9b694",
   "metadata": {},
   "outputs": [],
   "source": []
  },
  {
   "cell_type": "code",
   "execution_count": 24,
   "id": "c121a8fe-3025-437e-9176-0aa9deb2d612",
   "metadata": {},
   "outputs": [],
   "source": [
    "iochpe_indices_rentabilidade = iochpe_valuation.get_indices_rentabilidade(2011, 4, 2021, 4)\n",
    "embraer_indices_rentabilidade = embraer_valuation.get_indices_rentabilidade(2011, 4, 2021, 4)"
   ]
  },
  {
   "cell_type": "code",
   "execution_count": 25,
   "id": "8264c6ca-ae9d-4c7b-8683-41f06a21f18d",
   "metadata": {},
   "outputs": [],
   "source": [
    "indices_rentabilidade = dict.fromkeys(iochpe_indices_rentabilidade)\n",
    "\n",
    "for key in indices_rentabilidade.keys():\n",
    "    indices_rentabilidade[key] = iochpe_indices_rentabilidade[key] + embraer_indices_rentabilidade[key]"
   ]
  },
  {
   "cell_type": "code",
   "execution_count": 26,
   "id": "bb9e9416-082b-401e-9013-0f2031211377",
   "metadata": {},
   "outputs": [],
   "source": [
    "iochpe_ind_rentabilidade_df = pd.DataFrame.from_dict(indices_rentabilidade)"
   ]
  },
  {
   "cell_type": "code",
   "execution_count": 27,
   "id": "c6a8860a-a55a-4af7-a1b9-578906602a21",
   "metadata": {},
   "outputs": [],
   "source": [
    "iochpe_ind_rentabilidade_df = iochpe_ind_rentabilidade_df.set_index(index_str_array)"
   ]
  },
  {
   "cell_type": "code",
   "execution_count": null,
   "id": "f3188a28-632c-4e01-8dca-da1413e41281",
   "metadata": {},
   "outputs": [],
   "source": []
  },
  {
   "cell_type": "code",
   "execution_count": null,
   "id": "f32724e4-ecad-475b-839f-04920b1c82f6",
   "metadata": {},
   "outputs": [],
   "source": []
  },
  {
   "cell_type": "code",
   "execution_count": null,
   "id": "d0b9844c-e17d-4230-a0bc-dcdf44abb0f9",
   "metadata": {},
   "outputs": [],
   "source": []
  },
  {
   "cell_type": "code",
   "execution_count": null,
   "id": "f3e46deb-5d09-4f11-8edb-83d0787c3b20",
   "metadata": {},
   "outputs": [],
   "source": []
  },
  {
   "cell_type": "code",
   "execution_count": null,
   "id": "2312411e-d128-4e93-80f2-df0e309b0d60",
   "metadata": {},
   "outputs": [],
   "source": []
  },
  {
   "cell_type": "code",
   "execution_count": 28,
   "id": "ae6d7f79-c253-4171-b4ab-f3651dd33516",
   "metadata": {},
   "outputs": [],
   "source": [
    "iochpe_indices_margens = iochpe_valuation.get_indices_margens(2011, 4, 2021, 4)\n",
    "embraer_indices_margens = embraer_valuation.get_indices_margens(2011, 4, 2021, 4)"
   ]
  },
  {
   "cell_type": "code",
   "execution_count": 29,
   "id": "20b6fcc6-2a9b-432a-ac83-16cb02a70310",
   "metadata": {},
   "outputs": [],
   "source": [
    "indices_margens = dict.fromkeys(iochpe_indices_margens)\n",
    "\n",
    "for key in indices_margens.keys():\n",
    "    indices_margens[key] = iochpe_indices_margens[key] + embraer_indices_margens[key]"
   ]
  },
  {
   "cell_type": "code",
   "execution_count": 30,
   "id": "804ce23e-754a-4708-9658-29f499274209",
   "metadata": {},
   "outputs": [],
   "source": [
    "iochpe_ind_margens_df = pd.DataFrame.from_dict(indices_margens)"
   ]
  },
  {
   "cell_type": "code",
   "execution_count": 31,
   "id": "50afc339-0b23-453d-8bf1-4ebf6420cafc",
   "metadata": {},
   "outputs": [],
   "source": [
    "iochpe_ind_margens_df = iochpe_ind_margens_df.set_index(index_str_array)"
   ]
  },
  {
   "cell_type": "code",
   "execution_count": null,
   "id": "ea83b1b1-868c-4689-9d95-8c1b4e5686f0",
   "metadata": {},
   "outputs": [],
   "source": []
  },
  {
   "cell_type": "code",
   "execution_count": 32,
   "id": "b9f0dc3a-e4d2-4508-8acf-1cbe9c055182",
   "metadata": {},
   "outputs": [],
   "source": [
    "iochpe_ind_liquidez_flat_df = iochpe_ind_liquidez_df.reset_index()"
   ]
  },
  {
   "cell_type": "code",
   "execution_count": 33,
   "id": "b93b370a-294d-4b98-afdb-5a21c281a501",
   "metadata": {},
   "outputs": [
    {
     "data": {
      "text/html": [
       "<div>\n",
       "<style scoped>\n",
       "    .dataframe tbody tr th:only-of-type {\n",
       "        vertical-align: middle;\n",
       "    }\n",
       "\n",
       "    .dataframe tbody tr th {\n",
       "        vertical-align: top;\n",
       "    }\n",
       "\n",
       "    .dataframe thead th {\n",
       "        text-align: right;\n",
       "    }\n",
       "</style>\n",
       "<table border=\"1\" class=\"dataframe\">\n",
       "  <thead>\n",
       "    <tr style=\"text-align: right;\">\n",
       "      <th></th>\n",
       "      <th>ano</th>\n",
       "      <th>trimestre</th>\n",
       "      <th>ticker</th>\n",
       "      <th>empresa</th>\n",
       "      <th>ano_frac</th>\n",
       "      <th>liquidez_geral</th>\n",
       "      <th>liquidez_corrente</th>\n",
       "      <th>liquidez_seca</th>\n",
       "      <th>liquidez_imediata</th>\n",
       "    </tr>\n",
       "  </thead>\n",
       "  <tbody>\n",
       "    <tr>\n",
       "      <th>0</th>\n",
       "      <td>2011</td>\n",
       "      <td>4</td>\n",
       "      <td>MYPK3</td>\n",
       "      <td>Iochpe</td>\n",
       "      <td>2011.875</td>\n",
       "      <td>0.863087</td>\n",
       "      <td>1.131378</td>\n",
       "      <td>0.770833</td>\n",
       "      <td>0.317957</td>\n",
       "    </tr>\n",
       "    <tr>\n",
       "      <th>1</th>\n",
       "      <td>2012</td>\n",
       "      <td>1</td>\n",
       "      <td>MYPK3</td>\n",
       "      <td>Iochpe</td>\n",
       "      <td>2012.125</td>\n",
       "      <td>0.522915</td>\n",
       "      <td>0.628208</td>\n",
       "      <td>0.418608</td>\n",
       "      <td>0.092334</td>\n",
       "    </tr>\n",
       "    <tr>\n",
       "      <th>2</th>\n",
       "      <td>2012</td>\n",
       "      <td>2</td>\n",
       "      <td>MYPK3</td>\n",
       "      <td>Iochpe</td>\n",
       "      <td>2012.375</td>\n",
       "      <td>0.496274</td>\n",
       "      <td>1.045572</td>\n",
       "      <td>0.688326</td>\n",
       "      <td>0.157514</td>\n",
       "    </tr>\n",
       "    <tr>\n",
       "      <th>3</th>\n",
       "      <td>2012</td>\n",
       "      <td>3</td>\n",
       "      <td>MYPK3</td>\n",
       "      <td>Iochpe</td>\n",
       "      <td>2012.625</td>\n",
       "      <td>0.505010</td>\n",
       "      <td>1.143995</td>\n",
       "      <td>0.767530</td>\n",
       "      <td>0.189897</td>\n",
       "    </tr>\n",
       "    <tr>\n",
       "      <th>4</th>\n",
       "      <td>2012</td>\n",
       "      <td>4</td>\n",
       "      <td>MYPK3</td>\n",
       "      <td>Iochpe</td>\n",
       "      <td>2012.875</td>\n",
       "      <td>0.500747</td>\n",
       "      <td>1.191366</td>\n",
       "      <td>0.802198</td>\n",
       "      <td>0.280029</td>\n",
       "    </tr>\n",
       "    <tr>\n",
       "      <th>...</th>\n",
       "      <td>...</td>\n",
       "      <td>...</td>\n",
       "      <td>...</td>\n",
       "      <td>...</td>\n",
       "      <td>...</td>\n",
       "      <td>...</td>\n",
       "      <td>...</td>\n",
       "      <td>...</td>\n",
       "      <td>...</td>\n",
       "    </tr>\n",
       "    <tr>\n",
       "      <th>77</th>\n",
       "      <td>2020</td>\n",
       "      <td>4</td>\n",
       "      <td>EMBR4</td>\n",
       "      <td>Embraer</td>\n",
       "      <td>2020.875</td>\n",
       "      <td>0.847532</td>\n",
       "      <td>2.531102</td>\n",
       "      <td>1.514305</td>\n",
       "      <td>1.111958</td>\n",
       "    </tr>\n",
       "    <tr>\n",
       "      <th>78</th>\n",
       "      <td>2021</td>\n",
       "      <td>1</td>\n",
       "      <td>EMBR4</td>\n",
       "      <td>Embraer</td>\n",
       "      <td>2021.125</td>\n",
       "      <td>0.829104</td>\n",
       "      <td>2.449045</td>\n",
       "      <td>1.418773</td>\n",
       "      <td>1.000520</td>\n",
       "    </tr>\n",
       "    <tr>\n",
       "      <th>79</th>\n",
       "      <td>2021</td>\n",
       "      <td>2</td>\n",
       "      <td>EMBR4</td>\n",
       "      <td>Embraer</td>\n",
       "      <td>2021.375</td>\n",
       "      <td>0.840805</td>\n",
       "      <td>2.075976</td>\n",
       "      <td>1.265449</td>\n",
       "      <td>0.855691</td>\n",
       "    </tr>\n",
       "    <tr>\n",
       "      <th>80</th>\n",
       "      <td>2021</td>\n",
       "      <td>3</td>\n",
       "      <td>EMBR4</td>\n",
       "      <td>Embraer</td>\n",
       "      <td>2021.625</td>\n",
       "      <td>0.831390</td>\n",
       "      <td>2.038111</td>\n",
       "      <td>1.257724</td>\n",
       "      <td>0.830203</td>\n",
       "    </tr>\n",
       "    <tr>\n",
       "      <th>81</th>\n",
       "      <td>2021</td>\n",
       "      <td>4</td>\n",
       "      <td>EMBR4</td>\n",
       "      <td>Embraer</td>\n",
       "      <td>2021.875</td>\n",
       "      <td>0.843801</td>\n",
       "      <td>2.110740</td>\n",
       "      <td>1.397335</td>\n",
       "      <td>0.922901</td>\n",
       "    </tr>\n",
       "  </tbody>\n",
       "</table>\n",
       "<p>82 rows × 9 columns</p>\n",
       "</div>"
      ],
      "text/plain": [
       "     ano  trimestre ticker  empresa  ano_frac  liquidez_geral  \\\n",
       "0   2011          4  MYPK3   Iochpe  2011.875        0.863087   \n",
       "1   2012          1  MYPK3   Iochpe  2012.125        0.522915   \n",
       "2   2012          2  MYPK3   Iochpe  2012.375        0.496274   \n",
       "3   2012          3  MYPK3   Iochpe  2012.625        0.505010   \n",
       "4   2012          4  MYPK3   Iochpe  2012.875        0.500747   \n",
       "..   ...        ...    ...      ...       ...             ...   \n",
       "77  2020          4  EMBR4  Embraer  2020.875        0.847532   \n",
       "78  2021          1  EMBR4  Embraer  2021.125        0.829104   \n",
       "79  2021          2  EMBR4  Embraer  2021.375        0.840805   \n",
       "80  2021          3  EMBR4  Embraer  2021.625        0.831390   \n",
       "81  2021          4  EMBR4  Embraer  2021.875        0.843801   \n",
       "\n",
       "    liquidez_corrente  liquidez_seca  liquidez_imediata  \n",
       "0            1.131378       0.770833           0.317957  \n",
       "1            0.628208       0.418608           0.092334  \n",
       "2            1.045572       0.688326           0.157514  \n",
       "3            1.143995       0.767530           0.189897  \n",
       "4            1.191366       0.802198           0.280029  \n",
       "..                ...            ...                ...  \n",
       "77           2.531102       1.514305           1.111958  \n",
       "78           2.449045       1.418773           1.000520  \n",
       "79           2.075976       1.265449           0.855691  \n",
       "80           2.038111       1.257724           0.830203  \n",
       "81           2.110740       1.397335           0.922901  \n",
       "\n",
       "[82 rows x 9 columns]"
      ]
     },
     "execution_count": 33,
     "metadata": {},
     "output_type": "execute_result"
    }
   ],
   "source": [
    "iochpe_ind_liquidez_flat_df"
   ]
  },
  {
   "cell_type": "code",
   "execution_count": 34,
   "id": "e6549bd1-cdeb-4f30-854f-746b86f7b206",
   "metadata": {},
   "outputs": [],
   "source": [
    "iochpe_excel_file_name = 'out/indicadores_Iochpe.xlsx'"
   ]
  },
  {
   "cell_type": "code",
   "execution_count": 35,
   "id": "d3e25416-a6c0-4839-8974-602aee5429d4",
   "metadata": {},
   "outputs": [],
   "source": [
    "with pd.ExcelWriter(iochpe_excel_file_name) as writer:\n",
    "    iochpe_ind_liquidez_flat_df.to_excel(writer, sheet_name='Iochpe_ind_liquidez')\n",
    "    iochpe_ind_atividade_df.reset_index().to_excel(writer, sheet_name='Iochpe_ind_atividade')\n",
    "    iochpe_ind_rentabilidade_df.reset_index().to_excel(writer, sheet_name='Iochpe_ind_rentabilidade')\n",
    "    iochpe_ind_margens_df.reset_index().to_excel(writer, sheet_name='Iochpe_ind_margens')"
   ]
  },
  {
   "cell_type": "code",
   "execution_count": null,
   "id": "84e4330c-a6d8-4d00-a5de-f5fd25012a92",
   "metadata": {},
   "outputs": [],
   "source": []
  },
  {
   "cell_type": "code",
   "execution_count": null,
   "id": "1a83e97d-a386-4180-ad41-6c527d0891a3",
   "metadata": {},
   "outputs": [],
   "source": []
  },
  {
   "cell_type": "code",
   "execution_count": null,
   "id": "0d983e70-8077-4b81-be00-8111f7691de6",
   "metadata": {},
   "outputs": [],
   "source": []
  },
  {
   "cell_type": "code",
   "execution_count": null,
   "id": "4c9a56ab-b55e-4241-b890-fb11fc671ed1",
   "metadata": {},
   "outputs": [],
   "source": []
  },
  {
   "cell_type": "code",
   "execution_count": null,
   "id": "0a4a7f11-52b0-485a-9291-02965445d3aa",
   "metadata": {},
   "outputs": [],
   "source": []
  },
  {
   "cell_type": "code",
   "execution_count": null,
   "id": "66ceb84f-5e4d-44f5-9b78-577919eee1e2",
   "metadata": {},
   "outputs": [],
   "source": []
  },
  {
   "cell_type": "code",
   "execution_count": null,
   "id": "106cf5d6-0d1a-470d-b6af-ad144c2a2fc6",
   "metadata": {},
   "outputs": [],
   "source": []
  },
  {
   "cell_type": "code",
   "execution_count": null,
   "id": "46a3f491-fc1c-4b0b-af43-2a14b29f39c7",
   "metadata": {},
   "outputs": [],
   "source": []
  },
  {
   "cell_type": "code",
   "execution_count": null,
   "id": "6e43abda-c952-4797-89d6-b484f0d02359",
   "metadata": {},
   "outputs": [],
   "source": []
  },
  {
   "cell_type": "code",
   "execution_count": null,
   "id": "944b5c4c-a585-4bb9-b0ac-eb41129bc98d",
   "metadata": {},
   "outputs": [],
   "source": []
  },
  {
   "cell_type": "code",
   "execution_count": null,
   "id": "caf9938a-b777-4245-bf32-e7115fbc5af5",
   "metadata": {},
   "outputs": [],
   "source": []
  },
  {
   "cell_type": "code",
   "execution_count": null,
   "id": "ed464a9e-37ad-4802-a8f2-c55c168ba4c7",
   "metadata": {},
   "outputs": [],
   "source": []
  },
  {
   "cell_type": "code",
   "execution_count": null,
   "id": "36e0de08-8d41-4e45-8332-b4a885a7b9fa",
   "metadata": {},
   "outputs": [],
   "source": []
  },
  {
   "cell_type": "code",
   "execution_count": null,
   "id": "ef0f9654-f03a-4cb6-ab52-99b932560765",
   "metadata": {},
   "outputs": [],
   "source": []
  },
  {
   "cell_type": "code",
   "execution_count": null,
   "id": "a9d8bb17-891e-4ee0-b5e7-82d4a6334377",
   "metadata": {},
   "outputs": [],
   "source": []
  },
  {
   "cell_type": "code",
   "execution_count": null,
   "id": "691bb88e-e2e8-4dab-abfc-3a26ba729ae7",
   "metadata": {},
   "outputs": [],
   "source": []
  },
  {
   "cell_type": "code",
   "execution_count": null,
   "id": "24aaabf4-f496-4c93-a087-e87db8def1e7",
   "metadata": {},
   "outputs": [],
   "source": []
  },
  {
   "cell_type": "code",
   "execution_count": null,
   "id": "bde6ebc6-27fc-4a75-856b-f7c1b3bd4d55",
   "metadata": {},
   "outputs": [],
   "source": []
  },
  {
   "cell_type": "code",
   "execution_count": null,
   "id": "35b17c6f-690a-4d5b-bb03-53a93d5e3110",
   "metadata": {},
   "outputs": [],
   "source": []
  },
  {
   "cell_type": "code",
   "execution_count": null,
   "id": "a441d674-3d14-442b-b45d-1c789f927833",
   "metadata": {},
   "outputs": [],
   "source": []
  },
  {
   "cell_type": "code",
   "execution_count": null,
   "id": "7a997480-d9a7-4533-9f7a-b58c9877456e",
   "metadata": {},
   "outputs": [],
   "source": []
  },
  {
   "cell_type": "code",
   "execution_count": null,
   "id": "e159ee25-984a-47af-8b65-b31a2fceb059",
   "metadata": {},
   "outputs": [],
   "source": []
  },
  {
   "cell_type": "code",
   "execution_count": null,
   "id": "7142be15-62a5-477b-b1aa-b4e2ff748367",
   "metadata": {},
   "outputs": [],
   "source": []
  },
  {
   "cell_type": "code",
   "execution_count": null,
   "id": "d0fa906d-9425-4cb6-abe2-495e2f898416",
   "metadata": {},
   "outputs": [],
   "source": []
  },
  {
   "cell_type": "code",
   "execution_count": null,
   "id": "cb5dcb23-0be5-4803-928c-3e40e0eb96cb",
   "metadata": {},
   "outputs": [],
   "source": []
  },
  {
   "cell_type": "code",
   "execution_count": null,
   "id": "d42fa4b7-b10d-466b-819e-c6168e810467",
   "metadata": {},
   "outputs": [],
   "source": []
  },
  {
   "cell_type": "code",
   "execution_count": null,
   "id": "879a0a2b-a2a1-44c3-88f9-892e70480e19",
   "metadata": {},
   "outputs": [],
   "source": []
  },
  {
   "cell_type": "code",
   "execution_count": null,
   "id": "ab14a36d-56ff-4557-b7f2-3b4ba022067b",
   "metadata": {},
   "outputs": [],
   "source": []
  },
  {
   "cell_type": "code",
   "execution_count": null,
   "id": "c8b45b0d-497a-40e4-9d03-90ad5d93f5bb",
   "metadata": {},
   "outputs": [],
   "source": []
  }
 ],
 "metadata": {
  "kernelspec": {
   "display_name": "Python 3",
   "language": "python",
   "name": "python3"
  },
  "language_info": {
   "codemirror_mode": {
    "name": "ipython",
    "version": 3
   },
   "file_extension": ".py",
   "mimetype": "text/x-python",
   "name": "python",
   "nbconvert_exporter": "python",
   "pygments_lexer": "ipython3",
   "version": "3.8.10"
  }
 },
 "nbformat": 4,
 "nbformat_minor": 5
}
