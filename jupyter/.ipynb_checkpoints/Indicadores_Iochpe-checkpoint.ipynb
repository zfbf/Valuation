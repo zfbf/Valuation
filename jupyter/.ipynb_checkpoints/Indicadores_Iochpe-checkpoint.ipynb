{
 "cells": [
  {
   "cell_type": "code",
   "execution_count": 1,
   "id": "c280782f-0468-4314-8623-217e5ab3ec2f",
   "metadata": {
    "tags": []
   },
   "outputs": [],
   "source": [
    "import pandas as pd\n",
    "import numpy as np"
   ]
  },
  {
   "cell_type": "code",
   "execution_count": 2,
   "id": "cb77f960-dd3f-437a-a6fd-efb478029473",
   "metadata": {},
   "outputs": [],
   "source": [
    "from lib.valuation.valuation import Valuation\n",
    "from lib.valuation.factories.valuation_periodo_trimestral_factory import ValuationPeriodoTrimestralFactory\n",
    "from lib.valuation.reporters.reporter_default import ReporterDefault"
   ]
  },
  {
   "cell_type": "code",
   "execution_count": 3,
   "id": "d8615794-805e-46de-914c-2933486a0dfc",
   "metadata": {
    "tags": []
   },
   "outputs": [],
   "source": [
    "from lib.importacao.economatica.empresas.iochpe.dados_2009T1_2021T4 import Iochpe2009T12021T4\n",
    "from lib.importacao.economatica.empresas.embraer.dados_2009T1_2021T4 import Embraer2009T12021T4\n",
    "from lib.importacao.economatica.empresas.marcopolo.dados_2009T1_2021T4 import Marcopolo2009T12021T4"
   ]
  },
  {
   "cell_type": "code",
   "execution_count": 4,
   "id": "c8dc127f-c708-413d-8889-57b1f46caee7",
   "metadata": {},
   "outputs": [],
   "source": [
    "from lib.valuation.reporters.indices.liquidez.geral import IndiceLiquidezGeralReporter"
   ]
  },
  {
   "cell_type": "code",
   "execution_count": 5,
   "id": "81c2a57a-29fd-47cf-befb-0647ae799f07",
   "metadata": {},
   "outputs": [],
   "source": [
    "iochpe_importacao = Iochpe2009T12021T4()\n",
    "embraer_importacao = Embraer2009T12021T4()\n",
    "marcopolo_importacao = Marcopolo2009T12021T4()"
   ]
  },
  {
   "cell_type": "code",
   "execution_count": 6,
   "id": "fef59767-3b97-408e-9554-c08af2b16420",
   "metadata": {
    "tags": []
   },
   "outputs": [],
   "source": [
    "iochpe_importacao.prepare()\n",
    "embraer_importacao.prepare()\n",
    "marcopolo_importacao.prepare()"
   ]
  },
  {
   "cell_type": "code",
   "execution_count": 7,
   "id": "67e7dfc8-ab34-4330-999c-95e10b8c960f",
   "metadata": {
    "tags": []
   },
   "outputs": [],
   "source": [
    "valuation_factory = ValuationPeriodoTrimestralFactory()"
   ]
  },
  {
   "cell_type": "code",
   "execution_count": 8,
   "id": "bb40b36e-1611-402a-b43a-e17d5b5d200b",
   "metadata": {},
   "outputs": [],
   "source": [
    "iochpe_valuation = valuation_factory.build(iochpe_importacao)\n",
    "embraer_valuation = valuation_factory.build(embraer_importacao)\n",
    "marcopolo_valuation = valuation_factory.build(marcopolo_importacao)"
   ]
  },
  {
   "cell_type": "code",
   "execution_count": 9,
   "id": "6d825041-1fed-48f0-a3c9-5b4d9dba2f3c",
   "metadata": {},
   "outputs": [
    {
     "name": "stdout",
     "output_type": "stream",
     "text": [
      "Iochpe, Embraer, Marcopolo períodos: 52, 52, 52\n"
     ]
    }
   ],
   "source": [
    "print('Iochpe, Embraer, Marcopolo períodos: {}, {}, {}'.format(\n",
    "        len(iochpe_valuation.periodos), \n",
    "        len(embraer_valuation.periodos), \n",
    "        len(embraer_valuation.periodos)))"
   ]
  },
  {
   "cell_type": "code",
   "execution_count": 10,
   "id": "626c8c5a-50a5-4293-9c24-72a30c9bd2d1",
   "metadata": {},
   "outputs": [],
   "source": [
    "valuation_factory.load(iochpe_valuation, iochpe_importacao)\n",
    "valuation_factory.load(embraer_valuation, embraer_importacao)\n",
    "valuation_factory.load(marcopolo_valuation, marcopolo_importacao)"
   ]
  },
  {
   "cell_type": "code",
   "execution_count": 11,
   "id": "d68a2530-bc73-40d0-b3b8-0a6bfef8408a",
   "metadata": {},
   "outputs": [
    {
     "name": "stdout",
     "output_type": "stream",
     "text": [
      "Últimos períodos Iochpe, Embraer, Marcopolo: 2021T4, 2021T4, 2021T4\n"
     ]
    }
   ],
   "source": [
    "print('Últimos períodos Iochpe, Embraer, Marcopolo: {}, {}, {}'.format(\n",
    "        iochpe_valuation.periodos[-1].identificador,\n",
    "        embraer_valuation.periodos[-1].identificador,\n",
    "        marcopolo_valuation.periodos[-1].identificador))"
   ]
  },
  {
   "cell_type": "code",
   "execution_count": 12,
   "id": "31e25940-c8d2-4ca1-b55c-03fa7fa3f309",
   "metadata": {},
   "outputs": [],
   "source": [
    "#print(valuation.periodos[-1])"
   ]
  },
  {
   "cell_type": "code",
   "execution_count": 13,
   "id": "9e43947e-f359-4f98-8d28-3d19e316713c",
   "metadata": {},
   "outputs": [],
   "source": [
    "#reporter = ReporterDefault()"
   ]
  },
  {
   "cell_type": "code",
   "execution_count": 14,
   "id": "794d53db-11a1-44b6-a254-33679e7e9827",
   "metadata": {},
   "outputs": [],
   "source": [
    "#report = valuation.report(reporter)"
   ]
  },
  {
   "cell_type": "code",
   "execution_count": 15,
   "id": "eaac2956-aabd-42b5-bd3f-36457570fdd3",
   "metadata": {},
   "outputs": [],
   "source": [
    "#type(report)"
   ]
  },
  {
   "cell_type": "code",
   "execution_count": null,
   "id": "c7fffc2c-f5ac-4951-b52a-44286640ea0f",
   "metadata": {},
   "outputs": [],
   "source": []
  },
  {
   "cell_type": "code",
   "execution_count": 16,
   "id": "1260db34-c60a-4eba-9f6b-16cb00c58585",
   "metadata": {},
   "outputs": [],
   "source": [
    "iochpe_ind_liquidez_geral_reporter = IndiceLiquidezGeralReporter(iochpe_valuation)"
   ]
  },
  {
   "cell_type": "code",
   "execution_count": 17,
   "id": "3fe4b21f-3771-4e26-b437-374fa9811a00",
   "metadata": {},
   "outputs": [],
   "source": [
    "outros_valuations = [embraer_valuation, marcopolo_valuation]"
   ]
  },
  {
   "cell_type": "code",
   "execution_count": 18,
   "id": "57ca8cf2-6cf0-4cf1-a089-476c5ce01389",
   "metadata": {},
   "outputs": [],
   "source": [
    "iochpe_ind_liquidez_geral_dict = iochpe_ind_liquidez_geral_reporter.execute(outros=outros_valuations)\n",
    "#iochpe_ind_liquidez_geral_dict = iochpe_ind_liquidez_geral_reporter.execute()"
   ]
  },
  {
   "cell_type": "code",
   "execution_count": 19,
   "id": "e500af91-ea2a-4918-aa1a-ba85265149b3",
   "metadata": {},
   "outputs": [
    {
     "name": "stdout",
     "output_type": "stream",
     "text": [
      "ano_inicial:\n",
      "\t2010\n",
      "\n",
      "trimestre_inicial:\n",
      "\t1\n",
      "\n",
      "ano_final:\n",
      "\t2021\n",
      "\n",
      "trimestre_final:\n",
      "\t4\n",
      "\n",
      "modo:\n",
      "\tCOMPARACAO_POR_MEDIA\n",
      "\n",
      "empresa_base:\n",
      "\t{'nome': 'Iochpe', 'liquidez_geral': [0.584103869147838, 0.831553340642971, 0.9834250822912136, 0.850111493398518, 0.8671196723797967, 0.8813189852879552, 0.9076730540068945, 0.8630865174835483, 0.5229147673508622, 0.49627397756377334, 0.5050097161828908, 0.5007474430588548, 0.4939150572113871, 0.49940160289740737, 0.503037174729586, 0.5196824808064583, 0.5085464750511063, 0.5131403914679369, 0.5002163610557334, 0.50889279821779, 0.5208808760033026, 0.5157187564851875, 0.5350319156858596, 0.5189957731353123, 0.5155347190049783, 0.5257071325787549, 0.520438283917726, 0.5265365062723734, 0.6320050374760575, 0.6510035636522936, 0.6540122408630397, 0.6484430555300966, 0.6962906148626884, 0.6680613668061367, 0.6799104875907158, 0.6712262847033061, 0.6809397631735382, 0.6892206560497713, 0.7062832279705542, 0.6627478231876341, 0.677317186722775, 0.6407257572809485, 0.672490386407142, 0.6727294395822438, 0.7025141162467142, 0.7491031499712408, 0.77965398303858, 0.7633450513964901], 'estatisticas': {'min': 0.4939150572113871, 'max': 0.9834250822912136, 'media': 0.6399382794964162, 'quartil_1': 0.5181765189727812, 'quartil_2': 0.6497233095911952, 'quartil_3': 0.6978464902086948}}\n",
      "\n",
      "ano:\n",
      "\t[2010, 2010, 2010, 2010, 2011, 2011, 2011, 2011, 2012, 2012, 2012, 2012, 2013, 2013, 2013, 2013, 2014, 2014, 2014, 2014, 2015, 2015, 2015, 2015, 2016, 2016, 2016, 2016, 2017, 2017, 2017, 2017, 2018, 2018, 2018, 2018, 2019, 2019, 2019, 2019, 2020, 2020, 2020, 2020, 2021, 2021, 2021, 2021]\n",
      "\n",
      "trimestre:\n",
      "\t[1, 2, 3, 4, 1, 2, 3, 4, 1, 2, 3, 4, 1, 2, 3, 4, 1, 2, 3, 4, 1, 2, 3, 4, 1, 2, 3, 4, 1, 2, 3, 4, 1, 2, 3, 4, 1, 2, 3, 4, 1, 2, 3, 4, 1, 2, 3, 4]\n",
      "\n",
      "ano_frac:\n",
      "\t[2010.25, 2010.5, 2010.75, 2011.0, 2011.25, 2011.5, 2011.75, 2012.0, 2012.25, 2012.5, 2012.75, 2013.0, 2013.25, 2013.5, 2013.75, 2014.0, 2014.25, 2014.5, 2014.75, 2015.0, 2015.25, 2015.5, 2015.75, 2016.0, 2016.25, 2016.5, 2016.75, 2017.0, 2017.25, 2017.5, 2017.75, 2018.0, 2018.25, 2018.5, 2018.75, 2019.0, 2019.25, 2019.5, 2019.75, 2020.0, 2020.25, 2020.5, 2020.75, 2021.0, 2021.25, 2021.5, 2021.75, 2022.0]\n",
      "\n",
      "outras_empresas:\n",
      "\t[{'nome': 'Embraer', 'liquidez_geral': [1.5742434819558686, 1.6911333776334978, 2.0771137294036266, 1.6607853181537326, 1.2175200165039506, 1.1817100672044518, 1.5187489678157, 1.1491846817154103, 1.1377255268054032, 1.1300981153088843, 1.1425771094598773, 1.1063476787821331, 1.0820646082266328, 1.0714430536583823, 1.0663464960155498, 1.0813854503297784, 1.096897126550065, 1.1129115375651732, 1.0972166883102215, 1.0882400471954579, 1.0780675410430698, 1.0767685891408607, 1.052728318553675, 1.0523467974595395, 1.061248650108764, 1.0291433240231396, 1.007113137314391, 1.015336003012576, 1.0160341805611999, 1.0151828781597543, 1.0236305142951516, 1.024409617962179, 1.0287574410378921, 1.016106536809574, 1.010723034384863, 1.0095659540188688, 4.976828582570825, 4.69341778402724, 4.5500714696266655, 4.389193203180108, 3.3390129287788564, 0.8629891989136261, 0.8531478727183591, 0.8475323424581558, 0.8291043945259711, 0.8408053477125953, 0.8313901894717568, 0.8438011534970441], 'estatisticas': {'min': 0.8291043945259711, 'max': 4.976828582570825, 'media': 1.4512114596658436, 'quartil_1': 1.015859636174044, 'quartil_2': 1.0774180650919654, 'quartil_3': 1.1573160280876706}}, {'nome': 'Marcopolo', 'liquidez_geral': [0.4022386081776914, 0.3609055683290344, 0.4106702231242497, 1.2881675620598854, 1.279593217494375, 1.2685305785941905, 1.2765070381111026, 1.3503808638015922, 1.2601586433334035, 1.250799033960937, 1.303973937714309, 1.2843843672857647, 1.1816403006335017, 1.1563308798464782, 1.1653062359902442, 1.2248606762594532, 1.1936132570273177, 1.2028196024506979, 1.1912110031374161, 1.2080091746973032, 1.1828166559005642, 1.1721691394871134, 1.148664003556348, 1.1492492161627863, 1.1693891210361607, 1.17862275545043, 1.199944097642784, 1.183093357145991, 1.1940294879161832, 1.2023774856878138, 1.2142565667497582, 1.2177049580122763, 1.2055549073424852, 1.1763450106627018, 1.1995252334451532, 1.2126920545811062, 1.216739691042605, 1.2405598454904132, 1.2415057930167874, 1.2215882721122036, 1.1845089727166305, 1.1692458346490788, 1.1480181089814179, 1.2081776352417577, 1.1893884993690715, 1.2465609811924596, 1.2705947722235014, 1.2893270601936866], 'estatisticas': {'min': 0.3609055683290344, 'max': 1.3503808638015922, 'media': 1.1644322976882961, 'quartil_1': 1.178053319253498, 'quartil_2': 1.202598544069256, 'quartil_3': 1.2427695900607054}}]\n"
     ]
    }
   ],
   "source": [
    "d = iochpe_ind_liquidez_geral_dict\n",
    "print('\\n\\n'.join('{}:\\n\\t{}'.format(k, v) for k, v in d.items()))"
   ]
  },
  {
   "cell_type": "code",
   "execution_count": 20,
   "id": "7253120d-5706-44b9-a64a-a61827b4ad9b",
   "metadata": {},
   "outputs": [
    {
     "name": "stdout",
     "output_type": "stream",
     "text": [
      "len: 2\n"
     ]
    }
   ],
   "source": [
    "print('len: {}'.format(len(iochpe_ind_liquidez_geral_dict['outras_empresas'])))"
   ]
  },
  {
   "cell_type": "code",
   "execution_count": 21,
   "id": "6c9f2c53-cd27-4cef-9e46-03b63f0772b5",
   "metadata": {},
   "outputs": [
    {
     "data": {
      "text/plain": [
       "['ano', 'trimestre', 'ano_frac', 'Iochpe', 'Embraer', 'Marcopolo']"
      ]
     },
     "execution_count": 21,
     "metadata": {},
     "output_type": "execute_result"
    }
   ],
   "source": [
    "aux_dict = iochpe_ind_liquidez_geral_dict\n",
    "nome_empresa_base = aux_dict['empresa_base']['nome']\n",
    "nomes_outras_empresas = [d['nome'] for d in aux_dict['outras_empresas']]\n",
    "keys = ['ano', 'trimestre', 'ano_frac', nome_empresa_base] + nomes_outras_empresas\n",
    "keys"
   ]
  },
  {
   "cell_type": "code",
   "execution_count": 22,
   "id": "0cc5d9a8-b219-472c-80ac-c2ef35946763",
   "metadata": {},
   "outputs": [],
   "source": [
    "ano = aux_dict['ano']\n",
    "trimestre = aux_dict['trimestre']\n",
    "ano_frac = aux_dict['ano_frac']\n",
    "ind_liquidez_geral_empresa_base = aux_dict['empresa_base']['liquidez_geral']\n",
    "ind_liquidez_geral_outras_empresas = [d['liquidez_geral'] for d in aux_dict['outras_empresas']]\n",
    "values = [ano, trimestre, ano_frac, ind_liquidez_geral_empresa_base] + ind_liquidez_geral_outras_empresas"
   ]
  },
  {
   "cell_type": "code",
   "execution_count": 23,
   "id": "8c339b13-f527-4373-a1c9-260df6d944d5",
   "metadata": {},
   "outputs": [],
   "source": [
    "df = pd.DataFrame.from_dict(zip(keys, values))"
   ]
  },
  {
   "cell_type": "code",
   "execution_count": 24,
   "id": "ea01a0c7-fdf3-4074-8ed7-5adeb65526c2",
   "metadata": {},
   "outputs": [
    {
     "data": {
      "text/html": [
       "<div>\n",
       "<style scoped>\n",
       "    .dataframe tbody tr th:only-of-type {\n",
       "        vertical-align: middle;\n",
       "    }\n",
       "\n",
       "    .dataframe tbody tr th {\n",
       "        vertical-align: top;\n",
       "    }\n",
       "\n",
       "    .dataframe thead th {\n",
       "        text-align: right;\n",
       "    }\n",
       "</style>\n",
       "<table border=\"1\" class=\"dataframe\">\n",
       "  <thead>\n",
       "    <tr style=\"text-align: right;\">\n",
       "      <th></th>\n",
       "      <th>0</th>\n",
       "      <th>1</th>\n",
       "    </tr>\n",
       "  </thead>\n",
       "  <tbody>\n",
       "    <tr>\n",
       "      <th>0</th>\n",
       "      <td>ano</td>\n",
       "      <td>[2010, 2010, 2010, 2010, 2011, 2011, 2011, 201...</td>\n",
       "    </tr>\n",
       "    <tr>\n",
       "      <th>1</th>\n",
       "      <td>trimestre</td>\n",
       "      <td>[1, 2, 3, 4, 1, 2, 3, 4, 1, 2, 3, 4, 1, 2, 3, ...</td>\n",
       "    </tr>\n",
       "    <tr>\n",
       "      <th>2</th>\n",
       "      <td>ano_frac</td>\n",
       "      <td>[2010.25, 2010.5, 2010.75, 2011.0, 2011.25, 20...</td>\n",
       "    </tr>\n",
       "    <tr>\n",
       "      <th>3</th>\n",
       "      <td>Iochpe</td>\n",
       "      <td>[0.584103869147838, 0.831553340642971, 0.98342...</td>\n",
       "    </tr>\n",
       "    <tr>\n",
       "      <th>4</th>\n",
       "      <td>Embraer</td>\n",
       "      <td>[1.5742434819558686, 1.6911333776334978, 2.077...</td>\n",
       "    </tr>\n",
       "    <tr>\n",
       "      <th>5</th>\n",
       "      <td>Marcopolo</td>\n",
       "      <td>[0.4022386081776914, 0.3609055683290344, 0.410...</td>\n",
       "    </tr>\n",
       "  </tbody>\n",
       "</table>\n",
       "</div>"
      ],
      "text/plain": [
       "           0                                                  1\n",
       "0        ano  [2010, 2010, 2010, 2010, 2011, 2011, 2011, 201...\n",
       "1  trimestre  [1, 2, 3, 4, 1, 2, 3, 4, 1, 2, 3, 4, 1, 2, 3, ...\n",
       "2   ano_frac  [2010.25, 2010.5, 2010.75, 2011.0, 2011.25, 20...\n",
       "3     Iochpe  [0.584103869147838, 0.831553340642971, 0.98342...\n",
       "4    Embraer  [1.5742434819558686, 1.6911333776334978, 2.077...\n",
       "5  Marcopolo  [0.4022386081776914, 0.3609055683290344, 0.410..."
      ]
     },
     "execution_count": 24,
     "metadata": {},
     "output_type": "execute_result"
    }
   ],
   "source": [
    "df"
   ]
  },
  {
   "cell_type": "code",
   "execution_count": null,
   "id": "123b58e0-133d-49f7-846b-c93bf79187bb",
   "metadata": {},
   "outputs": [],
   "source": []
  },
  {
   "cell_type": "code",
   "execution_count": 25,
   "id": "6136ea1b-06b7-4c0a-bfb2-c1fdd9452f48",
   "metadata": {},
   "outputs": [
    {
     "name": "stdout",
     "output_type": "stream",
     "text": [
      "2010.25 0.584103869147838\n",
      "2010.5 0.831553340642971\n",
      "2010.75 0.9834250822912136\n",
      "2011.0 0.850111493398518\n",
      "2011.25 0.8671196723797967\n",
      "2011.5 0.8813189852879552\n",
      "2011.75 0.9076730540068945\n",
      "2012.0 0.8630865174835483\n",
      "2012.25 0.5229147673508622\n",
      "2012.5 0.49627397756377334\n",
      "2012.75 0.5050097161828908\n",
      "2013.0 0.5007474430588548\n",
      "2013.25 0.4939150572113871\n",
      "2013.5 0.49940160289740737\n",
      "2013.75 0.503037174729586\n",
      "2014.0 0.5196824808064583\n",
      "2014.25 0.5085464750511063\n",
      "2014.5 0.5131403914679369\n",
      "2014.75 0.5002163610557334\n",
      "2015.0 0.50889279821779\n",
      "2015.25 0.5208808760033026\n",
      "2015.5 0.5157187564851875\n",
      "2015.75 0.5350319156858596\n",
      "2016.0 0.5189957731353123\n",
      "2016.25 0.5155347190049783\n",
      "2016.5 0.5257071325787549\n",
      "2016.75 0.520438283917726\n",
      "2017.0 0.5265365062723734\n",
      "2017.25 0.6320050374760575\n",
      "2017.5 0.6510035636522936\n",
      "2017.75 0.6540122408630397\n",
      "2018.0 0.6484430555300966\n",
      "2018.25 0.6962906148626884\n",
      "2018.5 0.6680613668061367\n",
      "2018.75 0.6799104875907158\n",
      "2019.0 0.6712262847033061\n",
      "2019.25 0.6809397631735382\n",
      "2019.5 0.6892206560497713\n",
      "2019.75 0.7062832279705542\n",
      "2020.0 0.6627478231876341\n",
      "2020.25 0.677317186722775\n",
      "2020.5 0.6407257572809485\n",
      "2020.75 0.672490386407142\n",
      "2021.0 0.6727294395822438\n",
      "2021.25 0.7025141162467142\n",
      "2021.5 0.7491031499712408\n",
      "2021.75 0.77965398303858\n",
      "2022.0 0.7633450513964901\n"
     ]
    }
   ],
   "source": [
    "for x, y in zip(ano_frac, ind_liquidez_geral_empresa_base):\n",
    "    print(x, y)"
   ]
  },
  {
   "cell_type": "code",
   "execution_count": 26,
   "id": "c232f77f-56fc-4d55-a80b-c0236fa6d1db",
   "metadata": {},
   "outputs": [
    {
     "name": "stdout",
     "output_type": "stream",
     "text": [
      "2010.25 0.584103869147838\n",
      "2010.5 0.831553340642971\n",
      "2010.75 0.9834250822912136\n",
      "2011.0 0.850111493398518\n",
      "2011.25 0.8671196723797967\n",
      "2011.5 0.8813189852879552\n",
      "2011.75 0.9076730540068945\n",
      "2012.0 0.8630865174835483\n",
      "2012.25 0.5229147673508622\n",
      "2012.5 0.49627397756377334\n",
      "2012.75 0.5050097161828908\n",
      "2013.0 0.5007474430588548\n",
      "2013.25 0.4939150572113871\n",
      "2013.5 0.49940160289740737\n",
      "2013.75 0.503037174729586\n",
      "2014.0 0.5196824808064583\n",
      "2014.25 0.5085464750511063\n",
      "2014.5 0.5131403914679369\n",
      "2014.75 0.5002163610557334\n",
      "2015.0 0.50889279821779\n",
      "2015.25 0.5208808760033026\n",
      "2015.5 0.5157187564851875\n",
      "2015.75 0.5350319156858596\n",
      "2016.0 0.5189957731353123\n",
      "2016.25 0.5155347190049783\n",
      "2016.5 0.5257071325787549\n",
      "2016.75 0.520438283917726\n",
      "2017.0 0.5265365062723734\n",
      "2017.25 0.6320050374760575\n",
      "2017.5 0.6510035636522936\n",
      "2017.75 0.6540122408630397\n",
      "2018.0 0.6484430555300966\n",
      "2018.25 0.6962906148626884\n",
      "2018.5 0.6680613668061367\n",
      "2018.75 0.6799104875907158\n",
      "2019.0 0.6712262847033061\n",
      "2019.25 0.6809397631735382\n",
      "2019.5 0.6892206560497713\n",
      "2019.75 0.7062832279705542\n",
      "2020.0 0.6627478231876341\n",
      "2020.25 0.677317186722775\n",
      "2020.5 0.6407257572809485\n",
      "2020.75 0.672490386407142\n",
      "2021.0 0.6727294395822438\n",
      "2021.25 0.7025141162467142\n",
      "2021.5 0.7491031499712408\n",
      "2021.75 0.77965398303858\n",
      "2022.0 0.7633450513964901\n"
     ]
    }
   ],
   "source": [
    "for x, y in zip(ano_frac, ind_liquidez_geral_empresa_base):\n",
    "    print(x, y)"
   ]
  },
  {
   "cell_type": "code",
   "execution_count": 39,
   "id": "228cc1f9-92c6-4932-aabe-7d2f2561aad1",
   "metadata": {},
   "outputs": [
    {
     "data": {
      "text/plain": [
       "dict_keys(['nome', 'liquidez_geral', 'estatisticas'])"
      ]
     },
     "execution_count": 39,
     "metadata": {},
     "output_type": "execute_result"
    }
   ],
   "source": [
    "#iochpe_ind_liquidez_geral_dict.keys()\n",
    "iochpe_ind_liquidez_geral_dict['outras_empresas'][1].keys()"
   ]
  },
  {
   "cell_type": "code",
   "execution_count": 40,
   "id": "5d9c42d6-12e0-4f80-b0b9-eb16b45d62d0",
   "metadata": {},
   "outputs": [],
   "source": [
    "nome_outra_empresa = iochpe_ind_liquidez_geral_dict['outras_empresas'][1]['nome']\n",
    "ind_liquidez_geral_outra_empresa = iochpe_ind_liquidez_geral_dict['outras_empresas'][1]['liquidez_geral']\n",
    "#(nome_outra_empresa, ind_liquidez_geral_outra_empresa)"
   ]
  },
  {
   "cell_type": "code",
   "execution_count": 41,
   "id": "36f0374a-2ecf-484c-a6a0-fb15ffda8fb5",
   "metadata": {},
   "outputs": [
    {
     "name": "stdout",
     "output_type": "stream",
     "text": [
      "2010.25 0.4022386081776914\n",
      "2010.5 0.3609055683290344\n",
      "2010.75 0.4106702231242497\n",
      "2011.0 1.2881675620598854\n",
      "2011.25 1.279593217494375\n",
      "2011.5 1.2685305785941905\n",
      "2011.75 1.2765070381111026\n",
      "2012.0 1.3503808638015922\n",
      "2012.25 1.2601586433334035\n",
      "2012.5 1.250799033960937\n",
      "2012.75 1.303973937714309\n",
      "2013.0 1.2843843672857647\n",
      "2013.25 1.1816403006335017\n",
      "2013.5 1.1563308798464782\n",
      "2013.75 1.1653062359902442\n",
      "2014.0 1.2248606762594532\n",
      "2014.25 1.1936132570273177\n",
      "2014.5 1.2028196024506979\n",
      "2014.75 1.1912110031374161\n",
      "2015.0 1.2080091746973032\n",
      "2015.25 1.1828166559005642\n",
      "2015.5 1.1721691394871134\n",
      "2015.75 1.148664003556348\n",
      "2016.0 1.1492492161627863\n",
      "2016.25 1.1693891210361607\n",
      "2016.5 1.17862275545043\n",
      "2016.75 1.199944097642784\n",
      "2017.0 1.183093357145991\n",
      "2017.25 1.1940294879161832\n",
      "2017.5 1.2023774856878138\n",
      "2017.75 1.2142565667497582\n",
      "2018.0 1.2177049580122763\n",
      "2018.25 1.2055549073424852\n",
      "2018.5 1.1763450106627018\n",
      "2018.75 1.1995252334451532\n",
      "2019.0 1.2126920545811062\n",
      "2019.25 1.216739691042605\n",
      "2019.5 1.2405598454904132\n",
      "2019.75 1.2415057930167874\n",
      "2020.0 1.2215882721122036\n",
      "2020.25 1.1845089727166305\n",
      "2020.5 1.1692458346490788\n",
      "2020.75 1.1480181089814179\n",
      "2021.0 1.2081776352417577\n",
      "2021.25 1.1893884993690715\n",
      "2021.5 1.2465609811924596\n",
      "2021.75 1.2705947722235014\n",
      "2022.0 1.2893270601936866\n"
     ]
    }
   ],
   "source": [
    "for x, y in zip(ano_frac, ind_liquidez_geral_outra_empresa):\n",
    "    print(x, y)"
   ]
  },
  {
   "cell_type": "code",
   "execution_count": 30,
   "id": "3253ed4a-bdcd-4ed8-91ec-de2a5f118fd9",
   "metadata": {},
   "outputs": [
    {
     "name": "stdout",
     "output_type": "stream",
     "text": [
      "4.976828582570825\n"
     ]
    }
   ],
   "source": [
    "print(max(ind_liquidez_geral_outra_empresa))"
   ]
  },
  {
   "cell_type": "code",
   "execution_count": null,
   "id": "fab3488a-a465-42d3-a18c-bd3a34815a28",
   "metadata": {},
   "outputs": [],
   "source": []
  },
  {
   "cell_type": "code",
   "execution_count": 31,
   "id": "6253f614-c609-40eb-95ec-5d2a74b6d7c3",
   "metadata": {},
   "outputs": [
    {
     "data": {
      "text/plain": [
       "0.6497233095911952"
      ]
     },
     "execution_count": 31,
     "metadata": {},
     "output_type": "execute_result"
    }
   ],
   "source": [
    "np.median(ind_liquidez_geral_empresa_base)"
   ]
  },
  {
   "cell_type": "code",
   "execution_count": 32,
   "id": "338d30a1-c23f-4981-955c-61bd2b2a45cb",
   "metadata": {},
   "outputs": [
    {
     "data": {
      "text/plain": [
       "0.6978464902086948"
      ]
     },
     "execution_count": 32,
     "metadata": {},
     "output_type": "execute_result"
    }
   ],
   "source": [
    "np.percentile(ind_liquidez_geral_empresa_base, 75)"
   ]
  },
  {
   "cell_type": "code",
   "execution_count": 33,
   "id": "d2ef9992-a574-43e1-97b2-5349309d46e5",
   "metadata": {},
   "outputs": [],
   "source": [
    "teste = [1]"
   ]
  },
  {
   "cell_type": "code",
   "execution_count": 34,
   "id": "a728fee5-4661-4b70-ab7c-08525c07d0e8",
   "metadata": {},
   "outputs": [
    {
     "data": {
      "text/plain": [
       "1.0"
      ]
     },
     "execution_count": 34,
     "metadata": {},
     "output_type": "execute_result"
    }
   ],
   "source": [
    "np.percentile(teste, 75)"
   ]
  },
  {
   "cell_type": "code",
   "execution_count": null,
   "id": "623aaeea-1108-4608-9c53-3dfb69c84f48",
   "metadata": {},
   "outputs": [],
   "source": []
  },
  {
   "cell_type": "code",
   "execution_count": null,
   "id": "57a632e6-b597-4938-b78c-d9fcade163e6",
   "metadata": {},
   "outputs": [],
   "source": []
  },
  {
   "cell_type": "code",
   "execution_count": null,
   "id": "1b04dd0d-dc0d-4bc4-907e-b99ab41b631f",
   "metadata": {},
   "outputs": [],
   "source": []
  },
  {
   "cell_type": "code",
   "execution_count": 35,
   "id": "fb7cfe52-26b8-4c0d-a997-8a01ddb1eb78",
   "metadata": {
    "tags": []
   },
   "outputs": [],
   "source": [
    "iochpe_indices_atividade = iochpe_valuation.get_indices_atividade(2011, 4, 2021, 4)\n",
    "embraer_indices_atividade = embraer_valuation.get_indices_atividade(2011, 4, 2021, 4)"
   ]
  },
  {
   "cell_type": "code",
   "execution_count": 36,
   "id": "bcd04a9d-7bd5-4fb6-91e9-1ba1fb065ca7",
   "metadata": {},
   "outputs": [],
   "source": [
    "indices_atividade = dict.fromkeys(iochpe_indices_atividade)\n",
    "\n",
    "for key in indices_atividade.keys():\n",
    "    indices_atividade[key] = iochpe_indices_atividade[key] + embraer_indices_atividade[key]"
   ]
  },
  {
   "cell_type": "code",
   "execution_count": 37,
   "id": "8f755892-e60e-4760-98d7-314724663ac2",
   "metadata": {},
   "outputs": [],
   "source": [
    "iochpe_ind_atividade_df = pd.DataFrame.from_dict(indices_atividade)"
   ]
  },
  {
   "cell_type": "code",
   "execution_count": 38,
   "id": "3c63a890-f2f4-4685-b963-eabe181d9931",
   "metadata": {},
   "outputs": [
    {
     "ename": "NameError",
     "evalue": "name 'index_str_array' is not defined",
     "output_type": "error",
     "traceback": [
      "\u001b[1;31m---------------------------------------------------------------------------\u001b[0m",
      "\u001b[1;31mNameError\u001b[0m                                 Traceback (most recent call last)",
      "\u001b[1;32m~\\AppData\\Local\\Temp/ipykernel_17024/3686494648.py\u001b[0m in \u001b[0;36m<module>\u001b[1;34m\u001b[0m\n\u001b[1;32m----> 1\u001b[1;33m \u001b[0miochpe_ind_atividade_df\u001b[0m \u001b[1;33m=\u001b[0m \u001b[0miochpe_ind_atividade_df\u001b[0m\u001b[1;33m.\u001b[0m\u001b[0mset_index\u001b[0m\u001b[1;33m(\u001b[0m\u001b[0mindex_str_array\u001b[0m\u001b[1;33m)\u001b[0m\u001b[1;33m\u001b[0m\u001b[1;33m\u001b[0m\u001b[0m\n\u001b[0m",
      "\u001b[1;31mNameError\u001b[0m: name 'index_str_array' is not defined"
     ]
    }
   ],
   "source": [
    "iochpe_ind_atividade_df = iochpe_ind_atividade_df.set_index(index_str_array)"
   ]
  },
  {
   "cell_type": "code",
   "execution_count": null,
   "id": "c69e3de0-7e56-43bd-ac9e-17d39e01e8c4",
   "metadata": {},
   "outputs": [],
   "source": [
    "iochpe_ind_atividade_df.rename({'prazo_medio_estoques': 'pme_iochpe'}, axis='columns')"
   ]
  },
  {
   "cell_type": "code",
   "execution_count": null,
   "id": "a99c49f8-e1c6-4667-8afa-d8f805f9b694",
   "metadata": {},
   "outputs": [],
   "source": []
  },
  {
   "cell_type": "code",
   "execution_count": null,
   "id": "c121a8fe-3025-437e-9176-0aa9deb2d612",
   "metadata": {},
   "outputs": [],
   "source": [
    "iochpe_indices_rentabilidade = iochpe_valuation.get_indices_rentabilidade(2011, 4, 2021, 4)\n",
    "embraer_indices_rentabilidade = embraer_valuation.get_indices_rentabilidade(2011, 4, 2021, 4)"
   ]
  },
  {
   "cell_type": "code",
   "execution_count": null,
   "id": "8264c6ca-ae9d-4c7b-8683-41f06a21f18d",
   "metadata": {},
   "outputs": [],
   "source": [
    "indices_rentabilidade = dict.fromkeys(iochpe_indices_rentabilidade)\n",
    "\n",
    "for key in indices_rentabilidade.keys():\n",
    "    indices_rentabilidade[key] = iochpe_indices_rentabilidade[key] + embraer_indices_rentabilidade[key]"
   ]
  },
  {
   "cell_type": "code",
   "execution_count": null,
   "id": "bb9e9416-082b-401e-9013-0f2031211377",
   "metadata": {},
   "outputs": [],
   "source": [
    "iochpe_ind_rentabilidade_df = pd.DataFrame.from_dict(indices_rentabilidade)"
   ]
  },
  {
   "cell_type": "code",
   "execution_count": null,
   "id": "c6a8860a-a55a-4af7-a1b9-578906602a21",
   "metadata": {},
   "outputs": [],
   "source": [
    "iochpe_ind_rentabilidade_df = iochpe_ind_rentabilidade_df.set_index(index_str_array)"
   ]
  },
  {
   "cell_type": "code",
   "execution_count": null,
   "id": "f3188a28-632c-4e01-8dca-da1413e41281",
   "metadata": {},
   "outputs": [],
   "source": []
  },
  {
   "cell_type": "code",
   "execution_count": null,
   "id": "f32724e4-ecad-475b-839f-04920b1c82f6",
   "metadata": {},
   "outputs": [],
   "source": []
  },
  {
   "cell_type": "code",
   "execution_count": null,
   "id": "d0b9844c-e17d-4230-a0bc-dcdf44abb0f9",
   "metadata": {},
   "outputs": [],
   "source": []
  },
  {
   "cell_type": "code",
   "execution_count": null,
   "id": "f3e46deb-5d09-4f11-8edb-83d0787c3b20",
   "metadata": {},
   "outputs": [],
   "source": []
  },
  {
   "cell_type": "code",
   "execution_count": null,
   "id": "2312411e-d128-4e93-80f2-df0e309b0d60",
   "metadata": {},
   "outputs": [],
   "source": []
  },
  {
   "cell_type": "code",
   "execution_count": null,
   "id": "ae6d7f79-c253-4171-b4ab-f3651dd33516",
   "metadata": {},
   "outputs": [],
   "source": [
    "iochpe_indices_margens = iochpe_valuation.get_indices_margens(2011, 4, 2021, 4)\n",
    "embraer_indices_margens = embraer_valuation.get_indices_margens(2011, 4, 2021, 4)"
   ]
  },
  {
   "cell_type": "code",
   "execution_count": null,
   "id": "20b6fcc6-2a9b-432a-ac83-16cb02a70310",
   "metadata": {},
   "outputs": [],
   "source": [
    "indices_margens = dict.fromkeys(iochpe_indices_margens)\n",
    "\n",
    "for key in indices_margens.keys():\n",
    "    indices_margens[key] = iochpe_indices_margens[key] + embraer_indices_margens[key]"
   ]
  },
  {
   "cell_type": "code",
   "execution_count": null,
   "id": "804ce23e-754a-4708-9658-29f499274209",
   "metadata": {},
   "outputs": [],
   "source": [
    "iochpe_ind_margens_df = pd.DataFrame.from_dict(indices_margens)"
   ]
  },
  {
   "cell_type": "code",
   "execution_count": null,
   "id": "50afc339-0b23-453d-8bf1-4ebf6420cafc",
   "metadata": {},
   "outputs": [],
   "source": [
    "iochpe_ind_margens_df = iochpe_ind_margens_df.set_index(index_str_array)"
   ]
  },
  {
   "cell_type": "code",
   "execution_count": null,
   "id": "ea83b1b1-868c-4689-9d95-8c1b4e5686f0",
   "metadata": {},
   "outputs": [],
   "source": []
  },
  {
   "cell_type": "code",
   "execution_count": null,
   "id": "b9f0dc3a-e4d2-4508-8acf-1cbe9c055182",
   "metadata": {},
   "outputs": [],
   "source": [
    "iochpe_ind_liquidez_flat_df = iochpe_ind_liquidez_df.reset_index()"
   ]
  },
  {
   "cell_type": "code",
   "execution_count": null,
   "id": "b93b370a-294d-4b98-afdb-5a21c281a501",
   "metadata": {},
   "outputs": [],
   "source": [
    "iochpe_ind_liquidez_flat_df"
   ]
  },
  {
   "cell_type": "code",
   "execution_count": null,
   "id": "e6549bd1-cdeb-4f30-854f-746b86f7b206",
   "metadata": {},
   "outputs": [],
   "source": [
    "iochpe_excel_file_name = 'out/indicadores_Iochpe.xlsx'"
   ]
  },
  {
   "cell_type": "code",
   "execution_count": null,
   "id": "d3e25416-a6c0-4839-8974-602aee5429d4",
   "metadata": {},
   "outputs": [],
   "source": [
    "with pd.ExcelWriter(iochpe_excel_file_name) as writer:\n",
    "    iochpe_ind_liquidez_flat_df.to_excel(writer, sheet_name='Iochpe_ind_liquidez')\n",
    "    iochpe_ind_atividade_df.reset_index().to_excel(writer, sheet_name='Iochpe_ind_atividade')\n",
    "    iochpe_ind_rentabilidade_df.reset_index().to_excel(writer, sheet_name='Iochpe_ind_rentabilidade')\n",
    "    iochpe_ind_margens_df.reset_index().to_excel(writer, sheet_name='Iochpe_ind_margens')"
   ]
  },
  {
   "cell_type": "code",
   "execution_count": null,
   "id": "84e4330c-a6d8-4d00-a5de-f5fd25012a92",
   "metadata": {},
   "outputs": [],
   "source": []
  },
  {
   "cell_type": "code",
   "execution_count": null,
   "id": "1a83e97d-a386-4180-ad41-6c527d0891a3",
   "metadata": {},
   "outputs": [],
   "source": []
  },
  {
   "cell_type": "code",
   "execution_count": null,
   "id": "0d983e70-8077-4b81-be00-8111f7691de6",
   "metadata": {},
   "outputs": [],
   "source": []
  },
  {
   "cell_type": "code",
   "execution_count": null,
   "id": "4c9a56ab-b55e-4241-b890-fb11fc671ed1",
   "metadata": {},
   "outputs": [],
   "source": []
  },
  {
   "cell_type": "code",
   "execution_count": null,
   "id": "0a4a7f11-52b0-485a-9291-02965445d3aa",
   "metadata": {},
   "outputs": [],
   "source": []
  },
  {
   "cell_type": "code",
   "execution_count": null,
   "id": "66ceb84f-5e4d-44f5-9b78-577919eee1e2",
   "metadata": {},
   "outputs": [],
   "source": []
  },
  {
   "cell_type": "code",
   "execution_count": null,
   "id": "106cf5d6-0d1a-470d-b6af-ad144c2a2fc6",
   "metadata": {},
   "outputs": [],
   "source": []
  },
  {
   "cell_type": "code",
   "execution_count": null,
   "id": "46a3f491-fc1c-4b0b-af43-2a14b29f39c7",
   "metadata": {},
   "outputs": [],
   "source": []
  },
  {
   "cell_type": "code",
   "execution_count": null,
   "id": "6e43abda-c952-4797-89d6-b484f0d02359",
   "metadata": {},
   "outputs": [],
   "source": []
  },
  {
   "cell_type": "code",
   "execution_count": null,
   "id": "944b5c4c-a585-4bb9-b0ac-eb41129bc98d",
   "metadata": {},
   "outputs": [],
   "source": []
  },
  {
   "cell_type": "code",
   "execution_count": null,
   "id": "caf9938a-b777-4245-bf32-e7115fbc5af5",
   "metadata": {},
   "outputs": [],
   "source": []
  },
  {
   "cell_type": "code",
   "execution_count": null,
   "id": "ed464a9e-37ad-4802-a8f2-c55c168ba4c7",
   "metadata": {},
   "outputs": [],
   "source": []
  },
  {
   "cell_type": "code",
   "execution_count": null,
   "id": "36e0de08-8d41-4e45-8332-b4a885a7b9fa",
   "metadata": {},
   "outputs": [],
   "source": []
  },
  {
   "cell_type": "code",
   "execution_count": null,
   "id": "ef0f9654-f03a-4cb6-ab52-99b932560765",
   "metadata": {},
   "outputs": [],
   "source": []
  },
  {
   "cell_type": "code",
   "execution_count": null,
   "id": "a9d8bb17-891e-4ee0-b5e7-82d4a6334377",
   "metadata": {},
   "outputs": [],
   "source": []
  },
  {
   "cell_type": "code",
   "execution_count": null,
   "id": "691bb88e-e2e8-4dab-abfc-3a26ba729ae7",
   "metadata": {},
   "outputs": [],
   "source": []
  },
  {
   "cell_type": "code",
   "execution_count": null,
   "id": "24aaabf4-f496-4c93-a087-e87db8def1e7",
   "metadata": {},
   "outputs": [],
   "source": []
  },
  {
   "cell_type": "code",
   "execution_count": null,
   "id": "bde6ebc6-27fc-4a75-856b-f7c1b3bd4d55",
   "metadata": {},
   "outputs": [],
   "source": []
  },
  {
   "cell_type": "code",
   "execution_count": null,
   "id": "35b17c6f-690a-4d5b-bb03-53a93d5e3110",
   "metadata": {},
   "outputs": [],
   "source": []
  },
  {
   "cell_type": "code",
   "execution_count": null,
   "id": "a441d674-3d14-442b-b45d-1c789f927833",
   "metadata": {},
   "outputs": [],
   "source": []
  },
  {
   "cell_type": "code",
   "execution_count": null,
   "id": "7a997480-d9a7-4533-9f7a-b58c9877456e",
   "metadata": {},
   "outputs": [],
   "source": []
  },
  {
   "cell_type": "code",
   "execution_count": null,
   "id": "e159ee25-984a-47af-8b65-b31a2fceb059",
   "metadata": {},
   "outputs": [],
   "source": []
  },
  {
   "cell_type": "code",
   "execution_count": null,
   "id": "7142be15-62a5-477b-b1aa-b4e2ff748367",
   "metadata": {},
   "outputs": [],
   "source": []
  },
  {
   "cell_type": "code",
   "execution_count": null,
   "id": "d0fa906d-9425-4cb6-abe2-495e2f898416",
   "metadata": {},
   "outputs": [],
   "source": []
  },
  {
   "cell_type": "code",
   "execution_count": null,
   "id": "cb5dcb23-0be5-4803-928c-3e40e0eb96cb",
   "metadata": {},
   "outputs": [],
   "source": []
  },
  {
   "cell_type": "code",
   "execution_count": null,
   "id": "d42fa4b7-b10d-466b-819e-c6168e810467",
   "metadata": {},
   "outputs": [],
   "source": []
  },
  {
   "cell_type": "code",
   "execution_count": null,
   "id": "879a0a2b-a2a1-44c3-88f9-892e70480e19",
   "metadata": {},
   "outputs": [],
   "source": []
  },
  {
   "cell_type": "code",
   "execution_count": null,
   "id": "ab14a36d-56ff-4557-b7f2-3b4ba022067b",
   "metadata": {},
   "outputs": [],
   "source": []
  },
  {
   "cell_type": "code",
   "execution_count": null,
   "id": "c8b45b0d-497a-40e4-9d03-90ad5d93f5bb",
   "metadata": {},
   "outputs": [],
   "source": []
  },
  {
   "cell_type": "code",
   "execution_count": null,
   "id": "ecd25a49-d41f-4aa0-878f-0fd7d902bce5",
   "metadata": {},
   "outputs": [],
   "source": []
  },
  {
   "cell_type": "code",
   "execution_count": null,
   "id": "19480236-1dfd-44bf-b6be-420e960a1c97",
   "metadata": {},
   "outputs": [],
   "source": []
  },
  {
   "cell_type": "code",
   "execution_count": null,
   "id": "6f16b70e-f478-4708-9a2f-9780e5570a23",
   "metadata": {},
   "outputs": [],
   "source": []
  },
  {
   "cell_type": "code",
   "execution_count": null,
   "id": "eaab307b-968e-4d8e-9e11-726f21315c23",
   "metadata": {},
   "outputs": [],
   "source": []
  },
  {
   "cell_type": "code",
   "execution_count": null,
   "id": "7fc9b902-2c40-4855-b888-64dc9a1c34a2",
   "metadata": {},
   "outputs": [],
   "source": []
  },
  {
   "cell_type": "code",
   "execution_count": null,
   "id": "ca4cbd08-78c2-4193-996f-579cb1210921",
   "metadata": {},
   "outputs": [],
   "source": []
  },
  {
   "cell_type": "code",
   "execution_count": null,
   "id": "90806b01-a22e-4a48-9264-9fc7d9739fd4",
   "metadata": {},
   "outputs": [],
   "source": []
  },
  {
   "cell_type": "code",
   "execution_count": null,
   "id": "69b0e828-ed62-42d9-9b3d-4a74920117f5",
   "metadata": {},
   "outputs": [],
   "source": []
  },
  {
   "cell_type": "code",
   "execution_count": null,
   "id": "5d982fd3-695c-4c9e-896e-840cde963d7d",
   "metadata": {},
   "outputs": [],
   "source": []
  }
 ],
 "metadata": {
  "kernelspec": {
   "display_name": "Python 3",
   "language": "python",
   "name": "python3"
  },
  "language_info": {
   "codemirror_mode": {
    "name": "ipython",
    "version": 3
   },
   "file_extension": ".py",
   "mimetype": "text/x-python",
   "name": "python",
   "nbconvert_exporter": "python",
   "pygments_lexer": "ipython3",
   "version": "3.8.10"
  }
 },
 "nbformat": 4,
 "nbformat_minor": 5
}
