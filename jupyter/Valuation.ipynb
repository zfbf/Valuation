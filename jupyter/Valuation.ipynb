{
 "cells": [
  {
   "cell_type": "code",
   "execution_count": 1,
   "id": "c280782f-0468-4314-8623-217e5ab3ec2f",
   "metadata": {
    "tags": []
   },
   "outputs": [],
   "source": [
    "import pandas as pd\n",
    "import numpy as np"
   ]
  },
  {
   "cell_type": "code",
   "execution_count": 2,
   "id": "cb77f960-dd3f-437a-a6fd-efb478029473",
   "metadata": {},
   "outputs": [],
   "source": [
    "from lib.importacao.economatica.empresas.iochpe.dados_2009T1_2021T4 import Iochpe2009T12021T4\n",
    "from lib.valuation.valuation import Valuation\n",
    "from lib.valuation.factories.valuation_periodo_trimestral_factory import ValuationPeriodoTrimestralFactory"
   ]
  },
  {
   "cell_type": "code",
   "execution_count": 3,
   "id": "81c2a57a-29fd-47cf-befb-0647ae799f07",
   "metadata": {},
   "outputs": [],
   "source": [
    "dados_importacao = Iochpe2009T12021T4()"
   ]
  },
  {
   "cell_type": "code",
   "execution_count": 4,
   "id": "fef59767-3b97-408e-9554-c08af2b16420",
   "metadata": {},
   "outputs": [],
   "source": [
    "dados_importacao.prepare()"
   ]
  },
  {
   "cell_type": "code",
   "execution_count": 5,
   "id": "67e7dfc8-ab34-4330-999c-95e10b8c960f",
   "metadata": {},
   "outputs": [
    {
     "data": {
      "text/plain": [
       "618215000"
      ]
     },
     "execution_count": 5,
     "metadata": {},
     "output_type": "execute_result"
    }
   ],
   "source": [
    "dados_importacao.df.at['bp.ativo.circulante', '2010T1']"
   ]
  },
  {
   "cell_type": "code",
   "execution_count": 6,
   "id": "80f5e9fa-4e2e-4433-9262-1e0b36e77b77",
   "metadata": {},
   "outputs": [
    {
     "data": {
      "text/plain": [
       "codigo_0            bp\n",
       "codigo_1         ativo\n",
       "codigo_2    circulante\n",
       "codigo_3           NaN\n",
       "codigo_4           NaN\n",
       "               ...    \n",
       "2020T4      5161926000\n",
       "2021T1      6054354000\n",
       "2021T2      6208374000\n",
       "2021T3      6953970000\n",
       "2021T4      6847514000\n",
       "Name: bp.ativo.circulante, Length: 61, dtype: object"
      ]
     },
     "execution_count": 6,
     "metadata": {},
     "output_type": "execute_result"
    }
   ],
   "source": [
    "dados_importacao.df.loc['bp.ativo.circulante']"
   ]
  },
  {
   "cell_type": "code",
   "execution_count": 7,
   "id": "4561b905-27a6-4de6-bba5-1ceb651212bd",
   "metadata": {},
   "outputs": [
    {
     "data": {
      "text/plain": [
       "686992000"
      ]
     },
     "execution_count": 7,
     "metadata": {},
     "output_type": "execute_result"
    }
   ],
   "source": [
    "dados_importacao.df.at['bp.passivo.circulante.outras_obrigacoes', '2021T4']"
   ]
  },
  {
   "cell_type": "code",
   "execution_count": 9,
   "id": "dfa95ece-e1a5-4f65-b3e5-33f191c39ad9",
   "metadata": {},
   "outputs": [
    {
     "data": {
      "text/plain": [
       "485666000"
      ]
     },
     "execution_count": 9,
     "metadata": {},
     "output_type": "execute_result"
    }
   ],
   "source": [
    "dados_importacao.df.loc['bp.passivo.circulante.outras_obrigacoes.outros_cp.outros', '2021T4']"
   ]
  },
  {
   "cell_type": "code",
   "execution_count": 11,
   "id": "ea243489-fff4-42b9-8a9e-3aaaf513052b",
   "metadata": {},
   "outputs": [
    {
     "data": {
      "text/plain": [
       "686992000"
      ]
     },
     "execution_count": 11,
     "metadata": {},
     "output_type": "execute_result"
    }
   ],
   "source": [
    "dados_importacao.df.loc['bp.passivo.circulante.outras_obrigacoes.outros_cp', '2021T4']"
   ]
  },
  {
   "cell_type": "code",
   "execution_count": 12,
   "id": "e96e5384-6b7f-4ef4-b400-9ec4f59bf7fe",
   "metadata": {},
   "outputs": [
    {
     "data": {
      "text/plain": [
       "485666000"
      ]
     },
     "execution_count": 12,
     "metadata": {},
     "output_type": "execute_result"
    }
   ],
   "source": [
    "dados_importacao.df.loc['bp.passivo.circulante.outras_obrigacoes.outros_cp.outros', '2021T4']"
   ]
  },
  {
   "cell_type": "code",
   "execution_count": 13,
   "id": "042f81d8-a001-4472-8c08-8481b8412b3b",
   "metadata": {},
   "outputs": [
    {
     "data": {
      "text/plain": [
       "int"
      ]
     },
     "execution_count": 13,
     "metadata": {},
     "output_type": "execute_result"
    }
   ],
   "source": [
    "type(dados_importacao.df.loc['bp.passivo.circulante.outras_obrigacoes.outros_cp.outros', '2021T4'])"
   ]
  },
  {
   "cell_type": "code",
   "execution_count": 15,
   "id": "8c995c04-c451-436b-b06e-d6ca85687f05",
   "metadata": {},
   "outputs": [
    {
     "data": {
      "text/plain": [
       "5166728000"
      ]
     },
     "execution_count": 15,
     "metadata": {},
     "output_type": "execute_result"
    }
   ],
   "source": [
    "dados_importacao.df.loc['bp.passivo.circulante', '2021T4']"
   ]
  },
  {
   "cell_type": "code",
   "execution_count": 16,
   "id": "e5f905f8-4f17-410e-9ebf-aa6608a3dcb3",
   "metadata": {},
   "outputs": [
    {
     "data": {
      "text/plain": [
       "201326000"
      ]
     },
     "execution_count": 16,
     "metadata": {},
     "output_type": "execute_result"
    }
   ],
   "source": [
    "dados_importacao.df.loc['bp.passivo.circulante.outras_obrigacoes.outros_cp.dividendos', '2021T4']"
   ]
  },
  {
   "cell_type": "code",
   "execution_count": 17,
   "id": "bb40b36e-1611-402a-b43a-e17d5b5d200b",
   "metadata": {},
   "outputs": [],
   "source": [
    "filter = dados_importacao.df.index.dropna(how='all')"
   ]
  },
  {
   "cell_type": "code",
   "execution_count": 18,
   "id": "6d825041-1fed-48f0-a3c9-5b4d9dba2f3c",
   "metadata": {},
   "outputs": [
    {
     "data": {
      "text/plain": [
       "Index(['bp.ativo', 'bp.ativo.circulante',\n",
       "       'bp.ativo.circulante.aplicacoes_financeiras',\n",
       "       'bp.ativo.circulante.ativos_biologicos',\n",
       "       'bp.ativo.circulante.caixa_e_equivalentes',\n",
       "       'bp.ativo.circulante.contas_a_receber',\n",
       "       'bp.ativo.circulante.despesas_antecipadas',\n",
       "       'bp.ativo.circulante.estoques',\n",
       "       'bp.ativo.circulante.impostos_a_recuperar',\n",
       "       'bp.ativo.circulante.outros',\n",
       "       ...\n",
       "       'dre.lucro_bruto', 'dre.lucro_consolidado', 'dre.lucro_liquido',\n",
       "       'dre.lucro_oper_continuadas', 'dre.operacoes_descontinuadas',\n",
       "       'dre.participacao_minoritaria', 'dre.receita_liquida_operacional',\n",
       "       'dre.resultado_financeiro',\n",
       "       'dre.resultado_financeiro.despesas_financeiras',\n",
       "       'dre.resultado_financeiro.receitas_financeiras'],\n",
       "      dtype='object', name='id', length=125)"
      ]
     },
     "execution_count": 18,
     "metadata": {},
     "output_type": "execute_result"
    }
   ],
   "source": [
    "filter"
   ]
  },
  {
   "cell_type": "code",
   "execution_count": 19,
   "id": "626c8c5a-50a5-4293-9c24-72a30c9bd2d1",
   "metadata": {},
   "outputs": [],
   "source": [
    "df = dados_importacao.df.loc[filter]"
   ]
  },
  {
   "cell_type": "code",
   "execution_count": 20,
   "id": "d68a2530-bc73-40d0-b3b8-0a6bfef8408a",
   "metadata": {},
   "outputs": [
    {
     "data": {
      "text/html": [
       "<div>\n",
       "<style scoped>\n",
       "    .dataframe tbody tr th:only-of-type {\n",
       "        vertical-align: middle;\n",
       "    }\n",
       "\n",
       "    .dataframe tbody tr th {\n",
       "        vertical-align: top;\n",
       "    }\n",
       "\n",
       "    .dataframe thead th {\n",
       "        text-align: right;\n",
       "    }\n",
       "</style>\n",
       "<table border=\"1\" class=\"dataframe\">\n",
       "  <thead>\n",
       "    <tr style=\"text-align: right;\">\n",
       "      <th></th>\n",
       "      <th>codigo_0</th>\n",
       "      <th>codigo_1</th>\n",
       "      <th>codigo_2</th>\n",
       "      <th>codigo_3</th>\n",
       "      <th>codigo_4</th>\n",
       "      <th>codigo_5</th>\n",
       "      <th>codigo_6</th>\n",
       "      <th>codigo_7</th>\n",
       "      <th>conta</th>\n",
       "      <th>2009T1</th>\n",
       "      <th>...</th>\n",
       "      <th>2019T3</th>\n",
       "      <th>2019T4</th>\n",
       "      <th>2020T1</th>\n",
       "      <th>2020T2</th>\n",
       "      <th>2020T3</th>\n",
       "      <th>2020T4</th>\n",
       "      <th>2021T1</th>\n",
       "      <th>2021T2</th>\n",
       "      <th>2021T3</th>\n",
       "      <th>2021T4</th>\n",
       "    </tr>\n",
       "    <tr>\n",
       "      <th>id</th>\n",
       "      <th></th>\n",
       "      <th></th>\n",
       "      <th></th>\n",
       "      <th></th>\n",
       "      <th></th>\n",
       "      <th></th>\n",
       "      <th></th>\n",
       "      <th></th>\n",
       "      <th></th>\n",
       "      <th></th>\n",
       "      <th></th>\n",
       "      <th></th>\n",
       "      <th></th>\n",
       "      <th></th>\n",
       "      <th></th>\n",
       "      <th></th>\n",
       "      <th></th>\n",
       "      <th></th>\n",
       "      <th></th>\n",
       "      <th></th>\n",
       "      <th></th>\n",
       "    </tr>\n",
       "  </thead>\n",
       "  <tbody>\n",
       "    <tr>\n",
       "      <th>bp.ativo</th>\n",
       "      <td>bp</td>\n",
       "      <td>ativo</td>\n",
       "      <td>NaN</td>\n",
       "      <td>NaN</td>\n",
       "      <td>NaN</td>\n",
       "      <td>NaN</td>\n",
       "      <td>NaN</td>\n",
       "      <td>NaN</td>\n",
       "      <td>Ativo total</td>\n",
       "      <td>1041442000</td>\n",
       "      <td>...</td>\n",
       "      <td>10022525000</td>\n",
       "      <td>9375411000</td>\n",
       "      <td>11717177000</td>\n",
       "      <td>11892587000</td>\n",
       "      <td>13010400000</td>\n",
       "      <td>12411803000</td>\n",
       "      <td>13652232000</td>\n",
       "      <td>13203278000</td>\n",
       "      <td>14431473000</td>\n",
       "      <td>14519530000</td>\n",
       "    </tr>\n",
       "    <tr>\n",
       "      <th>bp.ativo.circulante</th>\n",
       "      <td>bp</td>\n",
       "      <td>ativo</td>\n",
       "      <td>circulante</td>\n",
       "      <td>NaN</td>\n",
       "      <td>NaN</td>\n",
       "      <td>NaN</td>\n",
       "      <td>NaN</td>\n",
       "      <td>NaN</td>\n",
       "      <td>Ativo Circulante</td>\n",
       "      <td>525735000</td>\n",
       "      <td>...</td>\n",
       "      <td>3976211000</td>\n",
       "      <td>3357621000</td>\n",
       "      <td>4526247000</td>\n",
       "      <td>4372292000</td>\n",
       "      <td>5278408000</td>\n",
       "      <td>5161926000</td>\n",
       "      <td>6054354000</td>\n",
       "      <td>6208374000</td>\n",
       "      <td>6953970000</td>\n",
       "      <td>6847514000</td>\n",
       "    </tr>\n",
       "    <tr>\n",
       "      <th>bp.ativo.circulante.aplicacoes_financeiras</th>\n",
       "      <td>bp</td>\n",
       "      <td>ativo</td>\n",
       "      <td>circulante</td>\n",
       "      <td>aplicacoes_financeiras</td>\n",
       "      <td>NaN</td>\n",
       "      <td>NaN</td>\n",
       "      <td>NaN</td>\n",
       "      <td>NaN</td>\n",
       "      <td>Aplicacoes financeiras</td>\n",
       "      <td>-</td>\n",
       "      <td>...</td>\n",
       "      <td>0</td>\n",
       "      <td>0</td>\n",
       "      <td>0</td>\n",
       "      <td>0</td>\n",
       "      <td>0</td>\n",
       "      <td>0</td>\n",
       "      <td>0</td>\n",
       "      <td>0</td>\n",
       "      <td>0</td>\n",
       "      <td>0</td>\n",
       "    </tr>\n",
       "    <tr>\n",
       "      <th>bp.ativo.circulante.ativos_biologicos</th>\n",
       "      <td>bp</td>\n",
       "      <td>ativo</td>\n",
       "      <td>circulante</td>\n",
       "      <td>ativos_biologicos</td>\n",
       "      <td>NaN</td>\n",
       "      <td>NaN</td>\n",
       "      <td>NaN</td>\n",
       "      <td>NaN</td>\n",
       "      <td>Ativos Biologicos CP</td>\n",
       "      <td>-</td>\n",
       "      <td>...</td>\n",
       "      <td>0</td>\n",
       "      <td>0</td>\n",
       "      <td>0</td>\n",
       "      <td>0</td>\n",
       "      <td>0</td>\n",
       "      <td>0</td>\n",
       "      <td>0</td>\n",
       "      <td>0</td>\n",
       "      <td>0</td>\n",
       "      <td>0</td>\n",
       "    </tr>\n",
       "    <tr>\n",
       "      <th>bp.ativo.circulante.caixa_e_equivalentes</th>\n",
       "      <td>bp</td>\n",
       "      <td>ativo</td>\n",
       "      <td>circulante</td>\n",
       "      <td>caixa_e_equivalentes</td>\n",
       "      <td>NaN</td>\n",
       "      <td>NaN</td>\n",
       "      <td>NaN</td>\n",
       "      <td>NaN</td>\n",
       "      <td>Caixa e equivalentes de caixa</td>\n",
       "      <td>-</td>\n",
       "      <td>...</td>\n",
       "      <td>671381000</td>\n",
       "      <td>646137000</td>\n",
       "      <td>1133921000</td>\n",
       "      <td>1392574000</td>\n",
       "      <td>1641643000</td>\n",
       "      <td>1605439000</td>\n",
       "      <td>1508930000</td>\n",
       "      <td>1355258000</td>\n",
       "      <td>1006988000</td>\n",
       "      <td>1088114000</td>\n",
       "    </tr>\n",
       "    <tr>\n",
       "      <th>...</th>\n",
       "      <td>...</td>\n",
       "      <td>...</td>\n",
       "      <td>...</td>\n",
       "      <td>...</td>\n",
       "      <td>...</td>\n",
       "      <td>...</td>\n",
       "      <td>...</td>\n",
       "      <td>...</td>\n",
       "      <td>...</td>\n",
       "      <td>...</td>\n",
       "      <td>...</td>\n",
       "      <td>...</td>\n",
       "      <td>...</td>\n",
       "      <td>...</td>\n",
       "      <td>...</td>\n",
       "      <td>...</td>\n",
       "      <td>...</td>\n",
       "      <td>...</td>\n",
       "      <td>...</td>\n",
       "      <td>...</td>\n",
       "      <td>...</td>\n",
       "    </tr>\n",
       "    <tr>\n",
       "      <th>dre.participacao_minoritaria</th>\n",
       "      <td>dre</td>\n",
       "      <td>participacao_minoritaria</td>\n",
       "      <td>NaN</td>\n",
       "      <td>NaN</td>\n",
       "      <td>NaN</td>\n",
       "      <td>NaN</td>\n",
       "      <td>NaN</td>\n",
       "      <td>NaN</td>\n",
       "      <td>-Partic acion minoritar</td>\n",
       "      <td>0</td>\n",
       "      <td>...</td>\n",
       "      <td>104072000</td>\n",
       "      <td>83980000</td>\n",
       "      <td>87200000</td>\n",
       "      <td>68195000</td>\n",
       "      <td>59409000</td>\n",
       "      <td>71866000</td>\n",
       "      <td>77190000</td>\n",
       "      <td>96758000</td>\n",
       "      <td>110601000</td>\n",
       "      <td>89717000</td>\n",
       "    </tr>\n",
       "    <tr>\n",
       "      <th>dre.receita_liquida_operacional</th>\n",
       "      <td>dre</td>\n",
       "      <td>receita_liquida_operacional</td>\n",
       "      <td>NaN</td>\n",
       "      <td>NaN</td>\n",
       "      <td>NaN</td>\n",
       "      <td>NaN</td>\n",
       "      <td>NaN</td>\n",
       "      <td>NaN</td>\n",
       "      <td>+Receita liquida operac</td>\n",
       "      <td>1717761000</td>\n",
       "      <td>...</td>\n",
       "      <td>10133513000</td>\n",
       "      <td>10016395000</td>\n",
       "      <td>9772836000</td>\n",
       "      <td>8277349000</td>\n",
       "      <td>8249794000</td>\n",
       "      <td>8760568000</td>\n",
       "      <td>9669104000</td>\n",
       "      <td>11681143000</td>\n",
       "      <td>12750365000</td>\n",
       "      <td>13688367000</td>\n",
       "    </tr>\n",
       "    <tr>\n",
       "      <th>dre.resultado_financeiro</th>\n",
       "      <td>dre</td>\n",
       "      <td>resultado_financeiro</td>\n",
       "      <td>NaN</td>\n",
       "      <td>NaN</td>\n",
       "      <td>NaN</td>\n",
       "      <td>NaN</td>\n",
       "      <td>NaN</td>\n",
       "      <td>NaN</td>\n",
       "      <td>+Resultado financeiro</td>\n",
       "      <td>-46076000</td>\n",
       "      <td>...</td>\n",
       "      <td>-193827000</td>\n",
       "      <td>-169904000</td>\n",
       "      <td>-141682000</td>\n",
       "      <td>-176099000</td>\n",
       "      <td>-194234000</td>\n",
       "      <td>-232986000</td>\n",
       "      <td>-242448000</td>\n",
       "      <td>-226870000</td>\n",
       "      <td>-263386000</td>\n",
       "      <td>-324617000</td>\n",
       "    </tr>\n",
       "    <tr>\n",
       "      <th>dre.resultado_financeiro.despesas_financeiras</th>\n",
       "      <td>dre</td>\n",
       "      <td>resultado_financeiro</td>\n",
       "      <td>despesas_financeiras</td>\n",
       "      <td>NaN</td>\n",
       "      <td>NaN</td>\n",
       "      <td>NaN</td>\n",
       "      <td>NaN</td>\n",
       "      <td>NaN</td>\n",
       "      <td>-Despesas Financeiras</td>\n",
       "      <td>77599000</td>\n",
       "      <td>...</td>\n",
       "      <td>238297000</td>\n",
       "      <td>235248000</td>\n",
       "      <td>204655000</td>\n",
       "      <td>241577000</td>\n",
       "      <td>233844000</td>\n",
       "      <td>266352000</td>\n",
       "      <td>277033000</td>\n",
       "      <td>321349000</td>\n",
       "      <td>362826000</td>\n",
       "      <td>422470000</td>\n",
       "    </tr>\n",
       "    <tr>\n",
       "      <th>dre.resultado_financeiro.receitas_financeiras</th>\n",
       "      <td>dre</td>\n",
       "      <td>resultado_financeiro</td>\n",
       "      <td>receitas_financeiras</td>\n",
       "      <td>NaN</td>\n",
       "      <td>NaN</td>\n",
       "      <td>NaN</td>\n",
       "      <td>NaN</td>\n",
       "      <td>NaN</td>\n",
       "      <td>+Receitas Financeiras</td>\n",
       "      <td>31523000</td>\n",
       "      <td>...</td>\n",
       "      <td>44470000</td>\n",
       "      <td>65344000</td>\n",
       "      <td>62973000</td>\n",
       "      <td>65478000</td>\n",
       "      <td>39610000</td>\n",
       "      <td>33366000</td>\n",
       "      <td>34585000</td>\n",
       "      <td>94479000</td>\n",
       "      <td>99440000</td>\n",
       "      <td>97853000</td>\n",
       "    </tr>\n",
       "  </tbody>\n",
       "</table>\n",
       "<p>125 rows × 61 columns</p>\n",
       "</div>"
      ],
      "text/plain": [
       "                                              codigo_0  \\\n",
       "id                                                       \n",
       "bp.ativo                                            bp   \n",
       "bp.ativo.circulante                                 bp   \n",
       "bp.ativo.circulante.aplicacoes_financeiras          bp   \n",
       "bp.ativo.circulante.ativos_biologicos               bp   \n",
       "bp.ativo.circulante.caixa_e_equivalentes            bp   \n",
       "...                                                ...   \n",
       "dre.participacao_minoritaria                       dre   \n",
       "dre.receita_liquida_operacional                    dre   \n",
       "dre.resultado_financeiro                           dre   \n",
       "dre.resultado_financeiro.despesas_financeiras      dre   \n",
       "dre.resultado_financeiro.receitas_financeiras      dre   \n",
       "\n",
       "                                                                  codigo_1  \\\n",
       "id                                                                           \n",
       "bp.ativo                                                             ativo   \n",
       "bp.ativo.circulante                                                  ativo   \n",
       "bp.ativo.circulante.aplicacoes_financeiras                           ativo   \n",
       "bp.ativo.circulante.ativos_biologicos                                ativo   \n",
       "bp.ativo.circulante.caixa_e_equivalentes                             ativo   \n",
       "...                                                                    ...   \n",
       "dre.participacao_minoritaria                      participacao_minoritaria   \n",
       "dre.receita_liquida_operacional                receita_liquida_operacional   \n",
       "dre.resultado_financeiro                              resultado_financeiro   \n",
       "dre.resultado_financeiro.despesas_financeiras         resultado_financeiro   \n",
       "dre.resultado_financeiro.receitas_financeiras         resultado_financeiro   \n",
       "\n",
       "                                                           codigo_2  \\\n",
       "id                                                                    \n",
       "bp.ativo                                                        NaN   \n",
       "bp.ativo.circulante                                      circulante   \n",
       "bp.ativo.circulante.aplicacoes_financeiras               circulante   \n",
       "bp.ativo.circulante.ativos_biologicos                    circulante   \n",
       "bp.ativo.circulante.caixa_e_equivalentes                 circulante   \n",
       "...                                                             ...   \n",
       "dre.participacao_minoritaria                                    NaN   \n",
       "dre.receita_liquida_operacional                                 NaN   \n",
       "dre.resultado_financeiro                                        NaN   \n",
       "dre.resultado_financeiro.despesas_financeiras  despesas_financeiras   \n",
       "dre.resultado_financeiro.receitas_financeiras  receitas_financeiras   \n",
       "\n",
       "                                                             codigo_3  \\\n",
       "id                                                                      \n",
       "bp.ativo                                                          NaN   \n",
       "bp.ativo.circulante                                               NaN   \n",
       "bp.ativo.circulante.aplicacoes_financeiras     aplicacoes_financeiras   \n",
       "bp.ativo.circulante.ativos_biologicos               ativos_biologicos   \n",
       "bp.ativo.circulante.caixa_e_equivalentes         caixa_e_equivalentes   \n",
       "...                                                               ...   \n",
       "dre.participacao_minoritaria                                      NaN   \n",
       "dre.receita_liquida_operacional                                   NaN   \n",
       "dre.resultado_financeiro                                          NaN   \n",
       "dre.resultado_financeiro.despesas_financeiras                     NaN   \n",
       "dre.resultado_financeiro.receitas_financeiras                     NaN   \n",
       "\n",
       "                                              codigo_4 codigo_5  codigo_6  \\\n",
       "id                                                                          \n",
       "bp.ativo                                           NaN      NaN       NaN   \n",
       "bp.ativo.circulante                                NaN      NaN       NaN   \n",
       "bp.ativo.circulante.aplicacoes_financeiras         NaN      NaN       NaN   \n",
       "bp.ativo.circulante.ativos_biologicos              NaN      NaN       NaN   \n",
       "bp.ativo.circulante.caixa_e_equivalentes           NaN      NaN       NaN   \n",
       "...                                                ...      ...       ...   \n",
       "dre.participacao_minoritaria                       NaN      NaN       NaN   \n",
       "dre.receita_liquida_operacional                    NaN      NaN       NaN   \n",
       "dre.resultado_financeiro                           NaN      NaN       NaN   \n",
       "dre.resultado_financeiro.despesas_financeiras      NaN      NaN       NaN   \n",
       "dre.resultado_financeiro.receitas_financeiras      NaN      NaN       NaN   \n",
       "\n",
       "                                               codigo_7  \\\n",
       "id                                                        \n",
       "bp.ativo                                            NaN   \n",
       "bp.ativo.circulante                                 NaN   \n",
       "bp.ativo.circulante.aplicacoes_financeiras          NaN   \n",
       "bp.ativo.circulante.ativos_biologicos               NaN   \n",
       "bp.ativo.circulante.caixa_e_equivalentes            NaN   \n",
       "...                                                 ...   \n",
       "dre.participacao_minoritaria                        NaN   \n",
       "dre.receita_liquida_operacional                     NaN   \n",
       "dre.resultado_financeiro                            NaN   \n",
       "dre.resultado_financeiro.despesas_financeiras       NaN   \n",
       "dre.resultado_financeiro.receitas_financeiras       NaN   \n",
       "\n",
       "                                                                        conta  \\\n",
       "id                                                                              \n",
       "bp.ativo                                                          Ativo total   \n",
       "bp.ativo.circulante                                          Ativo Circulante   \n",
       "bp.ativo.circulante.aplicacoes_financeiras             Aplicacoes financeiras   \n",
       "bp.ativo.circulante.ativos_biologicos                    Ativos Biologicos CP   \n",
       "bp.ativo.circulante.caixa_e_equivalentes        Caixa e equivalentes de caixa   \n",
       "...                                                                       ...   \n",
       "dre.participacao_minoritaria                          -Partic acion minoritar   \n",
       "dre.receita_liquida_operacional                       +Receita liquida operac   \n",
       "dre.resultado_financeiro                                +Resultado financeiro   \n",
       "dre.resultado_financeiro.despesas_financeiras           -Despesas Financeiras   \n",
       "dre.resultado_financeiro.receitas_financeiras           +Receitas Financeiras   \n",
       "\n",
       "                                                   2009T1  ...       2019T3  \\\n",
       "id                                                         ...                \n",
       "bp.ativo                                       1041442000  ...  10022525000   \n",
       "bp.ativo.circulante                             525735000  ...   3976211000   \n",
       "bp.ativo.circulante.aplicacoes_financeiras              -  ...            0   \n",
       "bp.ativo.circulante.ativos_biologicos                   -  ...            0   \n",
       "bp.ativo.circulante.caixa_e_equivalentes                -  ...    671381000   \n",
       "...                                                   ...  ...          ...   \n",
       "dre.participacao_minoritaria                            0  ...    104072000   \n",
       "dre.receita_liquida_operacional                1717761000  ...  10133513000   \n",
       "dre.resultado_financeiro                        -46076000  ...   -193827000   \n",
       "dre.resultado_financeiro.despesas_financeiras    77599000  ...    238297000   \n",
       "dre.resultado_financeiro.receitas_financeiras    31523000  ...     44470000   \n",
       "\n",
       "                                                    2019T4       2020T1  \\\n",
       "id                                                                        \n",
       "bp.ativo                                        9375411000  11717177000   \n",
       "bp.ativo.circulante                             3357621000   4526247000   \n",
       "bp.ativo.circulante.aplicacoes_financeiras               0            0   \n",
       "bp.ativo.circulante.ativos_biologicos                    0            0   \n",
       "bp.ativo.circulante.caixa_e_equivalentes         646137000   1133921000   \n",
       "...                                                    ...          ...   \n",
       "dre.participacao_minoritaria                      83980000     87200000   \n",
       "dre.receita_liquida_operacional                10016395000   9772836000   \n",
       "dre.resultado_financeiro                        -169904000   -141682000   \n",
       "dre.resultado_financeiro.despesas_financeiras    235248000    204655000   \n",
       "dre.resultado_financeiro.receitas_financeiras     65344000     62973000   \n",
       "\n",
       "                                                    2020T2       2020T3  \\\n",
       "id                                                                        \n",
       "bp.ativo                                       11892587000  13010400000   \n",
       "bp.ativo.circulante                             4372292000   5278408000   \n",
       "bp.ativo.circulante.aplicacoes_financeiras               0            0   \n",
       "bp.ativo.circulante.ativos_biologicos                    0            0   \n",
       "bp.ativo.circulante.caixa_e_equivalentes        1392574000   1641643000   \n",
       "...                                                    ...          ...   \n",
       "dre.participacao_minoritaria                      68195000     59409000   \n",
       "dre.receita_liquida_operacional                 8277349000   8249794000   \n",
       "dre.resultado_financeiro                        -176099000   -194234000   \n",
       "dre.resultado_financeiro.despesas_financeiras    241577000    233844000   \n",
       "dre.resultado_financeiro.receitas_financeiras     65478000     39610000   \n",
       "\n",
       "                                                    2020T4       2021T1  \\\n",
       "id                                                                        \n",
       "bp.ativo                                       12411803000  13652232000   \n",
       "bp.ativo.circulante                             5161926000   6054354000   \n",
       "bp.ativo.circulante.aplicacoes_financeiras               0            0   \n",
       "bp.ativo.circulante.ativos_biologicos                    0            0   \n",
       "bp.ativo.circulante.caixa_e_equivalentes        1605439000   1508930000   \n",
       "...                                                    ...          ...   \n",
       "dre.participacao_minoritaria                      71866000     77190000   \n",
       "dre.receita_liquida_operacional                 8760568000   9669104000   \n",
       "dre.resultado_financeiro                        -232986000   -242448000   \n",
       "dre.resultado_financeiro.despesas_financeiras    266352000    277033000   \n",
       "dre.resultado_financeiro.receitas_financeiras     33366000     34585000   \n",
       "\n",
       "                                                    2021T2       2021T3  \\\n",
       "id                                                                        \n",
       "bp.ativo                                       13203278000  14431473000   \n",
       "bp.ativo.circulante                             6208374000   6953970000   \n",
       "bp.ativo.circulante.aplicacoes_financeiras               0            0   \n",
       "bp.ativo.circulante.ativos_biologicos                    0            0   \n",
       "bp.ativo.circulante.caixa_e_equivalentes        1355258000   1006988000   \n",
       "...                                                    ...          ...   \n",
       "dre.participacao_minoritaria                      96758000    110601000   \n",
       "dre.receita_liquida_operacional                11681143000  12750365000   \n",
       "dre.resultado_financeiro                        -226870000   -263386000   \n",
       "dre.resultado_financeiro.despesas_financeiras    321349000    362826000   \n",
       "dre.resultado_financeiro.receitas_financeiras     94479000     99440000   \n",
       "\n",
       "                                                    2021T4  \n",
       "id                                                          \n",
       "bp.ativo                                       14519530000  \n",
       "bp.ativo.circulante                             6847514000  \n",
       "bp.ativo.circulante.aplicacoes_financeiras               0  \n",
       "bp.ativo.circulante.ativos_biologicos                    0  \n",
       "bp.ativo.circulante.caixa_e_equivalentes        1088114000  \n",
       "...                                                    ...  \n",
       "dre.participacao_minoritaria                      89717000  \n",
       "dre.receita_liquida_operacional                13688367000  \n",
       "dre.resultado_financeiro                        -324617000  \n",
       "dre.resultado_financeiro.despesas_financeiras    422470000  \n",
       "dre.resultado_financeiro.receitas_financeiras     97853000  \n",
       "\n",
       "[125 rows x 61 columns]"
      ]
     },
     "execution_count": 20,
     "metadata": {},
     "output_type": "execute_result"
    }
   ],
   "source": [
    "df"
   ]
  },
  {
   "cell_type": "code",
   "execution_count": 21,
   "id": "31e25940-c8d2-4ca1-b55c-03fa7fa3f309",
   "metadata": {},
   "outputs": [
    {
     "data": {
      "text/plain": [
       "Index(['bp.ativo', 'bp.ativo.circulante',\n",
       "       'bp.ativo.circulante.aplicacoes_financeiras',\n",
       "       'bp.ativo.circulante.ativos_biologicos',\n",
       "       'bp.ativo.circulante.caixa_e_equivalentes',\n",
       "       'bp.ativo.circulante.contas_a_receber',\n",
       "       'bp.ativo.circulante.despesas_antecipadas',\n",
       "       'bp.ativo.circulante.estoques',\n",
       "       'bp.ativo.circulante.impostos_a_recuperar',\n",
       "       'bp.ativo.circulante.outros',\n",
       "       ...\n",
       "       'dre.lucro_bruto', 'dre.lucro_consolidado', 'dre.lucro_liquido',\n",
       "       'dre.lucro_oper_continuadas', 'dre.operacoes_descontinuadas',\n",
       "       'dre.participacao_minoritaria', 'dre.receita_liquida_operacional',\n",
       "       'dre.resultado_financeiro',\n",
       "       'dre.resultado_financeiro.despesas_financeiras',\n",
       "       'dre.resultado_financeiro.receitas_financeiras'],\n",
       "      dtype='object', name='id', length=125)"
      ]
     },
     "execution_count": 21,
     "metadata": {},
     "output_type": "execute_result"
    }
   ],
   "source": [
    "df.index"
   ]
  },
  {
   "cell_type": "code",
   "execution_count": 22,
   "id": "9e43947e-f359-4f98-8d28-3d19e316713c",
   "metadata": {},
   "outputs": [
    {
     "data": {
      "text/plain": [
       "(125, 61)"
      ]
     },
     "execution_count": 22,
     "metadata": {},
     "output_type": "execute_result"
    }
   ],
   "source": [
    "df.shape"
   ]
  },
  {
   "cell_type": "code",
   "execution_count": 23,
   "id": "794d53db-11a1-44b6-a254-33679e7e9827",
   "metadata": {},
   "outputs": [
    {
     "data": {
      "text/html": [
       "<div>\n",
       "<style scoped>\n",
       "    .dataframe tbody tr th:only-of-type {\n",
       "        vertical-align: middle;\n",
       "    }\n",
       "\n",
       "    .dataframe tbody tr th {\n",
       "        vertical-align: top;\n",
       "    }\n",
       "\n",
       "    .dataframe thead th {\n",
       "        text-align: right;\n",
       "    }\n",
       "</style>\n",
       "<table border=\"1\" class=\"dataframe\">\n",
       "  <thead>\n",
       "    <tr style=\"text-align: right;\">\n",
       "      <th></th>\n",
       "      <th>codigo_0</th>\n",
       "      <th>codigo_1</th>\n",
       "      <th>codigo_2</th>\n",
       "      <th>codigo_3</th>\n",
       "    </tr>\n",
       "    <tr>\n",
       "      <th>id</th>\n",
       "      <th></th>\n",
       "      <th></th>\n",
       "      <th></th>\n",
       "      <th></th>\n",
       "    </tr>\n",
       "  </thead>\n",
       "  <tbody>\n",
       "    <tr>\n",
       "      <th>bp.ativo.circulante</th>\n",
       "      <td>bp</td>\n",
       "      <td>ativo</td>\n",
       "      <td>circulante</td>\n",
       "      <td>NaN</td>\n",
       "    </tr>\n",
       "    <tr>\n",
       "      <th>bp.ativo.circulante.aplicacoes_financeiras</th>\n",
       "      <td>bp</td>\n",
       "      <td>ativo</td>\n",
       "      <td>circulante</td>\n",
       "      <td>aplicacoes_financeiras</td>\n",
       "    </tr>\n",
       "  </tbody>\n",
       "</table>\n",
       "</div>"
      ],
      "text/plain": [
       "                                           codigo_0 codigo_1    codigo_2  \\\n",
       "id                                                                         \n",
       "bp.ativo.circulante                              bp    ativo  circulante   \n",
       "bp.ativo.circulante.aplicacoes_financeiras       bp    ativo  circulante   \n",
       "\n",
       "                                                          codigo_3  \n",
       "id                                                                  \n",
       "bp.ativo.circulante                                            NaN  \n",
       "bp.ativo.circulante.aplicacoes_financeiras  aplicacoes_financeiras  "
      ]
     },
     "execution_count": 23,
     "metadata": {},
     "output_type": "execute_result"
    }
   ],
   "source": [
    "dados_importacao.df.iloc[[1, 2], [0, 1, 2, 3]]"
   ]
  },
  {
   "cell_type": "code",
   "execution_count": 24,
   "id": "eaac2956-aabd-42b5-bd3f-36457570fdd3",
   "metadata": {},
   "outputs": [
    {
     "data": {
      "text/plain": [
       "codigo_0                        bp\n",
       "codigo_1                     ativo\n",
       "codigo_2                circulante\n",
       "codigo_3    aplicacoes_financeiras\n",
       "Name: bp.ativo.circulante.aplicacoes_financeiras, dtype: object"
      ]
     },
     "execution_count": 24,
     "metadata": {},
     "output_type": "execute_result"
    }
   ],
   "source": [
    "dados_importacao.df.iloc[2, [0, 1, 2, 3]]"
   ]
  },
  {
   "cell_type": "code",
   "execution_count": 25,
   "id": "c7fffc2c-f5ac-4951-b52a-44286640ea0f",
   "metadata": {},
   "outputs": [
    {
     "data": {
      "text/plain": [
       "FrozenList(['id'])"
      ]
     },
     "execution_count": 25,
     "metadata": {},
     "output_type": "execute_result"
    }
   ],
   "source": [
    "dados_importacao.df.index.names"
   ]
  },
  {
   "cell_type": "code",
   "execution_count": 26,
   "id": "1260db34-c60a-4eba-9f6b-16cb00c58585",
   "metadata": {},
   "outputs": [],
   "source": [
    "df3 = dados_importacao.df.sort_index()"
   ]
  },
  {
   "cell_type": "code",
   "execution_count": null,
   "id": "2fbaadeb-1fe7-4173-9c0a-35adccdb26cb",
   "metadata": {},
   "outputs": [],
   "source": []
  },
  {
   "cell_type": "code",
   "execution_count": null,
   "id": "27f41162-97a0-4def-a2c3-ec5162ca7e29",
   "metadata": {},
   "outputs": [],
   "source": []
  },
  {
   "cell_type": "code",
   "execution_count": null,
   "id": "a71f3514-6836-4f87-826e-42b19772bb8e",
   "metadata": {},
   "outputs": [],
   "source": []
  },
  {
   "cell_type": "code",
   "execution_count": null,
   "id": "e500af91-ea2a-4918-aa1a-ba85265149b3",
   "metadata": {},
   "outputs": [],
   "source": []
  },
  {
   "cell_type": "code",
   "execution_count": null,
   "id": "fb7cfe52-26b8-4c0d-a997-8a01ddb1eb78",
   "metadata": {},
   "outputs": [],
   "source": []
  },
  {
   "cell_type": "code",
   "execution_count": null,
   "id": "bcd04a9d-7bd5-4fb6-91e9-1ba1fb065ca7",
   "metadata": {},
   "outputs": [],
   "source": []
  },
  {
   "cell_type": "code",
   "execution_count": null,
   "id": "c69e3de0-7e56-43bd-ac9e-17d39e01e8c4",
   "metadata": {},
   "outputs": [],
   "source": []
  },
  {
   "cell_type": "code",
   "execution_count": null,
   "id": "a99c49f8-e1c6-4667-8afa-d8f805f9b694",
   "metadata": {},
   "outputs": [],
   "source": []
  },
  {
   "cell_type": "code",
   "execution_count": null,
   "id": "8264c6ca-ae9d-4c7b-8683-41f06a21f18d",
   "metadata": {},
   "outputs": [],
   "source": []
  },
  {
   "cell_type": "code",
   "execution_count": null,
   "id": "bb9e9416-082b-401e-9013-0f2031211377",
   "metadata": {},
   "outputs": [],
   "source": []
  },
  {
   "cell_type": "code",
   "execution_count": null,
   "id": "ae6d7f79-c253-4171-b4ab-f3651dd33516",
   "metadata": {},
   "outputs": [],
   "source": []
  },
  {
   "cell_type": "code",
   "execution_count": 30,
   "id": "20b6fcc6-2a9b-432a-ac83-16cb02a70310",
   "metadata": {},
   "outputs": [],
   "source": [
    "dados = {\"A\": \"letra a\", \"B\": [1, 2, 3], \"C\": True}"
   ]
  },
  {
   "cell_type": "code",
   "execution_count": 31,
   "id": "b9f0dc3a-e4d2-4508-8acf-1cbe9c055182",
   "metadata": {},
   "outputs": [
    {
     "data": {
      "text/plain": [
       "{'A': 'letra a', 'B': [1, 2, 3], 'C': True}"
      ]
     },
     "execution_count": 31,
     "metadata": {},
     "output_type": "execute_result"
    }
   ],
   "source": [
    "dados"
   ]
  },
  {
   "cell_type": "code",
   "execution_count": 32,
   "id": "faf666e2-49e6-4835-a787-8c53ca209235",
   "metadata": {},
   "outputs": [],
   "source": [
    "df = pd.DataFrame(data=dados)"
   ]
  },
  {
   "cell_type": "code",
   "execution_count": 33,
   "id": "8bc1387c-5948-46a4-89ab-73266786bf00",
   "metadata": {},
   "outputs": [
    {
     "data": {
      "text/html": [
       "<div>\n",
       "<style scoped>\n",
       "    .dataframe tbody tr th:only-of-type {\n",
       "        vertical-align: middle;\n",
       "    }\n",
       "\n",
       "    .dataframe tbody tr th {\n",
       "        vertical-align: top;\n",
       "    }\n",
       "\n",
       "    .dataframe thead th {\n",
       "        text-align: right;\n",
       "    }\n",
       "</style>\n",
       "<table border=\"1\" class=\"dataframe\">\n",
       "  <thead>\n",
       "    <tr style=\"text-align: right;\">\n",
       "      <th></th>\n",
       "      <th>A</th>\n",
       "      <th>B</th>\n",
       "      <th>C</th>\n",
       "    </tr>\n",
       "  </thead>\n",
       "  <tbody>\n",
       "    <tr>\n",
       "      <th>0</th>\n",
       "      <td>letra a</td>\n",
       "      <td>1</td>\n",
       "      <td>True</td>\n",
       "    </tr>\n",
       "    <tr>\n",
       "      <th>1</th>\n",
       "      <td>letra a</td>\n",
       "      <td>2</td>\n",
       "      <td>True</td>\n",
       "    </tr>\n",
       "    <tr>\n",
       "      <th>2</th>\n",
       "      <td>letra a</td>\n",
       "      <td>3</td>\n",
       "      <td>True</td>\n",
       "    </tr>\n",
       "  </tbody>\n",
       "</table>\n",
       "</div>"
      ],
      "text/plain": [
       "         A  B     C\n",
       "0  letra a  1  True\n",
       "1  letra a  2  True\n",
       "2  letra a  3  True"
      ]
     },
     "execution_count": 33,
     "metadata": {},
     "output_type": "execute_result"
    }
   ],
   "source": [
    "df"
   ]
  },
  {
   "cell_type": "code",
   "execution_count": 34,
   "id": "4dba5f41-5a6b-4e77-92a4-289242d0195c",
   "metadata": {},
   "outputs": [],
   "source": []
  },
  {
   "cell_type": "code",
   "execution_count": null,
   "id": "2187b9ab-a0ac-4071-816b-8de14a57e4e2",
   "metadata": {},
   "outputs": [],
   "source": []
  },
  {
   "cell_type": "code",
   "execution_count": 36,
   "id": "a71f5248-589a-4760-a318-7274475415fc",
   "metadata": {},
   "outputs": [
    {
     "name": "stdout",
     "output_type": "stream",
     "text": [
      "range(0, 5)\n"
     ]
    }
   ],
   "source": [
    "print(range(0, 5))"
   ]
  },
  {
   "cell_type": "code",
   "execution_count": null,
   "id": "98d4c884-f384-417e-b86a-996f759bff83",
   "metadata": {},
   "outputs": [],
   "source": []
  },
  {
   "cell_type": "code",
   "execution_count": 42,
   "id": "008cc148-a642-49b9-85e8-74e6be1fb134",
   "metadata": {},
   "outputs": [],
   "source": [
    "df = pd.DataFrame({'field1':['foo']*6, 'field2':['bar']*6, 'field3': \n",
    "['a','a','b','b','b','c'],'value1':[0.4,0.5,0.4,0.7,.9,.4],'value2': \n",
    "[4000,4000,9000,9000,9000,10000]}, index=range(6))"
   ]
  },
  {
   "cell_type": "code",
   "execution_count": 43,
   "id": "ff4460f5-58e1-483e-b6ea-289b33008d18",
   "metadata": {},
   "outputs": [
    {
     "data": {
      "text/html": [
       "<div>\n",
       "<style scoped>\n",
       "    .dataframe tbody tr th:only-of-type {\n",
       "        vertical-align: middle;\n",
       "    }\n",
       "\n",
       "    .dataframe tbody tr th {\n",
       "        vertical-align: top;\n",
       "    }\n",
       "\n",
       "    .dataframe thead th {\n",
       "        text-align: right;\n",
       "    }\n",
       "</style>\n",
       "<table border=\"1\" class=\"dataframe\">\n",
       "  <thead>\n",
       "    <tr style=\"text-align: right;\">\n",
       "      <th></th>\n",
       "      <th>field1</th>\n",
       "      <th>field2</th>\n",
       "      <th>field3</th>\n",
       "      <th>value1</th>\n",
       "      <th>value2</th>\n",
       "    </tr>\n",
       "  </thead>\n",
       "  <tbody>\n",
       "    <tr>\n",
       "      <th>0</th>\n",
       "      <td>foo</td>\n",
       "      <td>bar</td>\n",
       "      <td>a</td>\n",
       "      <td>0.4</td>\n",
       "      <td>4000</td>\n",
       "    </tr>\n",
       "    <tr>\n",
       "      <th>1</th>\n",
       "      <td>foo</td>\n",
       "      <td>bar</td>\n",
       "      <td>a</td>\n",
       "      <td>0.5</td>\n",
       "      <td>4000</td>\n",
       "    </tr>\n",
       "    <tr>\n",
       "      <th>2</th>\n",
       "      <td>foo</td>\n",
       "      <td>bar</td>\n",
       "      <td>b</td>\n",
       "      <td>0.4</td>\n",
       "      <td>9000</td>\n",
       "    </tr>\n",
       "    <tr>\n",
       "      <th>3</th>\n",
       "      <td>foo</td>\n",
       "      <td>bar</td>\n",
       "      <td>b</td>\n",
       "      <td>0.7</td>\n",
       "      <td>9000</td>\n",
       "    </tr>\n",
       "    <tr>\n",
       "      <th>4</th>\n",
       "      <td>foo</td>\n",
       "      <td>bar</td>\n",
       "      <td>b</td>\n",
       "      <td>0.9</td>\n",
       "      <td>9000</td>\n",
       "    </tr>\n",
       "    <tr>\n",
       "      <th>5</th>\n",
       "      <td>foo</td>\n",
       "      <td>bar</td>\n",
       "      <td>c</td>\n",
       "      <td>0.4</td>\n",
       "      <td>10000</td>\n",
       "    </tr>\n",
       "  </tbody>\n",
       "</table>\n",
       "</div>"
      ],
      "text/plain": [
       "  field1 field2 field3  value1  value2\n",
       "0    foo    bar      a     0.4    4000\n",
       "1    foo    bar      a     0.5    4000\n",
       "2    foo    bar      b     0.4    9000\n",
       "3    foo    bar      b     0.7    9000\n",
       "4    foo    bar      b     0.9    9000\n",
       "5    foo    bar      c     0.4   10000"
      ]
     },
     "execution_count": 43,
     "metadata": {},
     "output_type": "execute_result"
    }
   ],
   "source": [
    "df"
   ]
  },
  {
   "cell_type": "code",
   "execution_count": 48,
   "id": "6e668a18-b231-4d93-86c2-f2ffdf3f3b3d",
   "metadata": {},
   "outputs": [
    {
     "ename": "KeyError",
     "evalue": "\"None of ['field1', 'field2', 'field3'] are in the columns\"",
     "output_type": "error",
     "traceback": [
      "\u001b[1;31m---------------------------------------------------------------------------\u001b[0m",
      "\u001b[1;31mKeyError\u001b[0m                                  Traceback (most recent call last)",
      "\u001b[1;32m~\\AppData\\Local\\Temp/ipykernel_14592/4153638854.py\u001b[0m in \u001b[0;36m<module>\u001b[1;34m\u001b[0m\n\u001b[1;32m----> 1\u001b[1;33m \u001b[0mdf\u001b[0m \u001b[1;33m=\u001b[0m \u001b[0mdf\u001b[0m\u001b[1;33m.\u001b[0m\u001b[0mset_index\u001b[0m\u001b[1;33m(\u001b[0m\u001b[1;33m[\u001b[0m\u001b[1;34m'field1'\u001b[0m\u001b[1;33m,\u001b[0m\u001b[1;34m'field2'\u001b[0m\u001b[1;33m,\u001b[0m\u001b[1;34m'field3'\u001b[0m\u001b[1;33m]\u001b[0m\u001b[1;33m)\u001b[0m\u001b[1;33m\u001b[0m\u001b[1;33m\u001b[0m\u001b[0m\n\u001b[0m",
      "\u001b[1;32mc:\\python\\venv\\venv_python-3.9.6\\lib\\site-packages\\pandas\\util\\_decorators.py\u001b[0m in \u001b[0;36mwrapper\u001b[1;34m(*args, **kwargs)\u001b[0m\n\u001b[0;32m    309\u001b[0m                     \u001b[0mstacklevel\u001b[0m\u001b[1;33m=\u001b[0m\u001b[0mstacklevel\u001b[0m\u001b[1;33m,\u001b[0m\u001b[1;33m\u001b[0m\u001b[1;33m\u001b[0m\u001b[0m\n\u001b[0;32m    310\u001b[0m                 )\n\u001b[1;32m--> 311\u001b[1;33m             \u001b[1;32mreturn\u001b[0m \u001b[0mfunc\u001b[0m\u001b[1;33m(\u001b[0m\u001b[1;33m*\u001b[0m\u001b[0margs\u001b[0m\u001b[1;33m,\u001b[0m \u001b[1;33m**\u001b[0m\u001b[0mkwargs\u001b[0m\u001b[1;33m)\u001b[0m\u001b[1;33m\u001b[0m\u001b[1;33m\u001b[0m\u001b[0m\n\u001b[0m\u001b[0;32m    312\u001b[0m \u001b[1;33m\u001b[0m\u001b[0m\n\u001b[0;32m    313\u001b[0m         \u001b[1;32mreturn\u001b[0m \u001b[0mwrapper\u001b[0m\u001b[1;33m\u001b[0m\u001b[1;33m\u001b[0m\u001b[0m\n",
      "\u001b[1;32mc:\\python\\venv\\venv_python-3.9.6\\lib\\site-packages\\pandas\\core\\frame.py\u001b[0m in \u001b[0;36mset_index\u001b[1;34m(self, keys, drop, append, inplace, verify_integrity)\u001b[0m\n\u001b[0;32m   5486\u001b[0m \u001b[1;33m\u001b[0m\u001b[0m\n\u001b[0;32m   5487\u001b[0m         \u001b[1;32mif\u001b[0m \u001b[0mmissing\u001b[0m\u001b[1;33m:\u001b[0m\u001b[1;33m\u001b[0m\u001b[1;33m\u001b[0m\u001b[0m\n\u001b[1;32m-> 5488\u001b[1;33m             \u001b[1;32mraise\u001b[0m \u001b[0mKeyError\u001b[0m\u001b[1;33m(\u001b[0m\u001b[1;34mf\"None of {missing} are in the columns\"\u001b[0m\u001b[1;33m)\u001b[0m\u001b[1;33m\u001b[0m\u001b[1;33m\u001b[0m\u001b[0m\n\u001b[0m\u001b[0;32m   5489\u001b[0m \u001b[1;33m\u001b[0m\u001b[0m\n\u001b[0;32m   5490\u001b[0m         \u001b[1;32mif\u001b[0m \u001b[0minplace\u001b[0m\u001b[1;33m:\u001b[0m\u001b[1;33m\u001b[0m\u001b[1;33m\u001b[0m\u001b[0m\n",
      "\u001b[1;31mKeyError\u001b[0m: \"None of ['field1', 'field2', 'field3'] are in the columns\""
     ]
    }
   ],
   "source": [
    "df = df.set_index(['field1','field2','field3'])"
   ]
  },
  {
   "cell_type": "code",
   "execution_count": 49,
   "id": "fc148905-99fa-41da-a9ce-e566a1bd9547",
   "metadata": {},
   "outputs": [
    {
     "data": {
      "text/plain": [
       "('foo', 'bar', 'b')"
      ]
     },
     "execution_count": 49,
     "metadata": {},
     "output_type": "execute_result"
    }
   ],
   "source": [
    "index = df.index[4]\n",
    "index"
   ]
  },
  {
   "cell_type": "code",
   "execution_count": 51,
   "id": "0f822859-20a8-4926-8da0-9eb323101a97",
   "metadata": {},
   "outputs": [
    {
     "data": {
      "text/plain": [
       "field1  field2  field3\n",
       "foo     bar     b         0.4\n",
       "                b         0.7\n",
       "                b         0.9\n",
       "Name: value1, dtype: float64"
      ]
     },
     "execution_count": 51,
     "metadata": {},
     "output_type": "execute_result"
    }
   ],
   "source": [
    "df.loc[index, 'value1']"
   ]
  },
  {
   "cell_type": "code",
   "execution_count": null,
   "id": "c08a465a-f436-4f17-8b54-b4977aeb030b",
   "metadata": {},
   "outputs": [],
   "source": []
  },
  {
   "cell_type": "code",
   "execution_count": null,
   "id": "59e0d734-c6b0-45fe-97a5-d25468ff9a94",
   "metadata": {},
   "outputs": [],
   "source": []
  },
  {
   "cell_type": "code",
   "execution_count": null,
   "id": "63e24636-8de8-4296-b2f5-e85a4b713dd5",
   "metadata": {},
   "outputs": [],
   "source": []
  },
  {
   "cell_type": "code",
   "execution_count": null,
   "id": "32ade0b4-626a-4a3e-b591-84410d4b04cb",
   "metadata": {},
   "outputs": [],
   "source": []
  },
  {
   "cell_type": "code",
   "execution_count": null,
   "id": "7cfc052a-27dd-433c-8579-abc35d8fecc3",
   "metadata": {},
   "outputs": [],
   "source": []
  },
  {
   "cell_type": "code",
   "execution_count": null,
   "id": "0113b003-608d-44d3-9d7c-50ac15c7d1ff",
   "metadata": {},
   "outputs": [],
   "source": []
  },
  {
   "cell_type": "code",
   "execution_count": null,
   "id": "4e880d96-061a-4b2a-a38e-267c7ef7e18d",
   "metadata": {},
   "outputs": [],
   "source": []
  },
  {
   "cell_type": "code",
   "execution_count": null,
   "id": "e8998f56-ba0e-4323-9a79-ed684b9e3c06",
   "metadata": {},
   "outputs": [],
   "source": []
  },
  {
   "cell_type": "code",
   "execution_count": null,
   "id": "b58dd96c-22bc-4b2b-8651-feb8b2900ab5",
   "metadata": {},
   "outputs": [],
   "source": []
  },
  {
   "cell_type": "code",
   "execution_count": null,
   "id": "921b4979-2855-4858-87a9-6afcee96248b",
   "metadata": {},
   "outputs": [],
   "source": []
  },
  {
   "cell_type": "code",
   "execution_count": null,
   "id": "9bb868cc-80d7-46e6-8777-458675718470",
   "metadata": {},
   "outputs": [],
   "source": []
  },
  {
   "cell_type": "code",
   "execution_count": null,
   "id": "5a53a6d5-37cb-49bc-8066-7c41d684c627",
   "metadata": {},
   "outputs": [],
   "source": []
  },
  {
   "cell_type": "code",
   "execution_count": null,
   "id": "6564f759-eb86-4fed-b6b2-08eabc7f0aaa",
   "metadata": {},
   "outputs": [],
   "source": []
  },
  {
   "cell_type": "code",
   "execution_count": null,
   "id": "cff60dbe-beeb-4df1-9594-ee907be6387c",
   "metadata": {},
   "outputs": [],
   "source": []
  },
  {
   "cell_type": "code",
   "execution_count": null,
   "id": "1e754320-5921-42ff-b7f7-5d4945c685d8",
   "metadata": {},
   "outputs": [],
   "source": []
  }
 ],
 "metadata": {
  "kernelspec": {
   "display_name": "Python 3 (ipykernel)",
   "language": "python",
   "name": "python3"
  },
  "language_info": {
   "codemirror_mode": {
    "name": "ipython",
    "version": 3
   },
   "file_extension": ".py",
   "mimetype": "text/x-python",
   "name": "python",
   "nbconvert_exporter": "python",
   "pygments_lexer": "ipython3",
   "version": "3.9.6"
  }
 },
 "nbformat": 4,
 "nbformat_minor": 5
}
